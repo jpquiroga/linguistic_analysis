{
 "cells": [
  {
   "cell_type": "markdown",
   "metadata": {},
   "source": [
    "# Valiate semantic similarity"
   ]
  },
  {
   "cell_type": "markdown",
   "metadata": {},
   "source": [
    "This notebook tries to validate the consistency of the semantic similarity measures that have been developed."
   ]
  },
  {
   "cell_type": "markdown",
   "metadata": {},
   "source": [
    "## Common imports and initializations"
   ]
  },
  {
   "cell_type": "code",
   "execution_count": 1,
   "metadata": {},
   "outputs": [],
   "source": [
    "import sys\n",
    "PATHS_TO_ADD = [\n",
    "    \"../src\"\n",
    "]\n",
    "for p in PATHS_TO_ADD:\n",
    "    if p not in sys.path:\n",
    "        sys.path.append(p)"
   ]
  },
  {
   "cell_type": "code",
   "execution_count": 18,
   "metadata": {},
   "outputs": [],
   "source": [
    "from linguistic_analysis.semantics.similarity import SemGraph, get_triangulation_angle_distance\n",
    "\n",
    "import numpy as np\n",
    "import os\n",
    "from gensim.models import Word2Vec\n",
    "from gensim.models import KeyedVectors\n",
    "from tqdm import tqdm\n",
    "from typing import Iterable, Tuple"
   ]
  },
  {
   "cell_type": "code",
   "execution_count": null,
   "metadata": {},
   "outputs": [],
   "source": []
  },
  {
   "cell_type": "code",
   "execution_count": null,
   "metadata": {},
   "outputs": [],
   "source": []
  },
  {
   "cell_type": "markdown",
   "metadata": {},
   "source": [
    "## 1. Validate code"
   ]
  },
  {
   "cell_type": "markdown",
   "metadata": {},
   "source": [
    "Load embedding models."
   ]
  },
  {
   "cell_type": "code",
   "execution_count": 3,
   "metadata": {},
   "outputs": [
    {
     "name": "stdout",
     "output_type": "stream",
     "text": [
      "Loading ../models/french_novels/balzac/separate/with_accents_lemmatized/Pierre Grassou - Honore de Balzac/model_w2v_sg_w10_mincount5_ep/model_w2v_sg_w10_mincount5_ep.model...\n",
      "Loading ../models/french_novels/balzac/separate/with_accents_lemmatized/Gobseck - Honore de Balzac/model_w2v_sg_w10_mincount5_ep/model_w2v_sg_w10_mincount5_ep.model...\n",
      "Loading ../models/french_novels/balzac/separate/with_accents_lemmatized/Le Contrat de mariage - Honore de Balzac/model_w2v_sg_w10_mincount5_ep/model_w2v_sg_w10_mincount5_ep.model...\n",
      "Loading ../models/french_novels/balzac/separate/with_accents_lemmatized/Une double famille - Honore de Balzac/model_w2v_sg_w10_mincount5_ep/model_w2v_sg_w10_mincount5_ep.model...\n",
      "Loading ../models/french_novels/balzac/separate/with_accents_lemmatized/Le Message - Honore de Balzac/model_w2v_sg_w10_mincount5_ep/model_w2v_sg_w10_mincount5_ep.model...\n",
      "Loading ../models/french_novels/balzac/separate/with_accents_lemmatized/La Muse du departement - Honore de Balzac/model_w2v_sg_w10_mincount5_ep/model_w2v_sg_w10_mincount5_ep.model...\n",
      "Loading ../models/french_novels/balzac/separate/with_accents_lemmatized/Les Marana - Honore de Balzac/model_w2v_sg_w10_mincount5_ep/model_w2v_sg_w10_mincount5_ep.model...\n",
      "Loading ../models/french_novels/balzac/separate/with_accents_lemmatized/Albert Savarus - Honore de Balzac/model_w2v_sg_w10_mincount5_ep/model_w2v_sg_w10_mincount5_ep.model...\n",
      "Loading ../models/french_novels/balzac/separate/with_accents_lemmatized/La derniere incarnation de Vautrin - Honore de Balzac/model_w2v_sg_w10_mincount5_ep/model_w2v_sg_w10_mincount5_ep.model...\n",
      "Loading ../models/french_novels/balzac/separate/with_accents_lemmatized/Autre etude de femme - Honore de Balzac/model_w2v_sg_w10_mincount5_ep/model_w2v_sg_w10_mincount5_ep.model...\n",
      "Loading ../models/french_novels/balzac/separate/with_accents_lemmatized/Esquisse d'homme d'affaires d'apres nature - Honore de Balzac/model_w2v_sg_w10_mincount5_ep/model_w2v_sg_w10_mincount5_ep.model...\n",
      "Loading ../models/french_novels/balzac/separate/with_accents_lemmatized/La Vieille Fille - Honore de Balzac/model_w2v_sg_w10_mincount5_ep/model_w2v_sg_w10_mincount5_ep.model...\n",
      "Loading ../models/french_novels/balzac/separate/with_accents_lemmatized/Un drame au bord de la mer - Honore de Balzac/model_w2v_sg_w10_mincount5_ep/model_w2v_sg_w10_mincount5_ep.model...\n",
      "Loading ../models/french_novels/balzac/separate/with_accents_lemmatized/Le Colonel Chabert - Honore de Balzac/model_w2v_sg_w10_mincount5_ep/model_w2v_sg_w10_mincount5_ep.model...\n",
      "Loading ../models/french_novels/balzac/separate/with_accents_lemmatized/Illusions perdues - Honore de Balzac/model_w2v_sg_w10_mincount5_ep/model_w2v_sg_w10_mincount5_ep.model...\n",
      "Loading ../models/french_novels/balzac/separate/with_accents_lemmatized/La grande Breteche - Honore de Balzac/model_w2v_sg_w10_mincount5_ep/model_w2v_sg_w10_mincount5_ep.model...\n",
      "Loading ../models/french_novels/balzac/separate/with_accents_lemmatized/Etude de femme - Honore de Balzac/model_w2v_sg_w10_mincount5_ep/model_w2v_sg_w10_mincount5_ep.model...\n",
      "Loading ../models/french_novels/balzac/separate/with_accents_lemmatized/Pierrette - Honore de Balzac/model_w2v_sg_w10_mincount5_ep/model_w2v_sg_w10_mincount5_ep.model...\n",
      "Loading ../models/french_novels/balzac/separate/with_accents_lemmatized/Ferragus - Honore de Balzac/model_w2v_sg_w10_mincount5_ep/model_w2v_sg_w10_mincount5_ep.model...\n",
      "Loading ../models/french_novels/balzac/separate/with_accents_lemmatized/Beatrix - Honore de Balzac/model_w2v_sg_w10_mincount5_ep/model_w2v_sg_w10_mincount5_ep.model...\n",
      "Loading ../models/french_novels/balzac/separate/with_accents_lemmatized/Jesus-Christ en Flandre - Honore de Balzac/model_w2v_sg_w10_mincount5_ep/model_w2v_sg_w10_mincount5_ep.model...\n",
      "Loading ../models/french_novels/balzac/separate/with_accents_lemmatized/La Duchesse de Langeais - Honore de Balzac/model_w2v_sg_w10_mincount5_ep/model_w2v_sg_w10_mincount5_ep.model...\n",
      "Loading ../models/french_novels/balzac/separate/with_accents_lemmatized/Ou menent les mauvais chemins - Honore de Balzac/model_w2v_sg_w10_mincount5_ep/model_w2v_sg_w10_mincount5_ep.model...\n",
      "Loading ../models/french_novels/balzac/separate/with_accents_lemmatized/La Femme abandonnee - Honore de Balzac/model_w2v_sg_w10_mincount5_ep/model_w2v_sg_w10_mincount5_ep.model...\n",
      "Loading ../models/french_novels/balzac/separate/with_accents_lemmatized/Sur Catherine de Medicis - Honore de Balzac/model_w2v_sg_w10_mincount5_ep/model_w2v_sg_w10_mincount5_ep.model...\n",
      "Loading ../models/french_novels/balzac/separate/with_accents_lemmatized/La Recherche de l'Absolu - Honore de Balzac/model_w2v_sg_w10_mincount5_ep/model_w2v_sg_w10_mincount5_ep.model...\n",
      "Loading ../models/french_novels/balzac/separate/with_accents_lemmatized/Une fille d'Eve - Honore de Balzac/model_w2v_sg_w10_mincount5_ep/model_w2v_sg_w10_mincount5_ep.model...\n",
      "Loading ../models/french_novels/balzac/separate/with_accents_lemmatized/Le Lys dans la vallee - Honore de Balzac/model_w2v_sg_w10_mincount5_ep/model_w2v_sg_w10_mincount5_ep.model...\n",
      "Loading ../models/french_novels/balzac/separate/with_accents_lemmatized/Louis Lambert - Honore de Balzac/model_w2v_sg_w10_mincount5_ep/model_w2v_sg_w10_mincount5_ep.model...\n",
      "Loading ../models/french_novels/balzac/separate/with_accents_lemmatized/Eugenie Grandet - Honore de Balzac/model_w2v_sg_w10_mincount5_ep/model_w2v_sg_w10_mincount5_ep.model...\n",
      "Loading ../models/french_novels/balzac/separate/with_accents_lemmatized/Le Bal de Sceaux - Honore de Balzac/model_w2v_sg_w10_mincount5_ep/model_w2v_sg_w10_mincount5_ep.model...\n",
      "Loading ../models/french_novels/balzac/separate/with_accents_lemmatized/Petites miseres de la vie conjugale - Honore de Balzac/model_w2v_sg_w10_mincount5_ep/model_w2v_sg_w10_mincount5_ep.model...\n",
      "Loading ../models/french_novels/balzac/separate/with_accents_lemmatized/L'auberge rouge - Honore de Balzac/model_w2v_sg_w10_mincount5_ep/model_w2v_sg_w10_mincount5_ep.model...\n",
      "Loading ../models/french_novels/balzac/separate/with_accents_lemmatized/Seraphita - Honore de Balzac/model_w2v_sg_w10_mincount5_ep/model_w2v_sg_w10_mincount5_ep.model...\n",
      "Loading ../models/french_novels/balzac/separate/with_accents_lemmatized/Un menage de garcon - Honore de Balzac/model_w2v_sg_w10_mincount5_ep/model_w2v_sg_w10_mincount5_ep.model...\n",
      "Loading ../models/french_novels/balzac/separate/with_accents_lemmatized/Les Chouans - Honore de Balzac/model_w2v_sg_w10_mincount5_ep/model_w2v_sg_w10_mincount5_ep.model...\n",
      "Loading ../models/french_novels/balzac/separate/with_accents_lemmatized/Un grand homme de province a Paris - Honore de Balzac/model_w2v_sg_w10_mincount5_ep/model_w2v_sg_w10_mincount5_ep.model...\n",
      "Loading ../models/french_novels/balzac/separate/with_accents_lemmatized/La Maison Nucingen - Honore de Balzac/model_w2v_sg_w10_mincount5_ep/model_w2v_sg_w10_mincount5_ep.model...\n",
      "Loading ../models/french_novels/balzac/separate/with_accents_lemmatized/Histoire de la grandeur et de la decadence - Honore de Balzac/model_w2v_sg_w10_mincount5_ep/model_w2v_sg_w10_mincount5_ep.model...\n",
      "Loading ../models/french_novels/balzac/separate/with_accents_lemmatized/Un prince de la Boheme - Honore de Balzac/model_w2v_sg_w10_mincount5_ep/model_w2v_sg_w10_mincount5_ep.model...\n",
      "Loading ../models/french_novels/balzac/separate/with_accents_lemmatized/Un debut dans la vie - Honore de Balzac/model_w2v_sg_w10_mincount5_ep/model_w2v_sg_w10_mincount5_ep.model...\n",
      "Loading ../models/french_novels/balzac/separate/with_accents_lemmatized/Sarrasine - Honore de Balzac/model_w2v_sg_w10_mincount5_ep/model_w2v_sg_w10_mincount5_ep.model...\n",
      "Loading ../models/french_novels/balzac/separate/with_accents_lemmatized/Les Paysans - Honore de Balzac/model_w2v_sg_w10_mincount5_ep/model_w2v_sg_w10_mincount5_ep.model...\n",
      "Loading ../models/french_novels/balzac/separate/with_accents_lemmatized/Melmoth reconcilie - Honore de Balzac/model_w2v_sg_w10_mincount5_ep/model_w2v_sg_w10_mincount5_ep.model...\n",
      "Loading ../models/french_novels/balzac/separate/with_accents_lemmatized/Les secrets de la princesse de Cadignan - Honore de Balzac/model_w2v_sg_w10_mincount5_ep/model_w2v_sg_w10_mincount5_ep.model...\n",
      "Loading ../models/french_novels/balzac/separate/with_accents_lemmatized/L'interdiction - Honore de Balzac/model_w2v_sg_w10_mincount5_ep/model_w2v_sg_w10_mincount5_ep.model...\n",
      "Loading ../models/french_novels/balzac/separate/with_accents_lemmatized/El Verdugo - Honore de Balzac/model_w2v_sg_w10_mincount5_ep/model_w2v_sg_w10_mincount5_ep.model...\n",
      "Loading ../models/french_novels/balzac/separate/with_accents_lemmatized/Maitre Cornelius - Honore de Balzac/model_w2v_sg_w10_mincount5_ep/model_w2v_sg_w10_mincount5_ep.model...\n",
      "Loading ../models/french_novels/balzac/separate/with_accents_lemmatized/La Messe de l'athee - Honore de Balzac/model_w2v_sg_w10_mincount5_ep/model_w2v_sg_w10_mincount5_ep.model...\n",
      "Loading ../models/french_novels/balzac/separate/with_accents_lemmatized/Le Cabinet des Antiques - Honore de Balzac/model_w2v_sg_w10_mincount5_ep/model_w2v_sg_w10_mincount5_ep.model...\n",
      "Loading ../models/french_novels/balzac/separate/with_accents_lemmatized/Avant-propos - Honore de Balzac/model_w2v_sg_w10_mincount5_ep/model_w2v_sg_w10_mincount5_ep.model...\n",
      "Loading ../models/french_novels/balzac/separate/with_accents_lemmatized/La Paix du menage - Honore de Balzac/model_w2v_sg_w10_mincount5_ep/model_w2v_sg_w10_mincount5_ep.model...\n",
      "Loading ../models/french_novels/balzac/separate/with_accents_lemmatized/L'envers de l'histoire contemporaine - Honore de Balzac/model_w2v_sg_w10_mincount5_ep/model_w2v_sg_w10_mincount5_ep.model...\n",
      "Loading ../models/french_novels/balzac/separate/with_accents_lemmatized/La Grenadiere - Honore de Balzac/model_w2v_sg_w10_mincount5_ep/model_w2v_sg_w10_mincount5_ep.model...\n",
      "Loading ../models/french_novels/balzac/separate/with_accents_lemmatized/Gambara - Honore de Balzac/model_w2v_sg_w10_mincount5_ep/model_w2v_sg_w10_mincount5_ep.model...\n"
     ]
    },
    {
     "name": "stdout",
     "output_type": "stream",
     "text": [
      "Loading ../models/french_novels/balzac/separate/with_accents_lemmatized/Le Cure de village - Honore de Balzac/model_w2v_sg_w10_mincount5_ep/model_w2v_sg_w10_mincount5_ep.model...\n",
      "Loading ../models/french_novels/balzac/separate/with_accents_lemmatized/Le Cure de Tours - Honore de Balzac/model_w2v_sg_w10_mincount5_ep/model_w2v_sg_w10_mincount5_ep.model...\n",
      "Loading ../models/french_novels/balzac/separate/with_accents_lemmatized/Les deux poetes - Honore de Balzac/model_w2v_sg_w10_mincount5_ep/model_w2v_sg_w10_mincount5_ep.model...\n",
      "Loading ../models/french_novels/balzac/separate/with_accents_lemmatized/La Peau de chagrin - Honore de Balzac/model_w2v_sg_w10_mincount5_ep/model_w2v_sg_w10_mincount5_ep.model...\n",
      "Loading ../models/french_novels/balzac/separate/with_accents_lemmatized/Les paysans - Honore de Balzac/model_w2v_sg_w10_mincount5_ep/model_w2v_sg_w10_mincount5_ep.model...\n",
      "Loading ../models/french_novels/balzac/separate/with_accents_lemmatized/Une tenebreuse affaire - Honore de Balzac/model_w2v_sg_w10_mincount5_ep/model_w2v_sg_w10_mincount5_ep.model...\n",
      "Loading ../models/french_novels/balzac/separate/with_accents_lemmatized/Modeste Mignon - Honore de Balzac/model_w2v_sg_w10_mincount5_ep/model_w2v_sg_w10_mincount5_ep.model...\n",
      "Loading ../models/french_novels/balzac/separate/with_accents_lemmatized/Ursule Mirouet - Honore de Balzac/model_w2v_sg_w10_mincount5_ep/model_w2v_sg_w10_mincount5_ep.model...\n",
      "Loading ../models/french_novels/balzac/separate/with_accents_lemmatized/Un episode sous la terreur - Honore de Balzac/model_w2v_sg_w10_mincount5_ep/model_w2v_sg_w10_mincount5_ep.model...\n",
      "Loading ../models/french_novels/balzac/separate/with_accents_lemmatized/Honorine - Honore de Balzac/model_w2v_sg_w10_mincount5_ep/model_w2v_sg_w10_mincount5_ep.model...\n",
      "Loading ../models/french_novels/balzac/separate/with_accents_lemmatized/Le pere Goriot - Honore de Balzac/model_w2v_sg_w10_mincount5_ep/model_w2v_sg_w10_mincount5_ep.model...\n",
      "Loading ../models/french_novels/balzac/separate/with_accents_lemmatized/Facino Cane - Honore de Balzac/model_w2v_sg_w10_mincount5_ep/model_w2v_sg_w10_mincount5_ep.model...\n",
      "Loading ../models/french_novels/balzac/separate/with_accents_lemmatized/Physiologie du mariage - Honore de Balzac/model_w2v_sg_w10_mincount5_ep/model_w2v_sg_w10_mincount5_ep.model...\n",
      "Loading ../models/french_novels/balzac/separate/with_accents_lemmatized/Les employes ou la femme superieure - Honore de Balzac/model_w2v_sg_w10_mincount5_ep/model_w2v_sg_w10_mincount5_ep.model...\n",
      "Loading ../models/french_novels/balzac/separate/with_accents_lemmatized/Les proscrits - Honore de Balzac/model_w2v_sg_w10_mincount5_ep/model_w2v_sg_w10_mincount5_ep.model...\n",
      "Loading ../models/french_novels/balzac/separate/with_accents_lemmatized/La Fausse Maitresse - Honore de Balzac/model_w2v_sg_w10_mincount5_ep/model_w2v_sg_w10_mincount5_ep.model...\n",
      "Loading ../models/french_novels/balzac/separate/with_accents_lemmatized/Massimilla Doni - Honore de Balzac/model_w2v_sg_w10_mincount5_ep/model_w2v_sg_w10_mincount5_ep.model...\n",
      "Loading ../models/french_novels/balzac/separate/with_accents_lemmatized/Le Medecin de campagne - Honore de Balzac/model_w2v_sg_w10_mincount5_ep/model_w2v_sg_w10_mincount5_ep.model...\n",
      "Loading ../models/french_novels/balzac/separate/with_accents_lemmatized/CODE DES GENS HONNETES (ou L'art de ne pas - Honore de Balzac/model_w2v_sg_w10_mincount5_ep/model_w2v_sg_w10_mincount5_ep.model...\n",
      "Loading ../models/french_novels/balzac/separate/with_accents_lemmatized/Le cousin Pons - Honore de Balzac/model_w2v_sg_w10_mincount5_ep/model_w2v_sg_w10_mincount5_ep.model...\n",
      "Loading ../models/french_novels/balzac/separate/with_accents_lemmatized/Madame Firmiani - Honore de Balzac/model_w2v_sg_w10_mincount5_ep/model_w2v_sg_w10_mincount5_ep.model...\n",
      "Loading ../models/french_novels/balzac/separate/with_accents_lemmatized/Le Requisitionnaire - Honore de Balzac/model_w2v_sg_w10_mincount5_ep/model_w2v_sg_w10_mincount5_ep.model...\n",
      "Loading ../models/french_novels/balzac/separate/with_accents_lemmatized/A combien l'amour revient aux vieillards - Honore de Balzac/model_w2v_sg_w10_mincount5_ep/model_w2v_sg_w10_mincount5_ep.model...\n",
      "Loading ../models/french_novels/balzac/separate/with_accents_lemmatized/Le Chef-d'oeuvre inconnu - Honore de Balzac/model_w2v_sg_w10_mincount5_ep/model_w2v_sg_w10_mincount5_ep.model...\n",
      "Loading ../models/french_novels/balzac/separate/with_accents_lemmatized/Eve et David - Honore de Balzac/model_w2v_sg_w10_mincount5_ep/model_w2v_sg_w10_mincount5_ep.model...\n",
      "Loading ../models/french_novels/balzac/separate/with_accents_lemmatized/La Femme de trente ans - Honore de Balzac/model_w2v_sg_w10_mincount5_ep/model_w2v_sg_w10_mincount5_ep.model...\n",
      "Loading ../models/french_novels/balzac/separate/with_accents_lemmatized/La Fille aux yeux d'or - Honore de Balzac/model_w2v_sg_w10_mincount5_ep/model_w2v_sg_w10_mincount5_ep.model...\n",
      "Loading ../models/french_novels/balzac/separate/with_accents_lemmatized/Les Comediens sans le savoir - Honore de Balzac/model_w2v_sg_w10_mincount5_ep/model_w2v_sg_w10_mincount5_ep.model...\n",
      "Loading ../models/french_novels/balzac/separate/with_accents_lemmatized/La Vendetta - Honore de Balzac/model_w2v_sg_w10_mincount5_ep/model_w2v_sg_w10_mincount5_ep.model...\n",
      "Loading ../models/french_novels/balzac/separate/with_accents_lemmatized/La Cousine Bette - Honore de Balzac/model_w2v_sg_w10_mincount5_ep/model_w2v_sg_w10_mincount5_ep.model...\n",
      "Loading ../models/french_novels/balzac/separate/with_accents_lemmatized/L'illustre Gaudissart - Honore de Balzac/model_w2v_sg_w10_mincount5_ep/model_w2v_sg_w10_mincount5_ep.model...\n",
      "Loading ../models/french_novels/balzac/separate/with_accents_lemmatized/Gaudissart II - Honore de Balzac/model_w2v_sg_w10_mincount5_ep/model_w2v_sg_w10_mincount5_ep.model...\n",
      "Loading ../models/french_novels/balzac/separate/with_accents_lemmatized/L'enfant maudit - Honore de Balzac/model_w2v_sg_w10_mincount5_ep/model_w2v_sg_w10_mincount5_ep.model...\n",
      "Loading ../models/french_novels/balzac/separate/with_accents_lemmatized/Z. Marcas - Honore de Balzac/model_w2v_sg_w10_mincount5_ep/model_w2v_sg_w10_mincount5_ep.model...\n",
      "Loading ../models/french_novels/balzac/separate/with_accents_lemmatized/Une passion dans le desert - Honore de Balzac/model_w2v_sg_w10_mincount5_ep/model_w2v_sg_w10_mincount5_ep.model...\n",
      "Loading ../models/french_novels/balzac/separate/with_accents_lemmatized/La maison du chat-qui-pelote - Honore de Balzac/model_w2v_sg_w10_mincount5_ep/model_w2v_sg_w10_mincount5_ep.model...\n",
      "Loading ../models/french_novels/balzac/separate/with_accents_lemmatized/Memoires de deux jeunes mariees - Honore de Balzac/model_w2v_sg_w10_mincount5_ep/model_w2v_sg_w10_mincount5_ep.model...\n",
      "Loading ../models/french_novels/balzac/separate/with_accents_lemmatized/L'Elixir de longue vie - Honore de Balzac/model_w2v_sg_w10_mincount5_ep/model_w2v_sg_w10_mincount5_ep.model...\n",
      "Loading ../models/french_novels/balzac/separate/with_accents_lemmatized/Esther heureuse - Honore de Balzac/model_w2v_sg_w10_mincount5_ep/model_w2v_sg_w10_mincount5_ep.model...\n"
     ]
    }
   ],
   "source": [
    "FULL_MODEL_PATH = \"../models/french_novels/balzac/joint/accents_lemmatized/balzac_w2v_sg_w10_mincount5_ep/balzac_w2v_sg_w10_mincount5_ep.model\"\n",
    "PARTIAL_MODELS_DIR = \"../models/french_novels/balzac/separate/with_accents_lemmatized\"\n",
    "\n",
    "full_model = KeyedVectors.load(FULL_MODEL_PATH)\n",
    "model_paths = []\n",
    "models = []\n",
    "\n",
    "for root, dirs, files in os.walk(PARTIAL_MODELS_DIR):\n",
    "    for f in files:\n",
    "        if f.endswith(\".model\"):\n",
    "            model_path = os.path.join(root, f)\n",
    "            print(\"Loading {}...\".format(model_path))\n",
    "            model_paths.append(model_path)\n",
    "            models.append(KeyedVectors.load(model_path))\n"
   ]
  },
  {
   "cell_type": "markdown",
   "metadata": {},
   "source": [
    "Initial keywords"
   ]
  },
  {
   "cell_type": "code",
   "execution_count": 4,
   "metadata": {},
   "outputs": [],
   "source": [
    "base_words = [\n",
    "    \"argent\",\n",
    "    \"payement\", \n",
    "    \"paiement\",\n",
    "    \"banque\",\n",
    "    \"banquier\",\n",
    "    \"crédit\",\n",
    "    \"créancier\",\n",
    "    \"capital\",\n",
    "    \"dépôt\",\n",
    "    \"prêt\",\n",
    "    \"remboursement\",\n",
    "    \"créance\",\n",
    "    \"prix\",\n",
    "    \"dette\",\n",
    "    \"bail\",\n",
    "    \"revenu\",\n",
    "    \"rente\",\n",
    "    \"franc\",\n",
    "#    \"louis d’or\",\n",
    "    \"écus\",\n",
    "    \"budget\"\n",
    "]"
   ]
  },
  {
   "cell_type": "markdown",
   "metadata": {},
   "source": [
    "**Build the base semgraph**\n",
    "\n",
    "- Use this semgraph to select the words to include in every other semgraph.\n",
    "- This set of words will be fixed.\n",
    "- All the rest of the semgraphs will contain the same words.\n",
    "- All links between words will be included in the semgraph.\n",
    "- Set threshold for links of the semgraph to 0.5.\n",
    "\n"
   ]
  },
  {
   "cell_type": "code",
   "execution_count": 5,
   "metadata": {},
   "outputs": [],
   "source": [
    "N_TOP_SIMILAR = 10\n",
    "SIMILARITY_THRESHOLD = 0.5"
   ]
  },
  {
   "cell_type": "code",
   "execution_count": 6,
   "metadata": {},
   "outputs": [],
   "source": [
    "full_sem_graph = SemGraph.build_from_gensim_embedding(full_model, base_words, \n",
    "                                                      n_top_similar=N_TOP_SIMILAR,\n",
    "                                                      similarity_threshold=SIMILARITY_THRESHOLD)\n"
   ]
  },
  {
   "cell_type": "code",
   "execution_count": 7,
   "metadata": {},
   "outputs": [
    {
     "data": {
      "text/plain": [
       "111"
      ]
     },
     "execution_count": 7,
     "metadata": {},
     "output_type": "execute_result"
    }
   ],
   "source": [
    "len(full_sem_graph.names)"
   ]
  },
  {
   "cell_type": "markdown",
   "metadata": {},
   "source": [
    "### 1.1. Message passing based similarity"
   ]
  },
  {
   "cell_type": "code",
   "execution_count": null,
   "metadata": {},
   "outputs": [],
   "source": []
  },
  {
   "cell_type": "markdown",
   "metadata": {},
   "source": [
    "### 1.2. Graph triangulation based similarity"
   ]
  },
  {
   "cell_type": "code",
   "execution_count": 8,
   "metadata": {},
   "outputs": [],
   "source": [
    "full_semgraph_triangulation = full_sem_graph.get_triangulation()"
   ]
  },
  {
   "cell_type": "code",
   "execution_count": 9,
   "metadata": {},
   "outputs": [
    {
     "name": "stdout",
     "output_type": "stream",
     "text": [
      "The triangulation has 67526 triangles\n",
      "\n",
      "The 100 first triangles:\n",
      "Triangle[name: acquisition_adjudication_appointement, acquisition-adjudication: 1.0, adjudication-appointement: 1.0 ,acquisition-appointement: 0.4143933653831482; cos_acquisition: 0.2071966826915741, cos_adjudication: 0.9141390693632143, cos_appointement:0.2071966826915741]\n",
      "\n",
      "Triangle[name: acquisition_adjudication_argent, acquisition-adjudication: 1.0, adjudication-argent: 1.0 ,acquisition-argent: 0.4334295392036438; cos_acquisition: 0.2167147696018219, cos_adjudication: 0.9060694172728585, cos_argent:0.2167147696018219]\n",
      "\n",
      "Triangle[name: acquisition_adjudication_bail, acquisition-adjudication: 1.0, adjudication-bail: 1.0 ,acquisition-bail: 0.349043071269989; cos_acquisition: 0.1745215356349945, cos_adjudication: 0.9390844671992067, cos_bail:0.1745215356349945]\n",
      "\n",
      "Triangle[name: acquisition_adjudication_bénéfice, acquisition-adjudication: 1.0, adjudication-bénéfice: 1.0 ,acquisition-bénéfice: 0.47105950117111206; cos_acquisition: 0.23552975058555603, cos_adjudication: 0.8890514731782115, cos_bénéfice:0.23552975058555603]\n",
      "\n",
      "Triangle[name: acquisition_adjudication_capital, acquisition-adjudication: 1.0, adjudication-capital: 1.0 ,acquisition-capital: 0.393457293510437; cos_acquisition: 0.1967286467552185, cos_adjudication: 0.9225956790917209, cos_capital:0.1967286467552185]\n",
      "\n",
      "Triangle[name: acquisition_adjudication_créance, acquisition-adjudication: 1.0, adjudication-créance: 1.0 ,acquisition-créance: 0.4647204279899597; cos_acquisition: 0.23236021399497986, cos_adjudication: 0.8920174619044143, cos_créance:0.23236021399497986]\n",
      "\n",
      "Triangle[name: acquisition_adjudication_dividende, acquisition-adjudication: 1.0, adjudication-dividende: 1.0 ,acquisition-dividende: 0.4858775734901428; cos_acquisition: 0.2429387867450714, cos_adjudication: 0.8819614917896654, cos_dividende:0.2429387867450714]\n",
      "\n",
      "Triangle[name: acquisition_adjudication_domaine, acquisition-adjudication: 1.0, adjudication-domaine: 1.0 ,acquisition-domaine: 0.447004497051239; cos_acquisition: 0.2235022485256195, cos_adjudication: 0.9000934898079844, cos_domaine:0.2235022485256195]\n",
      "\n",
      "Triangle[name: acquisition_adjudication_dépôt, acquisition-adjudication: 1.0, adjudication-dépôt: 0.4970439672470093 ,acquisition-dépôt: 1.0; cos_acquisition: 0.876473647311677, cos_adjudication: 0.24852198362350464, cos_dépôt:0.24852198362350464]\n",
      "\n",
      "Triangle[name: acquisition_adjudication_escompte, acquisition-adjudication: 1.0, adjudication-escompte: 1.0 ,acquisition-escompte: 0.4281669855117798; cos_acquisition: 0.2140834927558899, cos_adjudication: 0.9083365162588777, cos_escompte:0.2140834927558899]\n",
      "\n",
      "Triangle[name: acquisition_adjudication_exploitation, acquisition-adjudication: 1.0, adjudication-exploitation: 1.0 ,acquisition-exploitation: 0.2541564702987671; cos_acquisition: 0.12707823514938354, cos_adjudication: 0.967702244302636, cos_exploitation:0.12707823514938354]\n",
      "\n",
      "Triangle[name: acquisition_adjudication_fermage, acquisition-adjudication: 1.0, adjudication-fermage: 1.0 ,acquisition-fermage: 0.43446654081344604; cos_acquisition: 0.21723327040672302, cos_adjudication: 0.9056194124567991, cos_fermage:0.21723327040672302]\n",
      "\n",
      "Triangle[name: acquisition_adjudication_fonds, acquisition-adjudication: 1.0, adjudication-fonds: 1.0 ,acquisition-fonds: 0.37923604249954224; cos_acquisition: 0.18961802124977112, cos_adjudication: 0.9280900120346427, cos_fonds:0.18961802124977112]\n",
      "\n",
      "Triangle[name: acquisition_adjudication_fortune, acquisition-adjudication: 1.0, adjudication-fortune: 1.0 ,acquisition-fortune: 0.4888138771057129; cos_acquisition: 0.24440693855285645, cos_adjudication: 0.8805304967744405, cos_fortune:0.24440693855285645]\n",
      "\n",
      "Triangle[name: acquisition_adjudication_gain, acquisition-adjudication: 1.0, adjudication-gain: 1.0 ,acquisition-gain: 0.47819769382476807; cos_acquisition: 0.23909884691238403, cos_adjudication: 0.8856634828103367, cos_gain:0.23909884691238403]\n",
      "\n",
      "Triangle[name: acquisition_adjudication_hypothèque, acquisition-adjudication: 1.0, adjudication-hypothèque: 1.0 ,acquisition-hypothèque: 0.4852677583694458; cos_acquisition: 0.2426338791847229, cos_adjudication: 0.8822576013435466, cos_hypothèque:0.2426338791847229]\n",
      "\n",
      "Triangle[name: acquisition_adjudication_loyer, acquisition-adjudication: 1.0, adjudication-loyer: 1.0 ,acquisition-loyer: 0.4840347170829773; cos_acquisition: 0.24201735854148865, cos_adjudication: 0.8828551963292011, cos_loyer:0.24201735854148865]\n",
      "\n",
      "Triangle[name: acquisition_adjudication_paiement, acquisition-adjudication: 1.0, adjudication-paiement: 1.0 ,acquisition-paiement: 0.44973117113113403; cos_acquisition: 0.22486558556556702, cos_adjudication: 0.8988709368565093, cos_paiement:0.22486558556556702]\n",
      "\n",
      "Triangle[name: acquisition_adjudication_payement, acquisition-adjudication: 1.0, adjudication-payement: 1.0 ,acquisition-payement: 0.396573007106781; cos_acquisition: 0.1982865035533905, cos_adjudication: 0.9213649250171425, cos_payement:0.1982865035533905]\n",
      "\n",
      "Triangle[name: acquisition_adjudication_placement, acquisition-adjudication: 1.0, adjudication-placement: 1.0 ,acquisition-placement: 0.3781622052192688; cos_acquisition: 0.1890811026096344, cos_adjudication: 0.9284966732718498, cos_placement:0.1890811026096344]\n",
      "\n",
      "Triangle[name: acquisition_adjudication_prix, acquisition-adjudication: 1.0, adjudication-prix: 1.0 ,acquisition-prix: 0.4453622102737427; cos_acquisition: 0.22268110513687134, cos_adjudication: 0.9008262508300433, cos_prix:0.22268110513687134]\n",
      "\n",
      "Triangle[name: acquisition_adjudication_procédure, acquisition-adjudication: 1.0, adjudication-procédure: 0.49388545751571655 ,acquisition-procédure: 1.0; cos_acquisition: 0.8780385774272457, cos_adjudication: 0.24694272875785828, cos_procédure:0.24694272875785828]\n",
      "\n",
      "Triangle[name: acquisition_adjudication_produit, acquisition-adjudication: 1.0, adjudication-produit: 1.0 ,acquisition-produit: 0.44427287578582764; cos_acquisition: 0.22213643789291382, cos_adjudication: 0.9013108059204953, cos_produit:0.22213643789291382]\n",
      "\n",
      "Triangle[name: acquisition_adjudication_propriété, acquisition-adjudication: 1.0, adjudication-propriété: 1.0 ,acquisition-propriété: 0.4548048973083496; cos_acquisition: 0.2274024486541748, cos_adjudication: 0.8965762526921708, cos_propriété:0.2274024486541748]\n",
      "\n",
      "Triangle[name: acquisition_adjudication_renouvellement, acquisition-adjudication: 1.0, adjudication-renouvellement: 1.0 ,acquisition-renouvellement: 0.4756219983100891; cos_acquisition: 0.23781099915504456, cos_adjudication: 0.8868918573617588, cos_renouvellement:0.23781099915504456]\n",
      "\n",
      "Triangle[name: acquisition_adjudication_revenu, acquisition-adjudication: 1.0, adjudication-revenu: 1.0 ,acquisition-revenu: 0.39372217655181885; cos_acquisition: 0.19686108827590942, cos_adjudication: 0.9224914238456492, cos_revenu:0.19686108827590942]\n",
      "\n",
      "Triangle[name: acquisition_adjudication_somme, acquisition-adjudication: 1.0, adjudication-somme: 1.0 ,acquisition-somme: 0.3471441864967346; cos_acquisition: 0.1735720932483673, cos_adjudication: 0.9397454568907602, cos_somme:0.1735720932483673]\n",
      "\n",
      "Triangle[name: acquisition_adjudication_spéculation, acquisition-adjudication: 1.0, adjudication-spéculation: 1.0 ,acquisition-spéculation: 0.49302637577056885; cos_acquisition: 0.24651318788528442, cos_adjudication: 0.8784624963972689, cos_spéculation:0.24651318788528442]\n",
      "\n",
      "Triangle[name: acquisition_adjudication_succession, acquisition-adjudication: 1.0, adjudication-succession: 1.0 ,acquisition-succession: 0.49153566360473633; cos_acquisition: 0.24576783180236816, cos_adjudication: 0.8791963457023257, cos_succession:0.24576783180236816]\n",
      "\n",
      "Triangle[name: acquisition_adjudication_tripler, acquisition-adjudication: 1.0, adjudication-tripler: 0.446144163608551 ,acquisition-tripler: 1.0; cos_acquisition: 0.9004776926390132, cos_adjudication: 0.2230720818042755, cos_tripler:0.2230720818042755]\n",
      "\n",
      "Triangle[name: acquisition_adjudication_valeur, acquisition-adjudication: 1.0, adjudication-valeur: 1.0 ,acquisition-valeur: 0.48598188161849976; cos_acquisition: 0.24299094080924988, cos_adjudication: 0.8819108053692712, cos_valeur:0.24299094080924988]\n",
      "\n",
      "Triangle[name: acquisition_adjudication_vente, acquisition-adjudication: 0.7643330693244934, adjudication-vente: 0.4539780020713806 ,acquisition-vente: 0.3103550672531128; cos_acquisition: 1.0, cos_adjudication: 1.0, cos_vente:-1.0]\n",
      "\n",
      "Triangle[name: acquisition_adjudication_économie, acquisition-adjudication: 1.0, adjudication-économie: 1.0 ,acquisition-économie: 0.3826856017112732; cos_acquisition: 0.1913428008556366, cos_adjudication: 0.9267758651214404, cos_économie:0.1913428008556366]\n",
      "\n",
      "Triangle[name: acquisition_appointement_argent, acquisition-appointement: 0.4143933653831482, appointement-argent: 0.4715917706489563 ,acquisition-argent: 0.4334295392036438; cos_acquisition: 0.38189404833248053, cos_appointement: 0.5277216853197391, cos_argent:0.583502928638226]\n",
      "\n",
      "Triangle[name: acquisition_appointement_arpent, acquisition-appointement: 0.4143933653831482, appointement-arpent: 1.0 ,acquisition-arpent: 1.0; cos_acquisition: 0.2071966826915741, cos_appointement: 0.2071966826915741, cos_arpent:0.9141390693632143]\n",
      "\n",
      "Triangle[name: acquisition_appointement_bail, acquisition-appointement: 0.4143933653831482, appointement-bail: 0.44506144523620605 ,acquisition-bail: 0.349043071269989; cos_acquisition: 0.3300348762514219, cos_appointement: 0.6722599356844969, cos_bail:0.47696517071634764]\n",
      "\n",
      "Triangle[name: acquisition_appointement_balance, acquisition-appointement: 0.4143933653831482, appointement-balance: 1.0 ,acquisition-balance: 1.0; cos_acquisition: 0.2071966826915741, cos_appointement: 0.2071966826915741, cos_balance:0.9141390693632143]\n",
      "\n",
      "Triangle[name: acquisition_appointement_banque, acquisition-appointement: 0.4143933653831482, appointement-banque: 1.0 ,acquisition-banque: 1.0; cos_acquisition: 0.2071966826915741, cos_appointement: 0.2071966826915741, cos_banque:0.9141390693632143]\n",
      "\n",
      "Triangle[name: acquisition_appointement_banquier, acquisition-appointement: 0.4143933653831482, appointement-banquier: 1.0 ,acquisition-banquier: 1.0; cos_acquisition: 0.2071966826915741, cos_appointement: 0.2071966826915741, cos_banquier:0.9141390693632143]\n",
      "\n",
      "Triangle[name: acquisition_appointement_bilan, acquisition-appointement: 0.4143933653831482, appointement-bilan: 1.0 ,acquisition-bilan: 1.0; cos_acquisition: 0.2071966826915741, cos_appointement: 0.2071966826915741, cos_bilan:0.9141390693632143]\n",
      "\n",
      "Triangle[name: acquisition_appointement_billet, acquisition-appointement: 0.4143933653831482, appointement-billet: 1.0 ,acquisition-billet: 1.0; cos_acquisition: 0.2071966826915741, cos_appointement: 0.2071966826915741, cos_billet:0.9141390693632143]\n",
      "\n",
      "Triangle[name: acquisition_appointement_bordereau, acquisition-appointement: 0.4143933653831482, appointement-bordereau: 1.0 ,acquisition-bordereau: 1.0; cos_acquisition: 0.2071966826915741, cos_appointement: 0.2071966826915741, cos_bordereau:0.9141390693632143]\n",
      "\n",
      "Triangle[name: acquisition_appointement_bourse, acquisition-appointement: 0.4143933653831482, appointement-bourse: 1.0 ,acquisition-bourse: 1.0; cos_acquisition: 0.2071966826915741, cos_appointement: 0.2071966826915741, cos_bourse:0.9141390693632143]\n",
      "\n",
      "Triangle[name: acquisition_appointement_budget, acquisition-appointement: 0.4143933653831482, appointement-budget: 1.0 ,acquisition-budget: 1.0; cos_acquisition: 0.2071966826915741, cos_appointement: 0.2071966826915741, cos_budget:0.9141390693632143]\n",
      "\n",
      "Triangle[name: acquisition_appointement_bénéfice, acquisition-appointement: 0.4143933653831482, appointement-bénéfice: 0.3905200958251953 ,acquisition-bénéfice: 0.47105950117111206; cos_acquisition: 0.6175925024172054, cos_appointement: 0.31616951493002937, cos_bénéfice:0.5508891039383136]\n",
      "\n",
      "Triangle[name: acquisition_appointement_caisse, acquisition-appointement: 0.4143933653831482, appointement-caisse: 1.0 ,acquisition-caisse: 1.0; cos_acquisition: 0.2071966826915741, cos_appointement: 0.2071966826915741, cos_caisse:0.9141390693632143]\n",
      "\n",
      "Triangle[name: acquisition_appointement_caissier, acquisition-appointement: 0.4143933653831482, appointement-caissier: 1.0 ,acquisition-caissier: 1.0; cos_acquisition: 0.2071966826915741, cos_appointement: 0.2071966826915741, cos_caissier:0.9141390693632143]\n",
      "\n",
      "Triangle[name: acquisition_appointement_capital, acquisition-appointement: 0.4143933653831482, appointement-capital: 0.326789915561676 ,acquisition-capital: 0.393457293510437; cos_acquisition: 0.6738550169839467, cos_appointement: 0.45674663468629795, cos_capital:0.34950969966692413]\n",
      "\n",
      "Triangle[name: acquisition_appointement_capitaliste, acquisition-appointement: 0.4143933653831482, appointement-capitaliste: 1.0 ,acquisition-capitaliste: 1.0; cos_acquisition: 0.2071966826915741, cos_appointement: 0.2071966826915741, cos_capitaliste:0.9141390693632143]\n",
      "\n",
      "Triangle[name: acquisition_appointement_cartouche, acquisition-appointement: 0.4143933653831482, appointement-cartouche: 1.0 ,acquisition-cartouche: 1.0; cos_acquisition: 0.2071966826915741, cos_appointement: 0.2071966826915741, cos_cartouche:0.9141390693632143]\n",
      "\n",
      "Triangle[name: acquisition_appointement_cautionnement, acquisition-appointement: 0.4143933653831482, appointement-cautionnement: 0.46830475330352783 ,acquisition-cautionnement: 0.882698118686676; cos_acquisition: 1.0, cos_appointement: -1.0, cos_cautionnement:1.0]\n",
      "\n",
      "Triangle[name: acquisition_appointement_cent, acquisition-appointement: 0.4143933653831482, appointement-cent: 0.4839467406272888 ,acquisition-cent: 0.898340106010437; cos_acquisition: 1.0, cos_appointement: -1.0, cos_cent:1.0]\n",
      "\n",
      "Triangle[name: acquisition_appointement_charte, acquisition-appointement: 0.4143933653831482, appointement-charte: 1.0 ,acquisition-charte: 1.0; cos_acquisition: 0.2071966826915741, cos_appointement: 0.2071966826915741, cos_charte:0.9141390693632143]\n",
      "\n",
      "Triangle[name: acquisition_appointement_chiffre, acquisition-appointement: 0.4143933653831482, appointement-chiffre: 1.0 ,acquisition-chiffre: 1.0; cos_acquisition: 0.2071966826915741, cos_appointement: 0.2071966826915741, cos_chiffre:0.9141390693632143]\n",
      "\n",
      "Triangle[name: acquisition_appointement_client, acquisition-appointement: 0.4143933653831482, appointement-client: 1.0 ,acquisition-client: 1.0; cos_acquisition: 0.2071966826915741, cos_appointement: 0.2071966826915741, cos_client:0.9141390693632143]\n",
      "\n",
      "Triangle[name: acquisition_appointement_code, acquisition-appointement: 0.4143933653831482, appointement-code: 1.0 ,acquisition-code: 1.0; cos_acquisition: 0.2071966826915741, cos_appointement: 0.2071966826915741, cos_code:0.9141390693632143]\n",
      "\n",
      "Triangle[name: acquisition_appointement_commission, acquisition-appointement: 0.4143933653831482, appointement-commission: 1.0 ,acquisition-commission: 1.0; cos_acquisition: 0.2071966826915741, cos_appointement: 0.2071966826915741, cos_commission:0.9141390693632143]\n",
      "\n",
      "Triangle[name: acquisition_appointement_comptant, acquisition-appointement: 0.4143933653831482, appointement-comptant: 1.0 ,acquisition-comptant: 1.0; cos_acquisition: 0.2071966826915741, cos_appointement: 0.2071966826915741, cos_comptant:0.9141390693632143]\n",
      "\n",
      "Triangle[name: acquisition_appointement_concordat, acquisition-appointement: 0.4143933653831482, appointement-concordat: 1.0 ,acquisition-concordat: 1.0; cos_acquisition: 0.2071966826915741, cos_appointement: 0.2071966826915741, cos_concordat:0.9141390693632143]\n",
      "\n",
      "Triangle[name: acquisition_appointement_créance, acquisition-appointement: 0.4143933653831482, appointement-créance: 0.3682469129562378 ,acquisition-créance: 0.4647204279899597; cos_acquisition: 0.6544942211490334, cos_appointement: 0.2993549353308888, cos_créance:0.5254690759272841]\n",
      "\n",
      "Triangle[name: acquisition_appointement_créancier, acquisition-appointement: 0.4143933653831482, appointement-créancier: 1.0 ,acquisition-créancier: 1.0; cos_acquisition: 0.2071966826915741, cos_appointement: 0.2071966826915741, cos_créancier:0.9141390693632143]\n",
      "\n",
      "Triangle[name: acquisition_appointement_crédit, acquisition-appointement: 0.4143933653831482, appointement-crédit: 0.49820971488952637 ,acquisition-crédit: 0.9126030802726746; cos_acquisition: 1.0, cos_appointement: -1.0, cos_crédit:1.0]\n",
      "\n",
      "Triangle[name: acquisition_appointement_dette, acquisition-appointement: 0.4143933653831482, appointement-dette: 0.4973791241645813 ,acquisition-dette: 0.9117724895477295; cos_acquisition: 1.0, cos_appointement: -1.0, cos_dette:1.0]\n",
      "\n",
      "Triangle[name: acquisition_appointement_dividende, acquisition-appointement: 0.4143933653831482, appointement-dividende: 0.47020888328552246 ,acquisition-dividende: 0.4858775734901428; cos_acquisition: 0.46363952522745044, cos_appointement: 0.4022070288635393, cos_dividende:0.6247190147790621]\n",
      "\n",
      "Triangle[name: acquisition_appointement_domaine, acquisition-appointement: 0.4143933653831482, appointement-domaine: 0.8613978624343872 ,acquisition-domaine: 0.447004497051239; cos_acquisition: -1.0, cos_appointement: 1.0, cos_domaine:1.0]\n",
      "\n",
      "Triangle[name: acquisition_appointement_domicile, acquisition-appointement: 0.4143933653831482, appointement-domicile: 1.0 ,acquisition-domicile: 1.0; cos_acquisition: 0.2071966826915741, cos_appointement: 0.2071966826915741, cos_domicile:0.9141390693632143]\n",
      "\n",
      "Triangle[name: acquisition_appointement_dot, acquisition-appointement: 0.4143933653831482, appointement-dot: 1.0 ,acquisition-dot: 1.0; cos_acquisition: 0.2071966826915741, cos_appointement: 0.2071966826915741, cos_dot:0.9141390693632143]\n",
      "\n",
      "Triangle[name: acquisition_appointement_droguist, acquisition-appointement: 0.4143933653831482, appointement-droguist: 1.0 ,acquisition-droguist: 1.0; cos_acquisition: 0.2071966826915741, cos_appointement: 0.2071966826915741, cos_droguist:0.9141390693632143]\n",
      "\n",
      "Triangle[name: acquisition_appointement_droi, acquisition-appointement: 0.4143933653831482, appointement-droi: 1.0 ,acquisition-droi: 1.0; cos_acquisition: 0.2071966826915741, cos_appointement: 0.2071966826915741, cos_droi:0.9141390693632143]\n",
      "\n",
      "Triangle[name: acquisition_appointement_ducat, acquisition-appointement: 0.4143933653831482, appointement-ducat: 1.0 ,acquisition-ducat: 1.0; cos_acquisition: 0.2071966826915741, cos_appointement: 0.2071966826915741, cos_ducat:0.9141390693632143]\n",
      "\n",
      "Triangle[name: acquisition_appointement_débiteur, acquisition-appointement: 0.4143933653831482, appointement-débiteur: 1.0 ,acquisition-débiteur: 1.0; cos_acquisition: 0.2071966826915741, cos_appointement: 0.2071966826915741, cos_débiteur:0.9141390693632143]\n",
      "\n",
      "Triangle[name: acquisition_appointement_déposer, acquisition-appointement: 0.4143933653831482, appointement-déposer: 1.0 ,acquisition-déposer: 1.0; cos_acquisition: 0.2071966826915741, cos_appointement: 0.2071966826915741, cos_déposer:0.9141390693632143]\n",
      "\n",
      "Triangle[name: acquisition_appointement_dépôt, acquisition-appointement: 0.4143933653831482, appointement-dépôt: 1.0 ,acquisition-dépôt: 1.0; cos_acquisition: 0.2071966826915741, cos_appointement: 0.2071966826915741, cos_dépôt:0.9141390693632143]\n",
      "\n",
      "Triangle[name: acquisition_appointement_empoigneur, acquisition-appointement: 0.4143933653831482, appointement-empoigneur: 1.0 ,acquisition-empoigneur: 1.0; cos_acquisition: 0.2071966826915741, cos_appointement: 0.2071966826915741, cos_empoigneur:0.9141390693632143]\n",
      "\n",
      "Triangle[name: acquisition_appointement_escompte, acquisition-appointement: 0.4143933653831482, appointement-escompte: 0.842560350894928 ,acquisition-escompte: 0.4281669855117798; cos_acquisition: -1.0, cos_appointement: 1.0, cos_escompte:1.0]\n",
      "\n",
      "Triangle[name: acquisition_appointement_exemplaire, acquisition-appointement: 0.4143933653831482, appointement-exemplaire: 1.0 ,acquisition-exemplaire: 1.0; cos_acquisition: 0.2071966826915741, cos_appointement: 0.2071966826915741, cos_exemplaire:0.9141390693632143]\n",
      "\n",
      "Triangle[name: acquisition_appointement_exploitation, acquisition-appointement: 0.4143933653831482, appointement-exploitation: 0.43326497077941895 ,acquisition-exploitation: 0.2541564702987671; cos_acquisition: 0.23071823657007234, cos_appointement: 0.8211022278190643, cos_exploitation:0.3659385698917917]\n",
      "\n",
      "Triangle[name: acquisition_appointement_failli, acquisition-appointement: 0.4143933653831482, appointement-failli: 1.0 ,acquisition-failli: 1.0; cos_acquisition: 0.2071966826915741, cos_appointement: 0.2071966826915741, cos_failli:0.9141390693632143]\n",
      "\n",
      "Triangle[name: acquisition_appointement_fermage, acquisition-appointement: 0.4143933653831482, appointement-fermage: 0.45166051387786865 ,acquisition-fermage: 0.43446654081344604; cos_acquisition: 0.43458612356076376, cos_appointement: 0.4994464396663561, cos_fermage:0.5632038371879223]\n",
      "\n",
      "Triangle[name: acquisition_appointement_fisc, acquisition-appointement: 0.4143933653831482, appointement-fisc: 1.0 ,acquisition-fisc: 1.0; cos_acquisition: 0.2071966826915741, cos_appointement: 0.2071966826915741, cos_fisc:0.9141390693632143]\n",
      "\n",
      "Triangle[name: acquisition_appointement_fonds, acquisition-appointement: 0.4143933653831482, appointement-fonds: 0.328088641166687 ,acquisition-fonds: 0.37923604249954224; cos_acquisition: 0.6614567113925852, cos_appointement: 0.49847851875729043, cos_fonds:0.3204401390930382]\n",
      "\n",
      "Triangle[name: acquisition_appointement_fortune, acquisition-appointement: 0.4143933653831482, appointement-fortune: 0.45359688997268677 ,acquisition-fortune: 0.4888138771057129; cos_acquisition: 0.5057994848768623, cos_appointement: 0.36850243429244356, cos_fortune:0.6155552044797749]\n",
      "\n",
      "Triangle[name: acquisition_appointement_franc, acquisition-appointement: 0.4143933653831482, appointement-franc: 1.0 ,acquisition-franc: 1.0; cos_acquisition: 0.2071966826915741, cos_appointement: 0.2071966826915741, cos_franc:0.9141390693632143]\n",
      "\n",
      "Triangle[name: acquisition_appointement_gain, acquisition-appointement: 0.4143933653831482, appointement-gain: 0.49687957763671875 ,acquisition-gain: 0.47819769382476807; cos_acquisition: 0.3873235494821245, cos_appointement: 0.4612307439697779, cos_gain:0.6393770220417427]\n",
      "\n",
      "Triangle[name: acquisition_appointement_garantie, acquisition-appointement: 0.4143933653831482, appointement-garantie: 0.4641221761703491 ,acquisition-garantie: 0.8785155415534973; cos_acquisition: 1.0, cos_appointement: -1.0, cos_garantie:1.0]\n",
      "\n",
      "Triangle[name: acquisition_appointement_hausse, acquisition-appointement: 0.4143933653831482, appointement-hausse: 1.0 ,acquisition-hausse: 1.0; cos_acquisition: 0.2071966826915741, cos_appointement: 0.2071966826915741, cos_hausse:0.9141390693632143]\n",
      "\n",
      "Triangle[name: acquisition_appointement_hypothèque, acquisition-appointement: 0.4143933653831482, appointement-hypothèque: 0.4926108121871948 ,acquisition-hypothèque: 0.4852677583694458; cos_acquisition: 0.40911985422598945, cos_appointement: 0.43819722482347706, cos_hypothèque:0.640934379271593]\n",
      "\n",
      "Triangle[name: acquisition_appointement_impôt, acquisition-appointement: 0.4143933653831482, appointement-impôt: 0.4892282485961914 ,acquisition-impôt: 0.9036216139793396; cos_acquisition: 1.0, cos_appointement: -1.0, cos_impôt:1.0]\n",
      "\n",
      "Triangle[name: acquisition_appointement_intégral, acquisition-appointement: 0.4143933653831482, appointement-intégral: 1.0 ,acquisition-intégral: 1.0; cos_acquisition: 0.2071966826915741, cos_appointement: 0.2071966826915741, cos_intégral:0.9141390693632143]\n",
      "\n",
      "Triangle[name: acquisition_appointement_keller, acquisition-appointement: 0.4143933653831482, appointement-keller: 1.0 ,acquisition-keller: 1.0; cos_acquisition: 0.2071966826915741, cos_appointement: 0.2071966826915741, cos_keller:0.9141390693632143]\n",
      "\n",
      "Triangle[name: acquisition_appointement_lecamu, acquisition-appointement: 0.4143933653831482, appointement-lecamu: 1.0 ,acquisition-lecamu: 1.0; cos_acquisition: 0.2071966826915741, cos_appointement: 0.2071966826915741, cos_lecamu:0.9141390693632143]\n",
      "\n",
      "Triangle[name: acquisition_appointement_liquidateur, acquisition-appointement: 0.4143933653831482, appointement-liquidateur: 1.0 ,acquisition-liquidateur: 1.0; cos_acquisition: 0.2071966826915741, cos_appointement: 0.2071966826915741, cos_liquidateur:0.9141390693632143]\n",
      "\n",
      "Triangle[name: acquisition_appointement_livre, acquisition-appointement: 0.4143933653831482, appointement-livre: 1.0 ,acquisition-livre: 1.0; cos_acquisition: 0.2071966826915741, cos_appointement: 0.2071966826915741, cos_livre:0.9141390693632143]\n",
      "\n",
      "Triangle[name: acquisition_appointement_loyer, acquisition-appointement: 0.4143933653831482, appointement-loyer: 0.44315993785858154 ,acquisition-loyer: 0.4840347170829773; cos_acquisition: 0.5225344694704249, cos_appointement: 0.3643572613245882, cos_loyer:0.6036193186663749]\n",
      "\n",
      "Triangle[name: acquisition_appointement_mandat, acquisition-appointement: 0.4143933653831482, appointement-mandat: 1.0 ,acquisition-mandat: 1.0; cos_acquisition: 0.2071966826915741, cos_appointement: 0.2071966826915741, cos_mandat:0.9141390693632143]\n",
      "\n",
      "Triangle[name: acquisition_appointement_marchandise, acquisition-appointement: 0.4143933653831482, appointement-marchandise: 1.0 ,acquisition-marchandise: 1.0; cos_acquisition: 0.2071966826915741, cos_appointement: 0.2071966826915741, cos_marchandise:0.9141390693632143]\n",
      "\n",
      "Triangle[name: acquisition_appointement_maximum, acquisition-appointement: 0.4143933653831482, appointement-maximum: 1.0 ,acquisition-maximum: 1.0; cos_acquisition: 0.2071966826915741, cos_appointement: 0.2071966826915741, cos_maximum:0.9141390693632143]\n",
      "\n",
      "Triangle[name: acquisition_appointement_million, acquisition-appointement: 0.4143933653831482, appointement-million: 1.0 ,acquisition-million: 1.0; cos_acquisition: 0.2071966826915741, cos_appointement: 0.2071966826915741, cos_million:0.9141390693632143]\n",
      "\n",
      "Triangle[name: acquisition_appointement_notaire, acquisition-appointement: 0.4143933653831482, appointement-notaire: 1.0 ,acquisition-notaire: 1.0; cos_acquisition: 0.2071966826915741, cos_appointement: 0.2071966826915741, cos_notaire:0.9141390693632143]\n",
      "\n",
      "Triangle[name: acquisition_appointement_négociant, acquisition-appointement: 0.4143933653831482, appointement-négociant: 1.0 ,acquisition-négociant: 1.0; cos_acquisition: 0.2071966826915741, cos_appointement: 0.2071966826915741, cos_négociant:0.9141390693632143]\n",
      "\n"
     ]
    }
   ],
   "source": [
    "print(\"The triangulation has {} triangles\".format(len(full_semgraph_triangulation.triangles)))\n",
    "num_triangles = 100\n",
    "print(f\"\\nThe {num_triangles} first triangles:\")\n",
    "for t in full_semgraph_triangulation.triangles[:num_triangles]:\n",
    "    print(str(t) + \"\\n\")"
   ]
  },
  {
   "cell_type": "code",
   "execution_count": null,
   "metadata": {},
   "outputs": [],
   "source": []
  },
  {
   "cell_type": "markdown",
   "metadata": {},
   "source": [
    "## 2. Intra embedding consistency"
   ]
  },
  {
   "cell_type": "code",
   "execution_count": null,
   "metadata": {},
   "outputs": [],
   "source": []
  },
  {
   "cell_type": "markdown",
   "metadata": {},
   "source": [
    "## 3. Validation of the semantic similarity between different models"
   ]
  },
  {
   "cell_type": "code",
   "execution_count": 10,
   "metadata": {},
   "outputs": [],
   "source": [
    "#print(f\"{models[0]}: {model_paths[0]}\")\n",
    "#print(f\"{models[1]}: {model_paths[1]}\")"
   ]
  },
  {
   "cell_type": "code",
   "execution_count": 11,
   "metadata": {},
   "outputs": [
    {
     "name": "stderr",
     "output_type": "stream",
     "text": [
      "100%|██████████| 94/94 [00:11<00:00,  8.08it/s]\n"
     ]
    }
   ],
   "source": [
    "# Generate semgraphs for all the models\n",
    "semgraphs = []\n",
    "for m in tqdm(models):\n",
    "    semgraphs.append(SemGraph.build_from_gensim_embedding(m, base_words, \n",
    "                                                      n_top_similar=N_TOP_SIMILAR,\n",
    "                                                      similarity_threshold=SIMILARITY_THRESHOLD))"
   ]
  },
  {
   "cell_type": "code",
   "execution_count": 16,
   "metadata": {},
   "outputs": [
    {
     "data": {
      "text/plain": [
       "(33916.002917328915, 0.9253772862221744)"
      ]
     },
     "execution_count": 16,
     "metadata": {},
     "output_type": "execute_result"
    }
   ],
   "source": [
    "# Calculate the angle distance between the triangulations of two SemGraphs.\n",
    "get_triangulation_angle_distance(g_0, g_1)"
   ]
  },
  {
   "cell_type": "code",
   "execution_count": 26,
   "metadata": {},
   "outputs": [
    {
     "name": "stderr",
     "output_type": "stream",
     "text": [
      "  0%|          | 0/94 [00:00<?, ?it/s]\n",
      "  0%|          | 0/94 [00:00<?, ?it/s]\u001b[A\n",
      "  2%|▏         | 2/94 [00:05<04:26,  2.90s/it]\u001b[A\n",
      "  3%|▎         | 3/94 [00:24<11:44,  7.74s/it]\u001b[A\n",
      "  4%|▍         | 4/94 [00:30<10:51,  7.24s/it]\u001b[A\n",
      "  5%|▌         | 5/94 [00:31<07:54,  5.33s/it]\u001b[A\n",
      "  6%|▋         | 6/94 [00:51<14:12,  9.68s/it]\u001b[A\n",
      "  7%|▋         | 7/94 [00:54<11:05,  7.65s/it]\u001b[A\n",
      "  9%|▊         | 8/94 [00:56<08:38,  6.03s/it]\u001b[A\n",
      " 10%|▉         | 9/94 [01:04<09:21,  6.60s/it]\u001b[A\n",
      " 11%|█         | 10/94 [01:05<06:50,  4.88s/it]\u001b[A\n",
      " 12%|█▏        | 11/94 [01:08<05:45,  4.16s/it]\u001b[A\n",
      " 13%|█▎        | 12/94 [01:23<10:13,  7.48s/it]\u001b[A\n",
      " 14%|█▍        | 13/94 [01:24<07:44,  5.73s/it]\u001b[A\n",
      " 15%|█▍        | 14/94 [01:29<07:07,  5.34s/it]\u001b[A\n",
      " 16%|█▌        | 15/94 [02:11<21:43, 16.50s/it]\u001b[A\n",
      " 17%|█▋        | 16/94 [02:13<15:34, 11.98s/it]\u001b[A\n",
      " 18%|█▊        | 17/94 [02:14<11:06,  8.65s/it]\u001b[A\n",
      " 19%|█▉        | 18/94 [02:20<10:14,  8.08s/it]\u001b[A\n",
      " 20%|██        | 19/94 [02:27<09:39,  7.73s/it]\u001b[A\n",
      " 21%|██▏       | 20/94 [02:42<12:05,  9.80s/it]\u001b[A\n",
      " 22%|██▏       | 21/94 [02:43<08:40,  7.13s/it]\u001b[A\n",
      " 23%|██▎       | 22/94 [02:48<07:56,  6.61s/it]\u001b[A\n",
      " 24%|██▍       | 23/94 [02:53<07:18,  6.17s/it]\u001b[A\n",
      " 26%|██▌       | 24/94 [02:55<05:34,  4.77s/it]\u001b[A\n",
      " 27%|██▋       | 25/94 [03:06<07:48,  6.79s/it]\u001b[A\n",
      " 28%|██▊       | 26/94 [03:16<08:38,  7.62s/it]\u001b[A\n",
      " 29%|██▊       | 27/94 [03:33<11:45, 10.52s/it]\u001b[A\n",
      " 30%|██▉       | 28/94 [03:44<11:36, 10.55s/it]\u001b[A\n",
      " 31%|███       | 29/94 [03:46<08:32,  7.88s/it]\u001b[A\n",
      " 32%|███▏      | 30/94 [04:31<20:25, 19.14s/it]\u001b[A\n",
      " 33%|███▎      | 31/94 [04:38<16:23, 15.62s/it]\u001b[A\n",
      " 34%|███▍      | 32/94 [05:05<19:37, 19.00s/it]\u001b[A\n",
      " 35%|███▌      | 33/94 [05:08<14:23, 14.16s/it]\u001b[A\n",
      " 36%|███▌      | 34/94 [05:09<10:10, 10.18s/it]\u001b[A\n",
      " 37%|███▋      | 35/94 [05:23<11:10, 11.37s/it]\u001b[A\n",
      " 38%|███▊      | 36/94 [05:35<10:59, 11.37s/it]\u001b[A\n",
      " 39%|███▉      | 37/94 [05:56<13:36, 14.33s/it]\u001b[A\n",
      " 40%|████      | 38/94 [06:20<16:11, 17.34s/it]\u001b[A\n",
      " 41%|████▏     | 39/94 [07:21<27:47, 30.31s/it]\u001b[A\n",
      " 43%|████▎     | 40/94 [07:22<19:30, 21.68s/it]\u001b[A\n",
      " 44%|████▎     | 41/94 [07:37<17:17, 19.58s/it]\u001b[A\n",
      " 45%|████▍     | 42/94 [07:38<12:06, 13.97s/it]\u001b[A\n",
      " 46%|████▌     | 43/94 [08:11<16:43, 19.67s/it]\u001b[A\n",
      " 47%|████▋     | 44/94 [08:26<15:21, 18.43s/it]\u001b[A\n",
      " 48%|████▊     | 45/94 [08:28<10:59, 13.46s/it]\u001b[A\n",
      " 49%|████▉     | 46/94 [08:41<10:31, 13.15s/it]\u001b[A\n",
      " 50%|█████     | 47/94 [08:42<07:25,  9.47s/it]\u001b[A\n",
      " 51%|█████     | 48/94 [08:44<05:43,  7.47s/it]\u001b[A\n",
      " 52%|█████▏    | 49/94 [08:47<04:35,  6.12s/it]\u001b[A\n",
      " 53%|█████▎    | 50/94 [09:19<10:05, 13.77s/it]\u001b[A\n",
      " 54%|█████▍    | 51/94 [09:20<07:05,  9.90s/it]\u001b[A\n",
      " 55%|█████▌    | 52/94 [09:21<05:03,  7.22s/it]\u001b[A\n",
      " 56%|█████▋    | 53/94 [09:58<11:03, 16.19s/it]\u001b[A\n",
      " 57%|█████▋    | 54/94 [10:02<08:26, 12.66s/it]\u001b[A\n",
      " 59%|█████▊    | 55/94 [10:05<06:16,  9.65s/it]\u001b[A\n",
      " 60%|█████▉    | 56/94 [10:17<06:32, 10.34s/it]\u001b[A\n",
      " 61%|██████    | 57/94 [10:18<04:41,  7.62s/it]\u001b[A\n",
      " 62%|██████▏   | 58/94 [10:23<04:03,  6.76s/it]\u001b[A\n",
      " 63%|██████▎   | 59/94 [10:46<06:43, 11.52s/it]\u001b[A\n",
      " 64%|██████▍   | 60/94 [11:18<10:07, 17.87s/it]\u001b[A\n",
      " 65%|██████▍   | 61/94 [11:29<08:36, 15.64s/it]\u001b[A\n",
      " 66%|██████▌   | 62/94 [11:50<09:10, 17.22s/it]\u001b[A\n",
      " 67%|██████▋   | 63/94 [11:59<07:46, 15.04s/it]\u001b[A\n",
      " 68%|██████▊   | 64/94 [12:00<05:22, 10.75s/it]\u001b[A\n",
      " 69%|██████▉   | 65/94 [12:03<04:02,  8.37s/it]\u001b[A\n",
      " 70%|███████   | 66/94 [12:22<05:22, 11.50s/it]\u001b[A\n",
      " 71%|███████▏  | 67/94 [12:23<03:48,  8.48s/it]\u001b[A\n",
      " 72%|███████▏  | 68/94 [12:47<05:36, 12.96s/it]\u001b[A\n",
      " 73%|███████▎  | 69/94 [13:27<08:48, 21.13s/it]\u001b[A\n",
      " 74%|███████▍  | 70/94 [13:28<06:00, 15.02s/it]\u001b[A\n",
      " 76%|███████▌  | 71/94 [13:30<04:16, 11.14s/it]\u001b[A\n",
      " 77%|███████▋  | 72/94 [13:31<03:01,  8.23s/it]\u001b[A\n",
      " 78%|███████▊  | 73/94 [13:36<02:32,  7.29s/it]\u001b[A\n",
      " 79%|███████▊  | 74/94 [14:42<08:17, 24.87s/it]\u001b[A\n",
      " 80%|███████▉  | 75/94 [15:18<08:57, 28.28s/it]\u001b[A\n",
      " 81%|████████  | 76/94 [15:20<06:03, 20.22s/it]\u001b[A\n",
      " 82%|████████▏ | 77/94 [15:21<04:04, 14.40s/it]\u001b[A\n",
      " 83%|████████▎ | 78/94 [15:36<03:56, 14.76s/it]\u001b[A\n",
      " 84%|████████▍ | 79/94 [15:37<02:38, 10.56s/it]\u001b[A\n",
      " 85%|████████▌ | 80/94 [16:17<04:30, 19.34s/it]\u001b[A\n",
      " 86%|████████▌ | 81/94 [16:25<03:25, 15.84s/it]\u001b[A\n",
      " 87%|████████▋ | 82/94 [16:30<02:32, 12.69s/it]\u001b[A\n",
      " 88%|████████▊ | 83/94 [16:33<01:49,  9.92s/it]\u001b[A\n",
      " 89%|████████▉ | 84/94 [16:35<01:14,  7.42s/it]\u001b[A\n",
      " 90%|█████████ | 85/94 [17:04<02:05, 13.97s/it]\u001b[A\n",
      " 91%|█████████▏| 86/94 [17:11<01:33, 11.73s/it]\u001b[A\n",
      " 93%|█████████▎| 87/94 [17:12<01:00,  8.62s/it]\u001b[A\n",
      " 94%|█████████▎| 88/94 [17:14<00:39,  6.53s/it]\u001b[A\n",
      " 95%|█████████▍| 89/94 [17:16<00:26,  5.36s/it]\u001b[A\n",
      " 96%|█████████▌| 90/94 [17:17<00:15,  3.98s/it]\u001b[A\n",
      " 97%|█████████▋| 91/94 [17:21<00:12,  4.09s/it]\u001b[A\n",
      " 98%|█████████▊| 92/94 [17:30<00:10,  5.47s/it]\u001b[A\n",
      " 99%|█████████▉| 93/94 [17:31<00:04,  4.05s/it]\u001b[A\n",
      "100%|██████████| 94/94 [17:47<00:00, 11.36s/it]\u001b[A\n",
      "  1%|          | 1/94 [17:47<27:34:56, 1067.71s/it]\n",
      "  0%|          | 0/94 [00:00<?, ?it/s]\u001b[A\n",
      "  3%|▎         | 3/94 [00:23<11:48,  7.79s/it]\u001b[A\n",
      "  4%|▍         | 4/94 [00:33<12:40,  8.45s/it]\u001b[A\n",
      "  5%|▌         | 5/94 [00:36<09:57,  6.71s/it]\u001b[A\n",
      "  6%|▋         | 6/94 [00:59<17:19, 11.81s/it]\u001b[A\n",
      "  7%|▋         | 7/94 [01:05<14:31, 10.02s/it]\u001b[A\n",
      "  9%|▊         | 8/94 [01:10<12:03,  8.41s/it]\u001b[A\n",
      " 10%|▉         | 9/94 [01:22<13:43,  9.69s/it]\u001b[A\n",
      " 11%|█         | 10/94 [01:25<10:33,  7.54s/it]\u001b[A\n",
      " 12%|█▏        | 11/94 [01:30<09:17,  6.72s/it]\u001b[A\n",
      " 13%|█▎        | 12/94 [01:50<14:38, 10.71s/it]\u001b[A\n",
      " 14%|█▍        | 13/94 [01:53<11:37,  8.61s/it]\u001b[A\n",
      " 15%|█▍        | 14/94 [02:01<10:54,  8.18s/it]\u001b[A\n",
      " 16%|█▌        | 15/94 [02:48<26:09, 19.87s/it]\u001b[A\n",
      " 17%|█▋        | 16/94 [02:51<19:29, 14.99s/it]\u001b[A\n",
      " 18%|█▊        | 17/94 [02:54<14:32, 11.33s/it]\u001b[A\n",
      " 19%|█▉        | 18/94 [03:04<13:55, 11.00s/it]\u001b[A\n",
      " 20%|██        | 19/94 [03:15<13:28, 10.78s/it]\u001b[A\n",
      " 21%|██▏       | 20/94 [03:34<16:33, 13.42s/it]\u001b[A\n",
      " 22%|██▏       | 21/94 [03:37<12:22, 10.17s/it]\u001b[A\n",
      " 23%|██▎       | 22/94 [03:46<11:53,  9.91s/it]\u001b[A\n",
      " 24%|██▍       | 23/94 [03:54<11:04,  9.36s/it]\u001b[A\n",
      " 26%|██▌       | 24/94 [03:58<08:54,  7.63s/it]\u001b[A\n",
      " 27%|██▋       | 25/94 [04:15<11:57, 10.40s/it]\u001b[A\n",
      " 28%|██▊       | 26/94 [04:28<12:45, 11.26s/it]\u001b[A\n",
      " 29%|██▊       | 27/94 [04:50<16:10, 14.49s/it]\u001b[A\n",
      " 30%|██▉       | 28/94 [05:05<16:15, 14.79s/it]\u001b[A\n",
      " 31%|███       | 29/94 [05:09<12:29, 11.53s/it]\u001b[A\n",
      " 32%|███▏      | 30/94 [06:00<24:53, 23.34s/it]\u001b[A\n",
      " 33%|███▎      | 31/94 [06:12<20:55, 19.93s/it]\u001b[A\n",
      " 34%|███▍      | 32/94 [06:33<20:49, 20.16s/it]\u001b[A\n",
      " 35%|███▌      | 33/94 [06:39<16:03, 15.79s/it]\u001b[A\n",
      " 36%|███▌      | 34/94 [06:41<11:49, 11.83s/it]\u001b[A\n",
      " 37%|███▋      | 35/94 [07:00<13:49, 14.06s/it]\u001b[A\n",
      " 38%|███▊      | 36/94 [07:17<14:11, 14.68s/it]\u001b[A\n",
      " 39%|███▉      | 37/94 [07:42<17:09, 18.06s/it]\u001b[A\n",
      " 40%|████      | 38/94 [08:06<18:16, 19.58s/it]\u001b[A\n",
      " 41%|████▏     | 39/94 [09:07<29:20, 32.00s/it]\u001b[A\n",
      " 43%|████▎     | 40/94 [09:10<21:08, 23.49s/it]\u001b[A\n",
      " 44%|████▎     | 41/94 [09:30<19:49, 22.44s/it]\u001b[A\n",
      " 45%|████▍     | 42/94 [09:33<14:23, 16.60s/it]\u001b[A\n",
      " 46%|████▌     | 43/94 [10:11<19:35, 23.06s/it]\u001b[A\n",
      " 47%|████▋     | 44/94 [10:24<16:37, 19.96s/it]\u001b[A\n",
      " 48%|████▊     | 45/94 [10:28<12:22, 15.15s/it]\u001b[A\n",
      " 49%|████▉     | 46/94 [10:45<12:38, 15.79s/it]\u001b[A\n",
      " 50%|█████     | 47/94 [10:48<09:15, 11.82s/it]\u001b[A\n",
      " 51%|█████     | 48/94 [10:53<07:37,  9.95s/it]\u001b[A\n",
      " 52%|█████▏    | 49/94 [10:59<06:35,  8.78s/it]\u001b[A\n",
      " 53%|█████▎    | 50/94 [11:37<12:40, 17.29s/it]\u001b[A\n",
      " 54%|█████▍    | 51/94 [11:39<09:12, 12.85s/it]\u001b[A\n",
      " 55%|█████▌    | 52/94 [11:42<06:49,  9.75s/it]\u001b[A\n",
      " 56%|█████▋    | 53/94 [12:26<13:50, 20.26s/it]\u001b[A\n",
      " 57%|█████▋    | 54/94 [12:30<10:12, 15.32s/it]\u001b[A\n",
      " 59%|█████▊    | 55/94 [12:34<07:45, 11.93s/it]\u001b[A\n",
      " 60%|█████▉    | 56/94 [12:52<08:39, 13.68s/it]\u001b[A\n",
      " 61%|██████    | 57/94 [12:56<06:34, 10.67s/it]\u001b[A\n",
      " 62%|██████▏   | 58/94 [13:04<06:04, 10.13s/it]\u001b[A\n",
      " 63%|██████▎   | 59/94 [13:36<09:38, 16.53s/it]\u001b[A\n",
      " 64%|██████▍   | 60/94 [14:19<13:53, 24.50s/it]\u001b[A\n",
      " 65%|██████▍   | 61/94 [14:34<11:57, 21.75s/it]\u001b[A\n",
      " 66%|██████▌   | 62/94 [15:05<12:57, 24.31s/it]\u001b[A\n",
      " 67%|██████▋   | 63/94 [15:19<11:05, 21.47s/it]\u001b[A\n",
      " 68%|██████▊   | 64/94 [15:22<07:53, 15.78s/it]\u001b[A\n",
      " 69%|██████▉   | 65/94 [15:28<06:13, 12.88s/it]\u001b[A\n",
      " 70%|███████   | 66/94 [15:57<08:11, 17.54s/it]\u001b[A\n"
     ]
    },
    {
     "name": "stderr",
     "output_type": "stream",
     "text": [
      " 71%|███████▏  | 67/94 [16:00<06:01, 13.37s/it]\u001b[A\n",
      " 72%|███████▏  | 68/94 [16:34<08:26, 19.49s/it]\u001b[A\n",
      " 73%|███████▎  | 69/94 [17:36<13:23, 32.14s/it]\u001b[A\n",
      " 74%|███████▍  | 70/94 [17:38<09:20, 23.35s/it]\u001b[A\n",
      " 76%|███████▌  | 71/94 [17:44<06:55, 18.07s/it]\u001b[A\n",
      " 77%|███████▋  | 72/94 [17:48<05:06, 13.93s/it]\u001b[A\n",
      " 78%|███████▊  | 73/94 [17:59<04:31, 12.94s/it]\u001b[A\n",
      " 79%|███████▊  | 74/94 [19:29<12:01, 36.07s/it]\u001b[A\n",
      " 80%|███████▉  | 75/94 [20:38<14:33, 45.95s/it]\u001b[A\n",
      " 81%|████████  | 76/94 [20:42<10:01, 33.42s/it]\u001b[A\n",
      " 82%|████████▏ | 77/94 [20:45<06:52, 24.28s/it]\u001b[A\n",
      " 83%|████████▎ | 78/94 [21:11<06:34, 24.69s/it]\u001b[A\n",
      " 84%|████████▍ | 79/94 [21:14<04:32, 18.14s/it]\u001b[A\n",
      " 85%|████████▌ | 80/94 [22:21<07:41, 32.98s/it]\u001b[A\n",
      " 86%|████████▌ | 81/94 [22:36<05:59, 27.63s/it]\u001b[A\n",
      " 87%|████████▋ | 82/94 [22:52<04:46, 23.89s/it]\u001b[A\n",
      " 88%|████████▊ | 83/94 [22:59<03:27, 18.84s/it]\u001b[A\n",
      " 89%|████████▉ | 84/94 [23:03<02:25, 14.56s/it]\u001b[A\n",
      " 90%|█████████ | 85/94 [23:49<03:34, 23.85s/it]\u001b[A\n",
      " 91%|█████████▏| 86/94 [24:02<02:45, 20.75s/it]\u001b[A\n",
      " 93%|█████████▎| 87/94 [24:07<01:51, 15.91s/it]\u001b[A\n",
      " 94%|█████████▎| 88/94 [24:11<01:14, 12.48s/it]\u001b[A\n",
      " 95%|█████████▍| 89/94 [24:18<00:53, 10.78s/it]\u001b[A\n",
      " 96%|█████████▌| 90/94 [24:21<00:33,  8.41s/it]\u001b[A\n",
      " 97%|█████████▋| 91/94 [24:37<00:31, 10.60s/it]\u001b[A\n",
      " 98%|█████████▊| 92/94 [24:53<00:24, 12.14s/it]\u001b[A\n",
      " 99%|█████████▉| 93/94 [24:55<00:09,  9.37s/it]\u001b[A\n",
      "100%|██████████| 94/94 [25:23<00:00, 16.20s/it]\u001b[A\n",
      "  2%|▏         | 2/94 [43:10<30:46:35, 1204.30s/it]\n",
      "  0%|          | 0/94 [00:00<?, ?it/s]\u001b[A\n",
      "  4%|▍         | 4/94 [00:42<15:55, 10.62s/it]\u001b[A\n",
      "  5%|▌         | 5/94 [00:54<16:23, 11.05s/it]\u001b[A\n",
      "  6%|▋         | 6/94 [01:44<33:24, 22.78s/it]\u001b[A\n",
      "  7%|▋         | 7/94 [02:01<30:36, 21.11s/it]\u001b[A\n",
      "  9%|▊         | 8/94 [02:16<27:30, 19.19s/it]\u001b[A\n",
      " 10%|▉         | 9/94 [02:45<31:16, 22.07s/it]\u001b[A\n",
      " 11%|█         | 10/94 [02:56<26:08, 18.67s/it]\u001b[A\n",
      " 12%|█▏        | 11/94 [03:10<24:11, 17.49s/it]\u001b[A\n",
      " 13%|█▎        | 12/94 [03:50<32:54, 24.08s/it]\u001b[A\n",
      " 14%|█▍        | 13/94 [04:04<28:34, 21.17s/it]\u001b[A\n",
      " 15%|█▍        | 14/94 [04:24<27:39, 20.75s/it]\u001b[A\n",
      " 16%|█▌        | 15/94 [05:46<51:36, 39.20s/it]\u001b[A\n",
      " 17%|█▋        | 16/94 [06:00<40:50, 31.42s/it]\u001b[A\n",
      " 18%|█▊        | 17/94 [06:10<32:22, 25.22s/it]\u001b[A\n",
      " 19%|█▉        | 18/94 [06:34<31:29, 24.86s/it]\u001b[A\n",
      " 20%|██        | 19/94 [07:00<31:23, 25.11s/it]\u001b[A\n",
      " 21%|██▏       | 20/94 [07:38<35:49, 29.05s/it]\u001b[A\n",
      " 22%|██▏       | 21/94 [07:49<28:34, 23.49s/it]\u001b[A\n",
      " 23%|██▎       | 22/94 [08:12<28:14, 23.54s/it]\u001b[A\n",
      " 24%|██▍       | 23/94 [08:33<26:59, 22.81s/it]\u001b[A\n",
      " 26%|██▌       | 24/94 [08:47<23:17, 19.96s/it]\u001b[A\n",
      " 27%|██▋       | 25/94 [09:23<28:31, 24.80s/it]\u001b[A\n",
      " 28%|██▊       | 26/94 [09:51<29:21, 25.90s/it]\u001b[A\n",
      " 29%|██▊       | 27/94 [10:34<34:32, 30.93s/it]\u001b[A\n",
      " 30%|██▉       | 28/94 [11:08<35:02, 31.86s/it]\u001b[A\n",
      " 31%|███       | 29/94 [11:22<28:40, 26.47s/it]\u001b[A\n",
      " 32%|███▏      | 30/94 [12:38<44:00, 41.25s/it]\u001b[A\n",
      " 33%|███▎      | 31/94 [13:05<38:55, 37.07s/it]\u001b[A\n",
      " 34%|███▍      | 32/94 [13:48<40:11, 38.89s/it]\u001b[A\n",
      " 35%|███▌      | 33/94 [14:05<32:54, 32.37s/it]\u001b[A\n",
      " 36%|███▌      | 34/94 [14:16<25:52, 25.87s/it]\u001b[A\n",
      " 37%|███▋      | 35/94 [14:52<28:30, 28.99s/it]\u001b[A\n",
      " 38%|███▊      | 36/94 [15:27<29:43, 30.76s/it]\u001b[A\n",
      " 39%|███▉      | 37/94 [16:18<35:01, 36.87s/it]\u001b[A\n",
      " 40%|████      | 38/94 [17:07<37:51, 40.56s/it]\u001b[A\n",
      " 41%|████▏     | 39/94 [18:51<54:35, 59.55s/it]\u001b[A\n",
      " 43%|████▎     | 40/94 [19:06<41:27, 46.06s/it]\u001b[A\n",
      " 44%|████▎     | 41/94 [20:07<44:32, 50.42s/it]\u001b[A\n",
      " 45%|████▍     | 42/94 [20:18<33:38, 38.82s/it]\u001b[A\n",
      " 46%|████▌     | 43/94 [21:43<44:38, 52.52s/it]\u001b[A\n",
      " 47%|████▋     | 44/94 [22:16<39:03, 46.86s/it]\u001b[A\n",
      " 48%|████▊     | 45/94 [22:38<32:02, 39.24s/it]\u001b[A\n",
      " 49%|████▉     | 46/94 [23:17<31:27, 39.33s/it]\u001b[A\n",
      " 50%|█████     | 47/94 [23:37<26:06, 33.34s/it]\u001b[A\n",
      " 51%|█████     | 48/94 [23:55<22:12, 28.96s/it]\u001b[A\n",
      " 52%|█████▏    | 49/94 [24:16<19:53, 26.51s/it]\u001b[A\n",
      " 53%|█████▎    | 50/94 [25:34<30:38, 41.78s/it]\u001b[A\n",
      " 54%|█████▍    | 51/94 [25:53<25:09, 35.12s/it]\u001b[A\n",
      " 55%|█████▌    | 52/94 [26:05<19:42, 28.15s/it]\u001b[A\n",
      " 56%|█████▋    | 53/94 [27:31<31:02, 45.43s/it]\u001b[A\n",
      " 57%|█████▋    | 54/94 [28:00<27:04, 40.60s/it]\u001b[A\n",
      " 59%|█████▊    | 55/94 [28:16<21:37, 33.27s/it]\u001b[A\n",
      " 60%|█████▉    | 56/94 [28:57<22:28, 35.48s/it]\u001b[A\n",
      " 61%|██████    | 57/94 [29:27<20:49, 33.77s/it]\u001b[A\n",
      " 62%|██████▏   | 58/94 [29:49<18:14, 30.40s/it]\u001b[A\n",
      " 63%|██████▎   | 59/94 [31:10<26:30, 45.45s/it]\u001b[A\n",
      " 64%|██████▍   | 60/94 [32:49<34:52, 61.56s/it]\u001b[A\n",
      " 65%|██████▍   | 61/94 [33:28<30:03, 54.64s/it]\u001b[A\n",
      " 66%|██████▌   | 62/94 [34:45<32:43, 61.36s/it]\u001b[A\n",
      " 67%|██████▋   | 63/94 [35:35<29:56, 57.95s/it]\u001b[A\n",
      " 68%|██████▊   | 64/94 [35:46<22:02, 44.08s/it]\u001b[A\n",
      " 69%|██████▉   | 65/94 [36:07<17:53, 37.01s/it]\u001b[A\n",
      " 70%|███████   | 66/94 [37:11<21:01, 45.06s/it]\u001b[A\n",
      " 71%|███████▏  | 67/94 [37:36<17:39, 39.23s/it]\u001b[A\n",
      " 72%|███████▏  | 68/94 [38:44<20:44, 47.86s/it]\u001b[A\n",
      " 73%|███████▎  | 69/94 [40:35<27:48, 66.73s/it]\u001b[A\n",
      " 74%|███████▍  | 70/94 [40:47<20:05, 50.24s/it]\u001b[A\n",
      " 76%|███████▌  | 71/94 [41:13<16:32, 43.17s/it]\u001b[A\n",
      " 77%|███████▋  | 72/94 [41:29<12:45, 34.82s/it]\u001b[A\n",
      " 78%|███████▊  | 73/94 [42:13<13:10, 37.62s/it]\u001b[A\n",
      " 79%|███████▊  | 74/94 [44:50<12:07, 36.36s/it]\u001b[A\n",
      "  2%|▏         | 2/94 [1:28:01<67:28:52, 2640.58s/it]\n"
     ]
    },
    {
     "ename": "KeyboardInterrupt",
     "evalue": "",
     "output_type": "error",
     "traceback": [
      "\u001b[0;31m---------------------------------------------------------------------------\u001b[0m",
      "\u001b[0;31mKeyboardInterrupt\u001b[0m                         Traceback (most recent call last)",
      "\u001b[0;32m<ipython-input-26-8167cf0f52ec>\u001b[0m in \u001b[0;36m<module>\u001b[0;34m\u001b[0m\n\u001b[1;32m      4\u001b[0m     \u001b[0;32mfor\u001b[0m \u001b[0mj\u001b[0m \u001b[0;32min\u001b[0m \u001b[0mtqdm\u001b[0m\u001b[0;34m(\u001b[0m\u001b[0mrange\u001b[0m\u001b[0;34m(\u001b[0m\u001b[0mlen\u001b[0m\u001b[0;34m(\u001b[0m\u001b[0msemgraphs\u001b[0m\u001b[0;34m)\u001b[0m\u001b[0;34m)\u001b[0m\u001b[0;34m)\u001b[0m\u001b[0;34m:\u001b[0m\u001b[0;34m\u001b[0m\u001b[0;34m\u001b[0m\u001b[0m\n\u001b[1;32m      5\u001b[0m         \u001b[0;32mif\u001b[0m \u001b[0;34m(\u001b[0m\u001b[0mi\u001b[0m\u001b[0;34m<\u001b[0m\u001b[0mj\u001b[0m\u001b[0;34m)\u001b[0m\u001b[0;34m:\u001b[0m\u001b[0;34m\u001b[0m\u001b[0;34m\u001b[0m\u001b[0m\n\u001b[0;32m----> 6\u001b[0;31m             \u001b[0mangle_distance_matrix\u001b[0m\u001b[0;34m[\u001b[0m\u001b[0mi\u001b[0m\u001b[0;34m]\u001b[0m\u001b[0;34m[\u001b[0m\u001b[0mj\u001b[0m\u001b[0;34m]\u001b[0m \u001b[0;34m=\u001b[0m \u001b[0mget_triangulation_angle_distance\u001b[0m\u001b[0;34m(\u001b[0m\u001b[0msemgraphs\u001b[0m\u001b[0;34m[\u001b[0m\u001b[0mi\u001b[0m\u001b[0;34m]\u001b[0m\u001b[0;34m,\u001b[0m \u001b[0msemgraphs\u001b[0m\u001b[0;34m[\u001b[0m\u001b[0mj\u001b[0m\u001b[0;34m]\u001b[0m\u001b[0;34m)\u001b[0m\u001b[0;34m[\u001b[0m\u001b[0;36m1\u001b[0m\u001b[0;34m]\u001b[0m\u001b[0;34m\u001b[0m\u001b[0;34m\u001b[0m\u001b[0m\n\u001b[0m\u001b[1;32m      7\u001b[0m         \u001b[0;32melse\u001b[0m\u001b[0;34m:\u001b[0m\u001b[0;34m\u001b[0m\u001b[0;34m\u001b[0m\u001b[0m\n\u001b[1;32m      8\u001b[0m             \u001b[0mangle_distance_matrix\u001b[0m\u001b[0;34m[\u001b[0m\u001b[0mi\u001b[0m\u001b[0;34m]\u001b[0m\u001b[0;34m[\u001b[0m\u001b[0mj\u001b[0m\u001b[0;34m]\u001b[0m \u001b[0;34m=\u001b[0m \u001b[0mangle_distance_matrix\u001b[0m\u001b[0;34m[\u001b[0m\u001b[0mj\u001b[0m\u001b[0;34m]\u001b[0m\u001b[0;34m[\u001b[0m\u001b[0mi\u001b[0m\u001b[0;34m]\u001b[0m\u001b[0;34m\u001b[0m\u001b[0;34m\u001b[0m\u001b[0m\n",
      "\u001b[0;32m~/nlp/linguistic_analysis/src/linguistic_analysis/semantics/similarity.py\u001b[0m in \u001b[0;36mget_triangulation_angle_distance\u001b[0;34m(g1, g2)\u001b[0m\n\u001b[1;32m    372\u001b[0m \u001b[0;34m\u001b[0m\u001b[0m\n\u001b[1;32m    373\u001b[0m     \u001b[0;31m# 2. Compare triangulations\u001b[0m\u001b[0;34m\u001b[0m\u001b[0;34m\u001b[0m\u001b[0;34m\u001b[0m\u001b[0m\n\u001b[0;32m--> 374\u001b[0;31m     \u001b[0mt1\u001b[0m \u001b[0;34m=\u001b[0m \u001b[0mg1_e\u001b[0m\u001b[0;34m.\u001b[0m\u001b[0mget_triangulation\u001b[0m\u001b[0;34m(\u001b[0m\u001b[0;34m)\u001b[0m\u001b[0;34m\u001b[0m\u001b[0;34m\u001b[0m\u001b[0m\n\u001b[0m\u001b[1;32m    375\u001b[0m     \u001b[0mt2\u001b[0m \u001b[0;34m=\u001b[0m \u001b[0mg2_e\u001b[0m\u001b[0;34m.\u001b[0m\u001b[0mget_triangulation\u001b[0m\u001b[0;34m(\u001b[0m\u001b[0;34m)\u001b[0m\u001b[0;34m\u001b[0m\u001b[0;34m\u001b[0m\u001b[0m\n\u001b[1;32m    376\u001b[0m     \u001b[0;32mreturn\u001b[0m \u001b[0mt1\u001b[0m\u001b[0;34m.\u001b[0m\u001b[0mget_angle_distance\u001b[0m\u001b[0;34m(\u001b[0m\u001b[0mt2\u001b[0m\u001b[0;34m)\u001b[0m\u001b[0;34m\u001b[0m\u001b[0;34m\u001b[0m\u001b[0m\n",
      "\u001b[0;32m~/nlp/linguistic_analysis/src/linguistic_analysis/semantics/similarity.py\u001b[0m in \u001b[0;36mget_triangulation\u001b[0;34m(self)\u001b[0m\n\u001b[1;32m    320\u001b[0m         \u001b[0;31m# 1. Get all the combinations of vertex triplets.\u001b[0m\u001b[0;34m\u001b[0m\u001b[0;34m\u001b[0m\u001b[0;34m\u001b[0m\u001b[0m\n\u001b[1;32m    321\u001b[0m         \u001b[0;31m# Only include valid triplets.\u001b[0m\u001b[0;34m\u001b[0m\u001b[0;34m\u001b[0m\u001b[0;34m\u001b[0m\u001b[0m\n\u001b[0;32m--> 322\u001b[0;31m         \u001b[0mvertex_triplets\u001b[0m \u001b[0;34m=\u001b[0m \u001b[0mself\u001b[0m\u001b[0;34m.\u001b[0m\u001b[0m__get_all_valid_vertex_triplets\u001b[0m\u001b[0;34m(\u001b[0m\u001b[0;34m)\u001b[0m\u001b[0;34m\u001b[0m\u001b[0;34m\u001b[0m\u001b[0m\n\u001b[0m\u001b[1;32m    323\u001b[0m         \u001b[0;31m# 2. Create triangles.\u001b[0m\u001b[0;34m\u001b[0m\u001b[0;34m\u001b[0m\u001b[0;34m\u001b[0m\u001b[0m\n\u001b[1;32m    324\u001b[0m         \u001b[0mtriangles\u001b[0m \u001b[0;34m=\u001b[0m \u001b[0;34m[\u001b[0m\u001b[0mself\u001b[0m\u001b[0;34m.\u001b[0m\u001b[0m__build_triangle\u001b[0m\u001b[0;34m(\u001b[0m\u001b[0mtriplet\u001b[0m\u001b[0;34m)\u001b[0m \u001b[0;32mfor\u001b[0m \u001b[0mtriplet\u001b[0m \u001b[0;32min\u001b[0m \u001b[0mvertex_triplets\u001b[0m\u001b[0;34m]\u001b[0m\u001b[0;34m\u001b[0m\u001b[0;34m\u001b[0m\u001b[0m\n",
      "\u001b[0;32m~/nlp/linguistic_analysis/src/linguistic_analysis/semantics/similarity.py\u001b[0m in \u001b[0;36m__get_all_valid_vertex_triplets\u001b[0;34m(self)\u001b[0m\n\u001b[1;32m    337\u001b[0m     \u001b[0;32mdef\u001b[0m \u001b[0m__get_all_valid_vertex_triplets\u001b[0m\u001b[0;34m(\u001b[0m\u001b[0mself\u001b[0m\u001b[0;34m)\u001b[0m \u001b[0;34m->\u001b[0m \u001b[0mIterable\u001b[0m\u001b[0;34m[\u001b[0m\u001b[0mTuple\u001b[0m\u001b[0;34m[\u001b[0m\u001b[0mText\u001b[0m\u001b[0;34m,\u001b[0m \u001b[0mText\u001b[0m\u001b[0;34m,\u001b[0m \u001b[0mText\u001b[0m\u001b[0;34m]\u001b[0m\u001b[0;34m]\u001b[0m\u001b[0;34m:\u001b[0m\u001b[0;34m\u001b[0m\u001b[0;34m\u001b[0m\u001b[0m\n\u001b[1;32m    338\u001b[0m         \u001b[0mall_vertex_triplets\u001b[0m \u001b[0;34m=\u001b[0m \u001b[0mcombinations\u001b[0m\u001b[0;34m(\u001b[0m\u001b[0mself\u001b[0m\u001b[0;34m.\u001b[0m\u001b[0mnames\u001b[0m\u001b[0;34m,\u001b[0m \u001b[0;36m3\u001b[0m\u001b[0;34m)\u001b[0m\u001b[0;34m\u001b[0m\u001b[0;34m\u001b[0m\u001b[0m\n\u001b[0;32m--> 339\u001b[0;31m         \u001b[0mres\u001b[0m \u001b[0;34m=\u001b[0m \u001b[0;34m[\u001b[0m\u001b[0mt\u001b[0m \u001b[0;32mfor\u001b[0m \u001b[0mt\u001b[0m \u001b[0;32min\u001b[0m \u001b[0mall_vertex_triplets\u001b[0m \u001b[0;32mif\u001b[0m \u001b[0mself\u001b[0m\u001b[0;34m.\u001b[0m\u001b[0m__is_valid_vertex_triplet\u001b[0m\u001b[0;34m(\u001b[0m\u001b[0mt\u001b[0m\u001b[0;34m)\u001b[0m\u001b[0;34m]\u001b[0m\u001b[0;34m\u001b[0m\u001b[0;34m\u001b[0m\u001b[0m\n\u001b[0m\u001b[1;32m    340\u001b[0m         \u001b[0;32mreturn\u001b[0m \u001b[0mres\u001b[0m\u001b[0;34m\u001b[0m\u001b[0;34m\u001b[0m\u001b[0m\n\u001b[1;32m    341\u001b[0m \u001b[0;34m\u001b[0m\u001b[0m\n",
      "\u001b[0;32m~/nlp/linguistic_analysis/src/linguistic_analysis/semantics/similarity.py\u001b[0m in \u001b[0;36m<listcomp>\u001b[0;34m(.0)\u001b[0m\n\u001b[1;32m    337\u001b[0m     \u001b[0;32mdef\u001b[0m \u001b[0m__get_all_valid_vertex_triplets\u001b[0m\u001b[0;34m(\u001b[0m\u001b[0mself\u001b[0m\u001b[0;34m)\u001b[0m \u001b[0;34m->\u001b[0m \u001b[0mIterable\u001b[0m\u001b[0;34m[\u001b[0m\u001b[0mTuple\u001b[0m\u001b[0;34m[\u001b[0m\u001b[0mText\u001b[0m\u001b[0;34m,\u001b[0m \u001b[0mText\u001b[0m\u001b[0;34m,\u001b[0m \u001b[0mText\u001b[0m\u001b[0;34m]\u001b[0m\u001b[0;34m]\u001b[0m\u001b[0;34m:\u001b[0m\u001b[0;34m\u001b[0m\u001b[0;34m\u001b[0m\u001b[0m\n\u001b[1;32m    338\u001b[0m         \u001b[0mall_vertex_triplets\u001b[0m \u001b[0;34m=\u001b[0m \u001b[0mcombinations\u001b[0m\u001b[0;34m(\u001b[0m\u001b[0mself\u001b[0m\u001b[0;34m.\u001b[0m\u001b[0mnames\u001b[0m\u001b[0;34m,\u001b[0m \u001b[0;36m3\u001b[0m\u001b[0;34m)\u001b[0m\u001b[0;34m\u001b[0m\u001b[0;34m\u001b[0m\u001b[0m\n\u001b[0;32m--> 339\u001b[0;31m         \u001b[0mres\u001b[0m \u001b[0;34m=\u001b[0m \u001b[0;34m[\u001b[0m\u001b[0mt\u001b[0m \u001b[0;32mfor\u001b[0m \u001b[0mt\u001b[0m \u001b[0;32min\u001b[0m \u001b[0mall_vertex_triplets\u001b[0m \u001b[0;32mif\u001b[0m \u001b[0mself\u001b[0m\u001b[0;34m.\u001b[0m\u001b[0m__is_valid_vertex_triplet\u001b[0m\u001b[0;34m(\u001b[0m\u001b[0mt\u001b[0m\u001b[0;34m)\u001b[0m\u001b[0;34m]\u001b[0m\u001b[0;34m\u001b[0m\u001b[0;34m\u001b[0m\u001b[0m\n\u001b[0m\u001b[1;32m    340\u001b[0m         \u001b[0;32mreturn\u001b[0m \u001b[0mres\u001b[0m\u001b[0;34m\u001b[0m\u001b[0;34m\u001b[0m\u001b[0m\n\u001b[1;32m    341\u001b[0m \u001b[0;34m\u001b[0m\u001b[0m\n",
      "\u001b[0;32m~/nlp/linguistic_analysis/src/linguistic_analysis/semantics/similarity.py\u001b[0m in \u001b[0;36m__is_valid_vertex_triplet\u001b[0;34m(self, triplet)\u001b[0m\n\u001b[1;32m    345\u001b[0m         \u001b[0mb\u001b[0m \u001b[0;34m=\u001b[0m \u001b[0mtriplet\u001b[0m\u001b[0;34m[\u001b[0m\u001b[0;36m1\u001b[0m\u001b[0;34m]\u001b[0m\u001b[0;34m\u001b[0m\u001b[0;34m\u001b[0m\u001b[0m\n\u001b[1;32m    346\u001b[0m         \u001b[0mc\u001b[0m \u001b[0;34m=\u001b[0m \u001b[0mtriplet\u001b[0m\u001b[0;34m[\u001b[0m\u001b[0;36m2\u001b[0m\u001b[0;34m]\u001b[0m\u001b[0;34m\u001b[0m\u001b[0;34m\u001b[0m\u001b[0m\n\u001b[0;32m--> 347\u001b[0;31m         \u001b[0;32mif\u001b[0m \u001b[0mself\u001b[0m\u001b[0;34m.\u001b[0m\u001b[0m__is_vertex_in_graph\u001b[0m\u001b[0;34m(\u001b[0m\u001b[0ma\u001b[0m\u001b[0;34m,\u001b[0m \u001b[0mb\u001b[0m\u001b[0;34m)\u001b[0m\u001b[0;34m:\u001b[0m\u001b[0;34m\u001b[0m\u001b[0;34m\u001b[0m\u001b[0m\n\u001b[0m\u001b[1;32m    348\u001b[0m             \u001b[0mnum_vertexes_in_graph\u001b[0m \u001b[0;34m+=\u001b[0m \u001b[0;36m1\u001b[0m\u001b[0;34m\u001b[0m\u001b[0;34m\u001b[0m\u001b[0m\n\u001b[1;32m    349\u001b[0m         \u001b[0;32mif\u001b[0m \u001b[0mself\u001b[0m\u001b[0;34m.\u001b[0m\u001b[0m__is_vertex_in_graph\u001b[0m\u001b[0;34m(\u001b[0m\u001b[0mb\u001b[0m\u001b[0;34m,\u001b[0m \u001b[0mc\u001b[0m\u001b[0;34m)\u001b[0m\u001b[0;34m:\u001b[0m\u001b[0;34m\u001b[0m\u001b[0;34m\u001b[0m\u001b[0m\n",
      "\u001b[0;32m~/nlp/linguistic_analysis/src/linguistic_analysis/semantics/similarity.py\u001b[0m in \u001b[0;36m__is_vertex_in_graph\u001b[0;34m(self, node_name_1, node_name_2)\u001b[0m\n\u001b[1;32m    357\u001b[0m         \u001b[0mindex_2\u001b[0m \u001b[0;34m=\u001b[0m \u001b[0mself\u001b[0m\u001b[0;34m.\u001b[0m\u001b[0mindexes\u001b[0m\u001b[0;34m.\u001b[0m\u001b[0mget\u001b[0m\u001b[0;34m(\u001b[0m\u001b[0mnode_name_2\u001b[0m\u001b[0;34m,\u001b[0m \u001b[0;34m-\u001b[0m\u001b[0;36m1\u001b[0m\u001b[0;34m)\u001b[0m\u001b[0;34m\u001b[0m\u001b[0;34m\u001b[0m\u001b[0m\n\u001b[1;32m    358\u001b[0m         \u001b[0;32mreturn\u001b[0m \u001b[0mindex_1\u001b[0m \u001b[0;34m>=\u001b[0m \u001b[0;36m0\u001b[0m \u001b[0;32mand\u001b[0m \u001b[0mindex_2\u001b[0m \u001b[0;34m>=\u001b[0m \u001b[0;36m0\u001b[0m \u001b[0;32mand\u001b[0m\u001b[0;31m \u001b[0m\u001b[0;31m\\\u001b[0m\u001b[0;34m\u001b[0m\u001b[0;34m\u001b[0m\u001b[0m\n\u001b[0;32m--> 359\u001b[0;31m                ((index_1 in self.graph and index_2 in self.graph[index_1]) or\n\u001b[0m\u001b[1;32m    360\u001b[0m                 (index_2 in self.graph and index_1 in self.graph[index_2]))\n\u001b[1;32m    361\u001b[0m \u001b[0;34m\u001b[0m\u001b[0m\n",
      "\u001b[0;32m~/venv/nlp/lib/python3.6/site-packages/networkx/classes/graph.py\u001b[0m in \u001b[0;36m__getitem__\u001b[0;34m(self, n)\u001b[0m\n\u001b[1;32m    463\u001b[0m         \u001b[0mAtlasView\u001b[0m\u001b[0;34m(\u001b[0m\u001b[0;34m{\u001b[0m\u001b[0;36m1\u001b[0m\u001b[0;34m:\u001b[0m \u001b[0;34m{\u001b[0m\u001b[0;34m}\u001b[0m\u001b[0;34m}\u001b[0m\u001b[0;34m)\u001b[0m\u001b[0;34m\u001b[0m\u001b[0;34m\u001b[0m\u001b[0m\n\u001b[1;32m    464\u001b[0m         \"\"\"\n\u001b[0;32m--> 465\u001b[0;31m         \u001b[0;32mreturn\u001b[0m \u001b[0mself\u001b[0m\u001b[0;34m.\u001b[0m\u001b[0madj\u001b[0m\u001b[0;34m[\u001b[0m\u001b[0mn\u001b[0m\u001b[0;34m]\u001b[0m\u001b[0;34m\u001b[0m\u001b[0;34m\u001b[0m\u001b[0m\n\u001b[0m\u001b[1;32m    466\u001b[0m \u001b[0;34m\u001b[0m\u001b[0m\n\u001b[1;32m    467\u001b[0m     \u001b[0;32mdef\u001b[0m \u001b[0madd_node\u001b[0m\u001b[0;34m(\u001b[0m\u001b[0mself\u001b[0m\u001b[0;34m,\u001b[0m \u001b[0mnode_for_adding\u001b[0m\u001b[0;34m,\u001b[0m \u001b[0;34m**\u001b[0m\u001b[0mattr\u001b[0m\u001b[0;34m)\u001b[0m\u001b[0;34m:\u001b[0m\u001b[0;34m\u001b[0m\u001b[0;34m\u001b[0m\u001b[0m\n",
      "\u001b[0;32m~/venv/nlp/lib/python3.6/site-packages/networkx/classes/graph.py\u001b[0m in \u001b[0;36madj\u001b[0;34m(self)\u001b[0m\n\u001b[1;32m    354\u001b[0m         \u001b[0mFor\u001b[0m \u001b[0mdirected\u001b[0m \u001b[0mgraphs\u001b[0m\u001b[0;34m,\u001b[0m\u001b[0;31m \u001b[0m\u001b[0;31m`\u001b[0m\u001b[0mG\u001b[0m\u001b[0;34m.\u001b[0m\u001b[0madj\u001b[0m\u001b[0;31m`\u001b[0m \u001b[0mholds\u001b[0m \u001b[0moutgoing\u001b[0m \u001b[0;34m(\u001b[0m\u001b[0msuccessor\u001b[0m\u001b[0;34m)\u001b[0m \u001b[0minfo\u001b[0m\u001b[0;34m.\u001b[0m\u001b[0;34m\u001b[0m\u001b[0;34m\u001b[0m\u001b[0m\n\u001b[1;32m    355\u001b[0m         \"\"\"\n\u001b[0;32m--> 356\u001b[0;31m         \u001b[0;32mreturn\u001b[0m \u001b[0mAdjacencyView\u001b[0m\u001b[0;34m(\u001b[0m\u001b[0mself\u001b[0m\u001b[0;34m.\u001b[0m\u001b[0m_adj\u001b[0m\u001b[0;34m)\u001b[0m\u001b[0;34m\u001b[0m\u001b[0;34m\u001b[0m\u001b[0m\n\u001b[0m\u001b[1;32m    357\u001b[0m \u001b[0;34m\u001b[0m\u001b[0m\n\u001b[1;32m    358\u001b[0m     \u001b[0;34m@\u001b[0m\u001b[0mproperty\u001b[0m\u001b[0;34m\u001b[0m\u001b[0;34m\u001b[0m\u001b[0m\n",
      "\u001b[0;32m~/venv/nlp/lib/python3.6/site-packages/networkx/classes/coreviews.py\u001b[0m in \u001b[0;36m__init__\u001b[0;34m(self, d)\u001b[0m\n\u001b[1;32m     39\u001b[0m         \u001b[0mself\u001b[0m\u001b[0;34m.\u001b[0m\u001b[0m_atlas\u001b[0m \u001b[0;34m=\u001b[0m \u001b[0mstate\u001b[0m\u001b[0;34m[\u001b[0m\u001b[0;34m\"_atlas\"\u001b[0m\u001b[0;34m]\u001b[0m\u001b[0;34m\u001b[0m\u001b[0;34m\u001b[0m\u001b[0m\n\u001b[1;32m     40\u001b[0m \u001b[0;34m\u001b[0m\u001b[0m\n\u001b[0;32m---> 41\u001b[0;31m     \u001b[0;32mdef\u001b[0m \u001b[0m__init__\u001b[0m\u001b[0;34m(\u001b[0m\u001b[0mself\u001b[0m\u001b[0;34m,\u001b[0m \u001b[0md\u001b[0m\u001b[0;34m)\u001b[0m\u001b[0;34m:\u001b[0m\u001b[0;34m\u001b[0m\u001b[0;34m\u001b[0m\u001b[0m\n\u001b[0m\u001b[1;32m     42\u001b[0m         \u001b[0mself\u001b[0m\u001b[0;34m.\u001b[0m\u001b[0m_atlas\u001b[0m \u001b[0;34m=\u001b[0m \u001b[0md\u001b[0m\u001b[0;34m\u001b[0m\u001b[0;34m\u001b[0m\u001b[0m\n\u001b[1;32m     43\u001b[0m \u001b[0;34m\u001b[0m\u001b[0m\n",
      "\u001b[0;31mKeyboardInterrupt\u001b[0m: "
     ]
    }
   ],
   "source": [
    "# Calculate the matrix of angle distances between the triangulations of the SemGraphs of the books.\n",
    "angle_distance_matrix = np.zeros((len(semgraphs), len(semgraphs)))\n",
    "for i in tqdm(range(len(semgraphs))):\n",
    "    for j in tqdm(range(len(semgraphs))):\n",
    "        if (i<j):\n",
    "            angle_distance_matrix[i][j] = get_triangulation_angle_distance(semgraphs[i], semgraphs[j])[1]\n",
    "        else:\n",
    "            angle_distance_matrix[i][j] = angle_distance_matrix[j][i]"
   ]
  },
  {
   "cell_type": "code",
   "execution_count": 28,
   "metadata": {},
   "outputs": [
    {
     "data": {
      "text/plain": [
       "array([0.        , 0.92537729, 0.87190753, 0.97090585, 0.9076925 ,\n",
       "       0.93092679, 0.86971627, 0.81244813, 0.82305435, 0.9076925 ,\n",
       "       0.87622405, 0.84430369, 0.86377589, 0.91616258, 0.75797168,\n",
       "       0.88897292, 0.9076925 , 0.83218268, 0.79479353, 0.75327399,\n",
       "       0.9076925 , 0.84784885, 0.90042037, 0.87073725, 0.80009548,\n",
       "       0.83995139, 0.85111241, 0.81921903, 0.87017522, 0.92418525,\n",
       "       0.98053061, 0.88970452, 0.86348879, 0.9076925 , 0.81347933,\n",
       "       0.78895549, 0.83853428, 1.01939227, 0.84534018, 0.87127857,\n",
       "       0.85972463, 0.9076925 , 0.87406807, 0.95456458, 0.85195058,\n",
       "       1.02095404, 0.9076925 , 0.87467432, 0.8778333 , 0.8984653 ,\n",
       "       0.9076925 , 0.9076925 , 0.9253814 , 0.84605843, 0.86262223,\n",
       "       0.80682888, 0.88669897, 0.86730877, 0.83736519, 0.86287938,\n",
       "       0.85247992, 0.82899556, 0.8035002 , 0.9076925 , 0.91011553,\n",
       "       0.77330393, 0.87764726, 0.81277854, 0.97170394, 0.9076925 ,\n",
       "       0.88262325, 0.86603207, 0.77953313, 0.90097078, 0.83209094,\n",
       "       0.88581278, 0.9076925 , 0.85665614, 0.9076925 , 0.94540675,\n",
       "       0.88257821, 0.92514901, 0.89572594, 0.85703743, 0.7582506 ,\n",
       "       0.85714228, 0.87310177, 0.87057276, 0.85972109, 0.9076925 ,\n",
       "       0.91149413, 0.78467968, 0.9076925 , 0.88584321])"
      ]
     },
     "execution_count": 28,
     "metadata": {},
     "output_type": "execute_result"
    }
   ],
   "source": [
    "angle_distance_matrix[0]"
   ]
  },
  {
   "cell_type": "code",
   "execution_count": 34,
   "metadata": {},
   "outputs": [],
   "source": [
    "import plotly_express as px\n",
    "\n",
    "?px.histogram"
   ]
  },
  {
   "cell_type": "code",
   "execution_count": 39,
   "metadata": {},
   "outputs": [
    {
     "data": {
      "image/png": "[encoded data removed]",
      "text/plain": [
       "<Figure size 432x288 with 1 Axes>"
      ]
     },
     "metadata": {
      "needs_background": "light"
     },
     "output_type": "display_data"
    }
   ],
   "source": [
    "import matplotlib.pyplot as plt\n",
    "\n",
    "plt.hist(angle_distance_matrix[0], bins=40);"
   ]
  },
  {
   "cell_type": "code",
   "execution_count": 40,
   "metadata": {},
   "outputs": [
    {
     "data": {
      "image/png": "[encoded data removed]",
      "text/plain": [
       "<Figure size 432x288 with 1 Axes>"
      ]
     },
     "metadata": {
      "needs_background": "light"
     },
     "output_type": "display_data"
    }
   ],
   "source": [
    "plt.hist(angle_distance_matrix[1], bins=40);"
   ]
  },
  {
   "cell_type": "code",
   "execution_count": null,
   "metadata": {},
   "outputs": [],
   "source": []
  },
  {
   "cell_type": "code",
   "execution_count": null,
   "metadata": {},
   "outputs": [],
   "source": []
  }
 ],
 "metadata": {
  "kernelspec": {
   "display_name": "Python 3",
   "language": "python",
   "name": "python3"
  },
  "language_info": {
   "codemirror_mode": {
    "name": "ipython",
    "version": 3
   },
   "file_extension": ".py",
   "mimetype": "text/x-python",
   "name": "python",
   "nbconvert_exporter": "python",
   "pygments_lexer": "ipython3",
   "version": "3.6.9"
  }
 },
 "nbformat": 4,
 "nbformat_minor": 4
}
