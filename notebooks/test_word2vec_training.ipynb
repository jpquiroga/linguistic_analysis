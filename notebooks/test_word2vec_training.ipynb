{
 "cells": [
  {
   "cell_type": "markdown",
   "metadata": {},
   "source": [
    "# Test Word2vec training"
   ]
  },
  {
   "cell_type": "code",
   "execution_count": 1,
   "metadata": {},
   "outputs": [],
   "source": [
    "from gensim.models import Word2Vec"
   ]
  },
  {
   "cell_type": "code",
   "execution_count": 2,
   "metadata": {},
   "outputs": [],
   "source": [
    "NORMALIZED_TEXT_PATH = \"../normalized_data/french_novel/normalized_balzac.txt\"\n",
    "\n",
    "W2V_MODEL_DESTINATION = \"../models/french_novels/balzac/w2v_balzac_basic.model\""
   ]
  },
  {
   "cell_type": "code",
   "execution_count": 9,
   "metadata": {},
   "outputs": [
    {
     "name": "stdout",
     "output_type": "stream",
     "text": [
      "  123218  2546113 14074554 ../normalized_data/french_novel/normalized_balzac.txt\r\n"
     ]
    }
   ],
   "source": [
    "!wc $NORMALIZED_TEXT_PATH"
   ]
  },
  {
   "cell_type": "code",
   "execution_count": 11,
   "metadata": {},
   "outputs": [
    {
     "data": {
      "text/plain": [
       "(9270009, 12755695)"
      ]
     },
     "execution_count": 11,
     "metadata": {},
     "output_type": "execute_result"
    }
   ],
   "source": [
    "SG = 0  # CBOW\n",
    "NUM_EPOCHS = 5\n",
    "WINDOW = 5\n",
    "MIN_COUNT = 5\n",
    "WORKERS = 4\n",
    "WORD_COUNT = 2546113\n",
    "\n",
    "model = Word2Vec(corpus_file=NORMALIZED_TEXT_PATH, sg=SG, window=WINDOW, min_count=MIN_COUNT, workers=WORKERS)\n",
    "model.train(corpus_file=NORMALIZED_TEXT_PATH, \n",
    "           epochs=NUM_EPOCHS, total_examples=model.corpus_count, total_words=WORD_COUNT)"
   ]
  },
  {
   "cell_type": "code",
   "execution_count": 12,
   "metadata": {},
   "outputs": [
    {
     "data": {
      "text/plain": [
       "<gensim.models.keyedvectors.Word2VecKeyedVectors at 0x7f83b996c160>"
      ]
     },
     "execution_count": 12,
     "metadata": {},
     "output_type": "execute_result"
    }
   ],
   "source": [
    "model.wv"
   ]
  },
  {
   "cell_type": "code",
   "execution_count": 13,
   "metadata": {},
   "outputs": [
    {
     "data": {
      "text/plain": [
       "array([ 9.88191009e-01,  3.90715152e-01, -3.17997456e+00,  2.31192261e-01,\n",
       "       -4.74562943e-01, -1.27989578e+00, -5.23364842e-01, -7.14928627e-01,\n",
       "        1.21375597e+00,  2.26589179e+00, -9.42520440e-01,  4.63689834e-01,\n",
       "       -9.66164529e-01, -2.27535629e+00,  1.40301108e+00,  3.99962366e-01,\n",
       "       -2.80300617e-01, -3.38220671e-02, -2.19775772e+00, -1.52350888e-02,\n",
       "        3.49769264e-01,  5.02152801e-01,  5.54554880e-01, -5.08861482e-01,\n",
       "       -2.54701316e-01,  4.00606543e-01,  3.87489766e-01,  8.78494322e-01,\n",
       "       -8.26647103e-01, -1.10800421e+00, -5.09865582e-01, -1.03938890e+00,\n",
       "        1.09289326e-01,  1.37739909e+00, -1.17121542e+00,  6.91189170e-01,\n",
       "        1.64274320e-01,  1.70676792e+00, -2.64843315e-01,  5.67855477e-01,\n",
       "       -1.04390800e+00, -1.19792391e-02, -1.39689291e+00, -8.58007520e-02,\n",
       "        6.24193847e-01,  2.25587916e+00, -2.78338850e-01, -4.56821263e-01,\n",
       "        6.79928243e-01, -3.69276673e-01, -1.45171988e+00, -8.67815971e-01,\n",
       "       -9.07874525e-01,  7.16268897e-01,  6.57238901e-01, -7.50998318e-01,\n",
       "       -1.16204761e-01,  2.14582845e-03, -4.95517880e-01, -9.40058306e-02,\n",
       "        4.30060297e-01,  1.79149136e-01,  5.93671799e-01, -1.19076526e+00,\n",
       "        1.31697524e+00,  1.07209742e+00, -5.92621148e-01, -7.53632724e-01,\n",
       "        2.39563942e-01,  1.60181552e-01,  7.50426292e-01, -9.64542180e-02,\n",
       "       -4.84596103e-01, -2.40293279e-01, -1.32954931e+00,  1.62164664e+00,\n",
       "        2.39212847e+00, -2.73972809e-01, -1.92162144e+00,  8.97402018e-02,\n",
       "        2.20303893e-01, -6.93055630e-01, -7.14359358e-02, -1.51036429e+00,\n",
       "        2.21412152e-01, -5.98522842e-01, -7.72040069e-01,  5.09363353e-01,\n",
       "        3.28646868e-01, -2.71527076e+00, -4.76854891e-01, -1.19367748e-01,\n",
       "       -4.58833069e-01,  6.59900784e-01, -4.45216335e-02, -7.31455162e-03,\n",
       "        6.52807951e-01, -3.04156020e-02, -2.67433114e-02,  8.70637476e-01],\n",
       "      dtype=float32)"
      ]
     },
     "execution_count": 13,
     "metadata": {},
     "output_type": "execute_result"
    }
   ],
   "source": [
    "model.wv[\"a\"]"
   ]
  },
  {
   "cell_type": "code",
   "execution_count": null,
   "metadata": {},
   "outputs": [],
   "source": []
  }
 ],
 "metadata": {
  "kernelspec": {
   "display_name": "Python 3",
   "language": "python",
   "name": "python3"
  },
  "language_info": {
   "codemirror_mode": {
    "name": "ipython",
    "version": 3
   },
   "file_extension": ".py",
   "mimetype": "text/x-python",
   "name": "python",
   "nbconvert_exporter": "python",
   "pygments_lexer": "ipython3",
   "version": "3.6.9"
  }
 },
 "nbformat": 4,
 "nbformat_minor": 4
}
