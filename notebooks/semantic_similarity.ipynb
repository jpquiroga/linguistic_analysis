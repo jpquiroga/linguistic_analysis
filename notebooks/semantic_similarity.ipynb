{
 "cells": [
  {
   "cell_type": "markdown",
   "metadata": {},
   "source": [
    "# Tests on semantic similarity measures"
   ]
  },
  {
   "cell_type": "markdown",
   "metadata": {},
   "source": [
    "### Comparison of semantic graphs (Semgraphs)"
   ]
  },
  {
   "cell_type": "code",
   "execution_count": 1,
   "metadata": {},
   "outputs": [],
   "source": [
    "import sys"
   ]
  },
  {
   "cell_type": "code",
   "execution_count": 2,
   "metadata": {},
   "outputs": [],
   "source": [
    "PATHS_TO_ADD = [\n",
    "    \"../src\"\n",
    "]\n",
    "for p in PATHS_TO_ADD:\n",
    "    if p not in sys.path:\n",
    "        sys.path.append(p)"
   ]
  },
  {
   "cell_type": "code",
   "execution_count": 3,
   "metadata": {},
   "outputs": [],
   "source": [
    "from linguistic_analysis.semantics.similarity import SemGraph"
   ]
  },
  {
   "cell_type": "code",
   "execution_count": 4,
   "metadata": {},
   "outputs": [],
   "source": [
    "s_graph = SemGraph([\"a\", \"b\", \"c\", \"d\", \"e\"])"
   ]
  },
  {
   "cell_type": "code",
   "execution_count": 5,
   "metadata": {},
   "outputs": [],
   "source": [
    "s_graph.add_edge_with_names(\"a\", \"b\", 0.1)\n",
    "s_graph.add_edge_with_names(\"a\", \"c\", 0.1)\n",
    "s_graph.add_edge_with_names(\"b\", \"c\", 0.1)\n",
    "s_graph.add_edge_with_names(\"b\", \"d\", 0.1)\n",
    "s_graph.add_edge_with_names(\"e\", \"d\", 0.1)"
   ]
  },
  {
   "cell_type": "code",
   "execution_count": 6,
   "metadata": {},
   "outputs": [
    {
     "data": {
      "text/plain": [
       "NodeView((0, 1, 2, 3, 4))"
      ]
     },
     "execution_count": 6,
     "metadata": {},
     "output_type": "execute_result"
    }
   ],
   "source": [
    "s_graph.graph.nodes"
   ]
  },
  {
   "cell_type": "code",
   "execution_count": 7,
   "metadata": {},
   "outputs": [
    {
     "data": {
      "text/plain": [
       "EdgeView([(0, 1), (0, 2), (1, 2), (1, 3), (3, 4)])"
      ]
     },
     "execution_count": 7,
     "metadata": {},
     "output_type": "execute_result"
    }
   ],
   "source": [
    "s_graph.graph.edges"
   ]
  },
  {
   "cell_type": "code",
   "execution_count": 8,
   "metadata": {},
   "outputs": [
    {
     "data": {
      "image/png": "[encoded data removed]",
      "text/plain": [
       "<Figure size 432x288 with 1 Axes>"
      ]
     },
     "metadata": {},
     "output_type": "display_data"
    }
   ],
   "source": [
    "import matplotlib.pyplot as plt\n",
    "import networkx as nx\n",
    "\n",
    "plt.subplot(121)\n",
    "nx.draw(s_graph.graph, with_labels=True, font_weight='bold')"
   ]
  },
  {
   "cell_type": "code",
   "execution_count": 9,
   "metadata": {},
   "outputs": [
    {
     "name": "stdout",
     "output_type": "stream",
     "text": [
      "a\n",
      "{'name': 'a', 's': array([1., 0., 0., 0., 0.])}\n",
      "[1. 0. 0. 0. 0.]\n",
      "b\n",
      "{'name': 'b', 's': array([0., 1., 0., 0., 0.])}\n",
      "[0. 1. 0. 0. 0.]\n",
      "c\n",
      "{'name': 'c', 's': array([0., 0., 1., 0., 0.])}\n",
      "[0. 0. 1. 0. 0.]\n",
      "d\n",
      "{'name': 'd', 's': array([0., 0., 0., 1., 0.])}\n",
      "[0. 0. 0. 1. 0.]\n",
      "e\n",
      "{'name': 'e', 's': array([0., 0., 0., 0., 1.])}\n",
      "[0. 0. 0. 0. 1.]\n"
     ]
    }
   ],
   "source": [
    "for i in range(s_graph.dimension):\n",
    "    print(s_graph.graph.nodes[i][\"name\"])\n",
    "    print(s_graph.graph.nodes[i])\n",
    "    print(s_graph.graph.nodes[i][\"s\"])"
   ]
  },
  {
   "cell_type": "code",
   "execution_count": 10,
   "metadata": {},
   "outputs": [
    {
     "data": {
      "text/plain": [
       "[array([1., 0., 0., 0., 0.]),\n",
       " array([0., 1., 0., 0., 0.]),\n",
       " array([0., 0., 1., 0., 0.]),\n",
       " array([0., 0., 0., 1., 0.]),\n",
       " array([0., 0., 0., 0., 1.])]"
      ]
     },
     "execution_count": 10,
     "metadata": {},
     "output_type": "execute_result"
    }
   ],
   "source": [
    "s_graph.get_score_vectors()"
   ]
  },
  {
   "cell_type": "code",
   "execution_count": 11,
   "metadata": {},
   "outputs": [],
   "source": [
    "s_graph.propagate(5)"
   ]
  },
  {
   "cell_type": "code",
   "execution_count": null,
   "metadata": {},
   "outputs": [],
   "source": []
  },
  {
   "cell_type": "code",
   "execution_count": 12,
   "metadata": {},
   "outputs": [
    {
     "data": {
      "text/plain": [
       "[1, 2]"
      ]
     },
     "execution_count": 12,
     "metadata": {},
     "output_type": "execute_result"
    }
   ],
   "source": [
    "list(s_graph.graph.neighbors(0))"
   ]
  },
  {
   "cell_type": "code",
   "execution_count": 13,
   "metadata": {},
   "outputs": [
    {
     "data": {
      "text/plain": [
       "{'name': 'a',\n",
       " 's': array([0.83295118, 0.38713745, 0.39055766, 0.06127203, 0.00523224]),\n",
       " 's_temp': array([0.88199508, 0.33084263, 0.33315291, 0.04039305, 0.00232058])}"
      ]
     },
     "execution_count": 13,
     "metadata": {},
     "output_type": "execute_result"
    }
   ],
   "source": [
    "s_graph.graph.nodes[0]"
   ]
  },
  {
   "cell_type": "code",
   "execution_count": 14,
   "metadata": {},
   "outputs": [
    {
     "data": {
      "text/plain": [
       "[array([0.83295118, 0.38713745, 0.39055766, 0.06127203, 0.00523224]),\n",
       " array([0.36444642, 0.79586363, 0.36444642, 0.31281159, 0.05574584]),\n",
       " array([0.39055766, 0.38713745, 0.83295118, 0.06127203, 0.00523224]),\n",
       " array([0.06306849, 0.34265337, 0.06306849, 0.86430365, 0.35722905]),\n",
       " array([0.00590781, 0.06557263, 0.00590781, 0.38324082, 0.92128003])]"
      ]
     },
     "execution_count": 14,
     "metadata": {},
     "output_type": "execute_result"
    }
   ],
   "source": [
    "s_graph.get_score_vectors()"
   ]
  },
  {
   "cell_type": "code",
   "execution_count": 15,
   "metadata": {},
   "outputs": [
    {
     "data": {
      "text/plain": [
       "[array([1., 0., 0., 0., 0.]),\n",
       " array([0., 1., 0., 0., 0.]),\n",
       " array([0., 0., 1., 0., 0.]),\n",
       " array([0., 0., 0., 1., 0.]),\n",
       " array([0., 0., 0., 0., 1.])]"
      ]
     },
     "execution_count": 15,
     "metadata": {},
     "output_type": "execute_result"
    }
   ],
   "source": [
    "s_graph.reset()\n",
    "s_graph.get_score_vectors()"
   ]
  },
  {
   "cell_type": "code",
   "execution_count": 16,
   "metadata": {},
   "outputs": [
    {
     "data": {
      "text/plain": [
       "[array([0.9919971 , 0.08927974, 0.08927974, 0.        , 0.        ]),\n",
       " array([0.08892603, 0.98806704, 0.08892603, 0.08892603, 0.        ]),\n",
       " array([0.08927974, 0.08927974, 0.9919971 , 0.        , 0.        ]),\n",
       " array([0.        , 0.08927974, 0.        , 0.9919971 , 0.08927974]),\n",
       " array([0.        , 0.        , 0.        , 0.0896377 , 0.99597444])]"
      ]
     },
     "execution_count": 16,
     "metadata": {},
     "output_type": "execute_result"
    }
   ],
   "source": [
    "s_graph.propagate(1)\n",
    "s_graph.get_score_vectors()"
   ]
  },
  {
   "cell_type": "code",
   "execution_count": 17,
   "metadata": {},
   "outputs": [
    {
     "data": {
      "text/plain": [
       "[array([0.96743704, 0.17874011, 0.17904901, 0.00768101, 0.        ]),\n",
       " array([0.1755361 , 0.9539944 , 0.1755361 , 0.16796277, 0.00757333]),\n",
       " array([0.17904901, 0.17874011, 0.96743704, 0.00768101, 0.        ]),\n",
       " array([0.00770087, 0.17147084, 0.00770087, 0.96996989, 0.17215561]),\n",
       " array([0.        , 0.00787872, 0.        , 0.17543359, 0.98445974])]"
      ]
     },
     "execution_count": 17,
     "metadata": {},
     "output_type": "execute_result"
    }
   ],
   "source": [
    "s_graph.propagate(1)\n",
    "s_graph.get_score_vectors()"
   ]
  },
  {
   "cell_type": "code",
   "execution_count": 18,
   "metadata": {},
   "outputs": [
    {
     "data": {
      "text/plain": [
       "[array([0.43348446, 0.52815058, 0.43348446, 0.46506764, 0.35909818]),\n",
       " array([0.43253394, 0.52770068, 0.43253394, 0.46610991, 0.360697  ]),\n",
       " array([0.43348446, 0.52815058, 0.43348446, 0.46506764, 0.35909818]),\n",
       " array([0.43016268, 0.52657041, 0.43016268, 0.46868706, 0.36465898]),\n",
       " array([0.42856151, 0.52580091, 0.42856151, 0.47040894, 0.36731307])]"
      ]
     },
     "execution_count": 18,
     "metadata": {},
     "output_type": "execute_result"
    }
   ],
   "source": [
    "s_graph.reset()\n",
    "s_graph.propagate(1000, lambda i: 0.1)\n",
    "s_graph.get_score_vectors()"
   ]
  },
  {
   "cell_type": "code",
   "execution_count": 19,
   "metadata": {},
   "outputs": [
    {
     "data": {
      "text/plain": [
       "[array([0.43311762, 0.54356685, 0.43311762, 0.46119192, 0.34154846]),\n",
       " array([0.43311762, 0.54356685, 0.43311762, 0.46119192, 0.34154846]),\n",
       " array([0.43311762, 0.54356685, 0.43311762, 0.46119192, 0.34154846]),\n",
       " array([0.43311762, 0.54356685, 0.43311762, 0.46119192, 0.34154846]),\n",
       " array([0.43311762, 0.54356685, 0.43311762, 0.46119192, 0.34154846])]"
      ]
     },
     "execution_count": 19,
     "metadata": {},
     "output_type": "execute_result"
    }
   ],
   "source": [
    "s_graph.reset()\n",
    "s_graph.propagate(1000, lambda i: 1.0)\n",
    "s_graph.get_score_vectors()"
   ]
  },
  {
   "cell_type": "code",
   "execution_count": 20,
   "metadata": {},
   "outputs": [
    {
     "data": {
      "text/plain": [
       "[array([0.4646884 , 0.61660183, 0.4646884 , 0.38883206, 0.19167995]),\n",
       " array([0.4646884 , 0.61660183, 0.4646884 , 0.38883206, 0.19167995]),\n",
       " array([0.4646884 , 0.61660183, 0.4646884 , 0.38883206, 0.19167995]),\n",
       " array([0.4646884 , 0.61660183, 0.4646884 , 0.38883206, 0.19167995]),\n",
       " array([0.4646884 , 0.61660183, 0.4646884 , 0.38883206, 0.19167995])]"
      ]
     },
     "execution_count": 20,
     "metadata": {},
     "output_type": "execute_result"
    }
   ],
   "source": [
    "s_graph.reset()\n",
    "s_graph.propagate(1000, lambda i: 1000.0)\n",
    "s_graph.get_score_vectors()"
   ]
  },
  {
   "cell_type": "code",
   "execution_count": null,
   "metadata": {},
   "outputs": [],
   "source": []
  },
  {
   "cell_type": "code",
   "execution_count": 28,
   "metadata": {},
   "outputs": [
    {
     "data": {
      "text/plain": [
       "[array([1.17894721, 0.56223459, 0.55491506, 0.08997158, 0.00764757]),\n",
       " array([0.56223459, 1.26159927, 0.56223459, 0.47991058, 0.08232401]),\n",
       " array([0.55491506, 0.56223459, 1.17894721, 0.08997158, 0.00764757]),\n",
       " array([0.08997158, 0.47991058, 0.08997158, 1.16398011, 0.46461543]),\n",
       " array([0.00764757, 0.08232401, 0.00764757, 0.46461543, 1.0816561 ])]"
      ]
     },
     "execution_count": 28,
     "metadata": {},
     "output_type": "execute_result"
    }
   ],
   "source": [
    "s_graph.reset()\n",
    "s_graph.propagate(5, lambda i: 0.9, normalize=False)\n",
    "s_graph.get_score_vectors()"
   ]
  },
  {
   "cell_type": "code",
   "execution_count": 33,
   "metadata": {},
   "outputs": [
    {
     "data": {
      "text/plain": [
       "0.1"
      ]
     },
     "execution_count": 33,
     "metadata": {},
     "output_type": "execute_result"
    }
   ],
   "source": [
    "s_graph.graph[0][1][\"similarity\"]"
   ]
  },
  {
   "cell_type": "code",
   "execution_count": 22,
   "metadata": {},
   "outputs": [],
   "source": [
    "s_graph.reset()"
   ]
  },
  {
   "cell_type": "code",
   "execution_count": 24,
   "metadata": {},
   "outputs": [],
   "source": [
    "for j in range(s_graph.dimension):\n",
    "    s_graph.graph.nodes[j][\"s_temp\"] = s_graph.graph.nodes[j][\"s\"]\n"
   ]
  },
  {
   "cell_type": "code",
   "execution_count": 31,
   "metadata": {},
   "outputs": [],
   "source": [
    "s_update = 0\n",
    "j=0\n",
    "for n in s_graph.graph.neighbors(j):\n",
    "    s_update += s_graph.graph.nodes[n][\"s_temp\"]*s_graph.graph[j][n][\"similarity\"]\n",
    "s_graph.graph.nodes[j][\"s\"] += 0.9*s_update\n"
   ]
  },
  {
   "cell_type": "code",
   "execution_count": 33,
   "metadata": {},
   "outputs": [
    {
     "data": {
      "text/plain": [
       "{'name': 'a',\n",
       " 's': array([1.  , 0.09, 0.09, 0.  , 0.  ]),\n",
       " 's_temp': array([1.  , 0.09, 0.09, 0.  , 0.  ])}"
      ]
     },
     "execution_count": 33,
     "metadata": {},
     "output_type": "execute_result"
    }
   ],
   "source": [
    "s_graph.graph.nodes[0]"
   ]
  },
  {
   "cell_type": "code",
   "execution_count": 34,
   "metadata": {},
   "outputs": [],
   "source": [
    "s_update = 0\n",
    "j=1\n",
    "for n in s_graph.graph.neighbors(j):\n",
    "    s_update += s_graph.graph.nodes[n][\"s_temp\"]*s_graph.graph[j][n][\"similarity\"]\n",
    "s_graph.graph.nodes[j][\"s\"] += 0.9*s_update\n"
   ]
  },
  {
   "cell_type": "code",
   "execution_count": 37,
   "metadata": {},
   "outputs": [
    {
     "data": {
      "text/plain": [
       "{'name': 'b',\n",
       " 's': array([0.09  , 1.0081, 0.0981, 0.09  , 0.    ]),\n",
       " 's_temp': array([0.09  , 1.0081, 0.0981, 0.09  , 0.    ])}"
      ]
     },
     "execution_count": 37,
     "metadata": {},
     "output_type": "execute_result"
    }
   ],
   "source": [
    "s_graph.graph.nodes[1]"
   ]
  },
  {
   "cell_type": "markdown",
   "metadata": {},
   "source": [
    "### Build Semgraphs"
   ]
  },
  {
   "cell_type": "code",
   "execution_count": 4,
   "metadata": {},
   "outputs": [],
   "source": [
    "import os\n",
    "from gensim.models import Word2Vec\n",
    "from gensim.models import KeyedVectors"
   ]
  },
  {
   "cell_type": "markdown",
   "metadata": {},
   "source": [
    "Load the embedding model"
   ]
  },
  {
   "cell_type": "code",
   "execution_count": 5,
   "metadata": {},
   "outputs": [],
   "source": [
    "#MODEL_PATH = \"../models/french_novels/balzac/\"\n",
    "#MODEL_PATH = \"../models/french_novels/balzac/accents\"\n",
    "MODEL_PATH = \"../models/french_novels/balzac/accents_lemmatized\"\n",
    "MODEL_FILE = \"balzac_w2v_sg_w10_mincount5_ep/balzac_w2v_sg_w10_mincount5_ep.model\"\n",
    "#MODEL_FILE = \"balzac_w2v_cbow_w10_ep20_mincount5.model\"\n",
    "\n",
    "#model = Word2Vec.load(os.path.join(MODEL_PATH, MODEL_FILE))\n",
    "\n",
    "model = KeyedVectors.load(os.path.join(MODEL_PATH, MODEL_FILE))"
   ]
  },
  {
   "cell_type": "markdown",
   "metadata": {},
   "source": [
    "    1. Argent\n",
    "    2. Payement = paiement\n",
    "    3. Banque\n",
    "    4. Banquier\n",
    "    5. Crédit\n",
    "    6. Créancier\n",
    "    7. Capital\n",
    "    8. Dépôt\n",
    "    9. Prêt\n",
    "    10. Remboursement\n",
    "    11. Créance\n",
    "    12. Prix\n",
    "    13. Dette\n",
    "    14. Bail\n",
    "    15. Revenus (se pone únicamente en plural)\n",
    "    16. Rente\n",
    "    17. Francs (moneda; plural)\n",
    "    18. Louis d’or (moneda, plural)\n",
    "    19. Écus (moneda, plural)\n",
    "    20. Budget"
   ]
  },
  {
   "cell_type": "code",
   "execution_count": 6,
   "metadata": {},
   "outputs": [],
   "source": [
    "\n",
    "base_words = [\n",
    "    \"argent\",\n",
    "    \"payement\", \n",
    "    \"paiement\",\n",
    "    \"banque\",\n",
    "    \"banquier\",\n",
    "    \"crédit\",\n",
    "    \"créancier\",\n",
    "    \"capital\",\n",
    "    \"dépôt\",\n",
    "    \"prêt\",\n",
    "    \"remboursement\",\n",
    "    \"créance\",\n",
    "    \"prix\",\n",
    "    \"dette\",\n",
    "    \"bail\",\n",
    "    \"revenus\",\n",
    "    \"rente\",\n",
    "    \"francs\",\n",
    "#    \"louis d’or\",\n",
    "    \"écus\",\n",
    "    \"budget\"\n",
    "]\n",
    "\n",
    "base_words = [\n",
    "    \"argent\",\n",
    "    \"payement\", \n",
    "    \"paiement\",\n",
    "    \"banque\",\n",
    "    \"banquier\",\n",
    "    \"crédit\",\n",
    "    \"créancier\",\n",
    "    \"capital\",\n",
    "    \"dépôt\",\n",
    "    \"prêt\",\n",
    "    \"remboursement\",\n",
    "    \"créance\",\n",
    "    \"prix\",\n",
    "    \"dette\",\n",
    "    \"bail\",\n",
    "    \"revenu\",\n",
    "    \"rente\",\n",
    "    \"franc\",\n",
    "#    \"louis d’or\",\n",
    "    \"écus\",\n",
    "    \"budget\"\n",
    "]"
   ]
  },
  {
   "cell_type": "code",
   "execution_count": 7,
   "metadata": {},
   "outputs": [],
   "source": [
    "sem_graph = SemGraph.build_from_gensim_embedding(model, base_words, n_top_similar=10, similarity_threshold=0.4)"
   ]
  },
  {
   "cell_type": "code",
   "execution_count": 8,
   "metadata": {},
   "outputs": [
    {
     "data": {
      "text/plain": [
       "NodeView((0, 1, 2, 3, 4, 5, 6, 7, 8, 9, 10, 11, 12, 13, 14, 15, 16, 17, 18, 19, 20, 21, 22, 23, 24, 25, 26, 27, 28, 29, 30, 31, 32, 33, 34, 35, 36, 37, 38, 39, 40, 41, 42, 43, 44, 45, 46, 47, 48, 49, 50, 51, 52, 53, 54, 55, 56, 57, 58, 59, 60, 61, 62, 63, 64, 65, 66, 67, 68, 69, 70, 71, 72, 73, 74, 75, 76, 77, 78, 79, 80, 81, 82, 83, 84, 85, 86, 87, 88, 89, 90, 91, 92, 93, 94, 95, 96, 97, 98, 99, 100, 101, 102, 103, 104, 105, 106, 107, 108, 109, 110, 111, 112, 113, 114, 115))"
      ]
     },
     "execution_count": 8,
     "metadata": {},
     "output_type": "execute_result"
    }
   ],
   "source": [
    "sem_graph.graph.nodes"
   ]
  },
  {
   "cell_type": "code",
   "execution_count": 9,
   "metadata": {},
   "outputs": [
    {
     "data": {
      "text/plain": [
       "{'acquisition': 0,\n",
       " 'adjudication': 1,\n",
       " 'appointement': 2,\n",
       " 'argent': 3,\n",
       " 'arpent': 4,\n",
       " 'bail': 5,\n",
       " 'balance': 6,\n",
       " 'banque': 7,\n",
       " 'banquier': 8,\n",
       " 'bilan': 9,\n",
       " 'billet': 10,\n",
       " 'bordereau': 11,\n",
       " 'bourse': 12,\n",
       " 'budget': 13,\n",
       " 'bénéfice': 14,\n",
       " 'caisse': 15,\n",
       " 'caissier': 16,\n",
       " 'capital': 17,\n",
       " 'capitaliste': 18,\n",
       " 'cartouche': 19,\n",
       " 'cautionnement': 20,\n",
       " 'cent': 21,\n",
       " 'charte': 22,\n",
       " 'chiffre': 23,\n",
       " 'client': 24,\n",
       " 'code': 25,\n",
       " 'commission': 26,\n",
       " 'comptant': 27,\n",
       " 'concordat': 28,\n",
       " 'créance': 29,\n",
       " 'créancier': 30,\n",
       " 'crédit': 31,\n",
       " 'dette': 32,\n",
       " 'dividende': 33,\n",
       " 'domaine': 34,\n",
       " 'domicile': 35,\n",
       " 'dot': 36,\n",
       " 'droguist': 37,\n",
       " 'droi': 38,\n",
       " 'ducat': 39,\n",
       " 'débiteur': 40,\n",
       " 'déposer': 41,\n",
       " 'dépôt': 42,\n",
       " 'empoigneur': 43,\n",
       " 'escompte': 44,\n",
       " 'exemplaire': 45,\n",
       " 'exploitation': 46,\n",
       " 'failli': 47,\n",
       " 'fermage': 48,\n",
       " 'fisc': 49,\n",
       " 'fonds': 50,\n",
       " 'forcer': 51,\n",
       " 'fortune': 52,\n",
       " 'franc': 53,\n",
       " 'gain': 54,\n",
       " 'garantie': 55,\n",
       " 'hausse': 56,\n",
       " 'hypothèque': 57,\n",
       " 'impôt': 58,\n",
       " 'intégral': 59,\n",
       " 'keller': 60,\n",
       " 'lecamu': 61,\n",
       " 'liquidateur': 62,\n",
       " 'livre': 63,\n",
       " 'loyer': 64,\n",
       " 'mandat': 65,\n",
       " 'marchandise': 66,\n",
       " 'maximum': 67,\n",
       " 'million': 68,\n",
       " 'notaire': 69,\n",
       " 'négociant': 70,\n",
       " 'obliger': 71,\n",
       " 'or': 72,\n",
       " 'paiement': 73,\n",
       " 'parfumeur': 74,\n",
       " 'payement': 75,\n",
       " 'pension': 76,\n",
       " 'piastre': 77,\n",
       " 'piqûre': 78,\n",
       " 'placement': 79,\n",
       " 'porteur': 80,\n",
       " 'prime': 81,\n",
       " 'prix': 82,\n",
       " 'procédure': 83,\n",
       " 'produit': 84,\n",
       " 'propriété': 85,\n",
       " 'prédécesseur': 86,\n",
       " 'prêt': 87,\n",
       " 'prêteur': 88,\n",
       " 'quittance': 89,\n",
       " 'recouvrement': 90,\n",
       " 'remboursement': 91,\n",
       " 'remise': 92,\n",
       " 'renouvellement': 93,\n",
       " 'rente': 94,\n",
       " 'revenu': 95,\n",
       " 'reçu': 96,\n",
       " 'semestre': 97,\n",
       " 'signature': 98,\n",
       " 'somme': 99,\n",
       " 'spéculation': 100,\n",
       " 'successeur': 101,\n",
       " 'succession': 102,\n",
       " 'syndic': 103,\n",
       " 'tiers': 104,\n",
       " 'tillet': 105,\n",
       " 'trent': 106,\n",
       " 'tripler': 107,\n",
       " 'unième': 108,\n",
       " 'usufruit': 109,\n",
       " 'valeur': 110,\n",
       " 'vente': 111,\n",
       " 'viager': 112,\n",
       " 'économie': 113,\n",
       " 'écu': 114,\n",
       " 'écus': 115}"
      ]
     },
     "execution_count": 9,
     "metadata": {},
     "output_type": "execute_result"
    }
   ],
   "source": [
    "sem_graph.indexes"
   ]
  },
  {
   "cell_type": "code",
   "execution_count": 10,
   "metadata": {},
   "outputs": [
    {
     "data": {
      "image/png": "[encoded data removed]",
      "text/plain": [
       "<Figure size 432x288 with 1 Axes>"
      ]
     },
     "metadata": {},
     "output_type": "display_data"
    }
   ],
   "source": [
    "import matplotlib.pyplot as plt\n",
    "import networkx as nx\n",
    "\n",
    "plt.subplot(121)\n",
    "nx.draw(sem_graph.graph, with_labels=True, font_weight='bold')"
   ]
  },
  {
   "cell_type": "code",
   "execution_count": 11,
   "metadata": {},
   "outputs": [],
   "source": [
    "#nx.write_gexf(sem_graph.graph, \"test.gexf\")\n",
    "sem_graph.save_to_gefx(\"test.gexf\")"
   ]
  },
  {
   "cell_type": "code",
   "execution_count": null,
   "metadata": {},
   "outputs": [],
   "source": []
  },
  {
   "cell_type": "code",
   "execution_count": null,
   "metadata": {},
   "outputs": [],
   "source": []
  },
  {
   "cell_type": "code",
   "execution_count": null,
   "metadata": {},
   "outputs": [],
   "source": []
  },
  {
   "cell_type": "code",
   "execution_count": null,
   "metadata": {},
   "outputs": [],
   "source": []
  },
  {
   "cell_type": "code",
   "execution_count": 12,
   "metadata": {},
   "outputs": [
    {
     "data": {
      "text/plain": [
       "NodeView((0, 1, 2, 3, 4, 5, 6, 7, 8, 9, 10, 11, 12, 13, 14, 15, 16, 17, 18, 19, 20, 21, 22, 23, 24, 25, 26, 27, 28, 29, 30, 31, 32, 33, 34, 35, 36, 37, 38, 39, 40, 41, 42, 43, 44, 45, 46, 47, 48, 49, 50, 51, 52, 53, 54, 55, 56, 57, 58, 59, 60, 61, 62, 63, 64, 65, 66, 67, 68, 69, 70, 71, 72, 73, 74, 75, 76, 77, 78, 79, 80, 81, 82, 83, 84, 85, 86, 87, 88, 89, 90, 91, 92, 93, 94, 95, 96, 97, 98, 99, 100, 101, 102, 103, 104, 105, 106, 107, 108, 109, 110, 111, 112, 113, 114, 115))"
      ]
     },
     "execution_count": 12,
     "metadata": {},
     "output_type": "execute_result"
    }
   ],
   "source": [
    "sem_graph.graph.nodes"
   ]
  },
  {
   "cell_type": "code",
   "execution_count": 13,
   "metadata": {},
   "outputs": [
    {
     "name": "stdout",
     "output_type": "stream",
     "text": [
      "['recouvrement', 'déposer', 'trent', 'garantie', 'bourse', 'failli', 'procédure', 'balance', 'or', 'hausse', 'usufruit', 'économie', 'empoigneur', 'remise', 'budget', 'banquier', 'comptant', 'écus', 'caissier', 'successeur', 'appointement', 'marchandise', 'remboursement', 'débiteur', 'liquidateur', 'prime', 'dette', 'placement', 'prêt', 'loyer', 'dividende', 'charte', 'n2', 'cartouche', 'gain', 'vente', 'tillet', 'capitaliste', 'forcer', 'commission', 'million', 'billet', 'droguist', 'bénéfice', 'rente', 'fonds', 'franc', 'bail', 'propriété', 'dot', 'tiers', 'dépôt', 'piqûre', 'viager', 'écu', 'prêteur', 'maximum', 'créancier', 'acquisition', 'domaine', 'valeur', 'fortune', 'keller', 'cautionnement', 'unième', 'porteur', 'exploitation', 'code', 'livre', 'payement', 'paiement', 'négociant', 'pension', 'syndic', 'piastre', 'crédit', 'exemplaire', 'bilan', 'fisc', 'intégral', 'prix', 'concordat', 'bordereau', 'banque', 'notaire', 'caisse', 'lecamu', 'fermage', 'cent', 'client', 'créance', 'adjudication', 'capital', 'tripler', 'n1', 'prédécesseur', 'quittance', 'argent', 'renouvellement', 'hypothèque', 'signature', 'semestre', 'n3', 'impôt', 'produit', 'parfumeur', 'somme', 'chiffre', 'obliger', 'revenu', 'escompte', 'spéculation', 'succession', 'reçu', 'mandat', 'domicile', 'droi', 'arpent', 'ducat']\n"
     ]
    }
   ],
   "source": [
    "sem_graph_augmented = sem_graph.get_augmented_graph([\"n1\", \"n2\", \"n3\"])"
   ]
  },
  {
   "cell_type": "code",
   "execution_count": 14,
   "metadata": {},
   "outputs": [
    {
     "data": {
      "text/plain": [
       "NodeView((0, 1, 2, 3, 4, 5, 6, 7, 8, 9, 10, 11, 12, 13, 14, 15, 16, 17, 18, 19, 20, 21, 22, 23, 24, 25, 26, 27, 28, 29, 30, 31, 32, 33, 34, 35, 36, 37, 38, 39, 40, 41, 42, 43, 44, 45, 46, 47, 48, 49, 50, 51, 52, 53, 54, 55, 56, 57, 58, 59, 60, 61, 62, 63, 64, 65, 66, 67, 68, 69, 70, 71, 72, 73, 74, 75, 76, 77, 78, 79, 80, 81, 82, 83, 84, 85, 86, 87, 88, 89, 90, 91, 92, 93, 94, 95, 96, 97, 98, 99, 100, 101, 102, 103, 104, 105, 106, 107, 108, 109, 110, 111, 112, 113, 114, 115, 116, 117, 118))"
      ]
     },
     "execution_count": 14,
     "metadata": {},
     "output_type": "execute_result"
    }
   ],
   "source": [
    "sem_graph_augmented.graph.nodes"
   ]
  },
  {
   "cell_type": "code",
   "execution_count": 15,
   "metadata": {},
   "outputs": [
    {
     "data": {
      "text/plain": [
       "{'acquisition': 0,\n",
       " 'adjudication': 1,\n",
       " 'appointement': 2,\n",
       " 'argent': 3,\n",
       " 'arpent': 4,\n",
       " 'bail': 5,\n",
       " 'balance': 6,\n",
       " 'banque': 7,\n",
       " 'banquier': 8,\n",
       " 'bilan': 9,\n",
       " 'billet': 10,\n",
       " 'bordereau': 11,\n",
       " 'bourse': 12,\n",
       " 'budget': 13,\n",
       " 'bénéfice': 14,\n",
       " 'caisse': 15,\n",
       " 'caissier': 16,\n",
       " 'capital': 17,\n",
       " 'capitaliste': 18,\n",
       " 'cartouche': 19,\n",
       " 'cautionnement': 20,\n",
       " 'cent': 21,\n",
       " 'charte': 22,\n",
       " 'chiffre': 23,\n",
       " 'client': 24,\n",
       " 'code': 25,\n",
       " 'commission': 26,\n",
       " 'comptant': 27,\n",
       " 'concordat': 28,\n",
       " 'créance': 29,\n",
       " 'créancier': 30,\n",
       " 'crédit': 31,\n",
       " 'dette': 32,\n",
       " 'dividende': 33,\n",
       " 'domaine': 34,\n",
       " 'domicile': 35,\n",
       " 'dot': 36,\n",
       " 'droguist': 37,\n",
       " 'droi': 38,\n",
       " 'ducat': 39,\n",
       " 'débiteur': 40,\n",
       " 'déposer': 41,\n",
       " 'dépôt': 42,\n",
       " 'empoigneur': 43,\n",
       " 'escompte': 44,\n",
       " 'exemplaire': 45,\n",
       " 'exploitation': 46,\n",
       " 'failli': 47,\n",
       " 'fermage': 48,\n",
       " 'fisc': 49,\n",
       " 'fonds': 50,\n",
       " 'forcer': 51,\n",
       " 'fortune': 52,\n",
       " 'franc': 53,\n",
       " 'gain': 54,\n",
       " 'garantie': 55,\n",
       " 'hausse': 56,\n",
       " 'hypothèque': 57,\n",
       " 'impôt': 58,\n",
       " 'intégral': 59,\n",
       " 'keller': 60,\n",
       " 'lecamu': 61,\n",
       " 'liquidateur': 62,\n",
       " 'livre': 63,\n",
       " 'loyer': 64,\n",
       " 'mandat': 65,\n",
       " 'marchandise': 66,\n",
       " 'maximum': 67,\n",
       " 'million': 68,\n",
       " 'notaire': 69,\n",
       " 'négociant': 70,\n",
       " 'obliger': 71,\n",
       " 'or': 72,\n",
       " 'paiement': 73,\n",
       " 'parfumeur': 74,\n",
       " 'payement': 75,\n",
       " 'pension': 76,\n",
       " 'piastre': 77,\n",
       " 'piqûre': 78,\n",
       " 'placement': 79,\n",
       " 'porteur': 80,\n",
       " 'prime': 81,\n",
       " 'prix': 82,\n",
       " 'procédure': 83,\n",
       " 'produit': 84,\n",
       " 'propriété': 85,\n",
       " 'prédécesseur': 86,\n",
       " 'prêt': 87,\n",
       " 'prêteur': 88,\n",
       " 'quittance': 89,\n",
       " 'recouvrement': 90,\n",
       " 'remboursement': 91,\n",
       " 'remise': 92,\n",
       " 'renouvellement': 93,\n",
       " 'rente': 94,\n",
       " 'revenu': 95,\n",
       " 'reçu': 96,\n",
       " 'semestre': 97,\n",
       " 'signature': 98,\n",
       " 'somme': 99,\n",
       " 'spéculation': 100,\n",
       " 'successeur': 101,\n",
       " 'succession': 102,\n",
       " 'syndic': 103,\n",
       " 'tiers': 104,\n",
       " 'tillet': 105,\n",
       " 'trent': 106,\n",
       " 'tripler': 107,\n",
       " 'unième': 108,\n",
       " 'usufruit': 109,\n",
       " 'valeur': 110,\n",
       " 'vente': 111,\n",
       " 'viager': 112,\n",
       " 'économie': 113,\n",
       " 'écu': 114,\n",
       " 'écus': 115}"
      ]
     },
     "execution_count": 15,
     "metadata": {},
     "output_type": "execute_result"
    }
   ],
   "source": [
    "sem_graph.indexes"
   ]
  },
  {
   "cell_type": "code",
   "execution_count": 16,
   "metadata": {},
   "outputs": [
    {
     "data": {
      "text/plain": [
       "{'acquisition': 0,\n",
       " 'adjudication': 1,\n",
       " 'appointement': 2,\n",
       " 'argent': 3,\n",
       " 'arpent': 4,\n",
       " 'bail': 5,\n",
       " 'balance': 6,\n",
       " 'banque': 7,\n",
       " 'banquier': 8,\n",
       " 'bilan': 9,\n",
       " 'billet': 10,\n",
       " 'bordereau': 11,\n",
       " 'bourse': 12,\n",
       " 'budget': 13,\n",
       " 'bénéfice': 14,\n",
       " 'caisse': 15,\n",
       " 'caissier': 16,\n",
       " 'capital': 17,\n",
       " 'capitaliste': 18,\n",
       " 'cartouche': 19,\n",
       " 'cautionnement': 20,\n",
       " 'cent': 21,\n",
       " 'charte': 22,\n",
       " 'chiffre': 23,\n",
       " 'client': 24,\n",
       " 'code': 25,\n",
       " 'commission': 26,\n",
       " 'comptant': 27,\n",
       " 'concordat': 28,\n",
       " 'créance': 29,\n",
       " 'créancier': 30,\n",
       " 'crédit': 31,\n",
       " 'dette': 32,\n",
       " 'dividende': 33,\n",
       " 'domaine': 34,\n",
       " 'domicile': 35,\n",
       " 'dot': 36,\n",
       " 'droguist': 37,\n",
       " 'droi': 38,\n",
       " 'ducat': 39,\n",
       " 'débiteur': 40,\n",
       " 'déposer': 41,\n",
       " 'dépôt': 42,\n",
       " 'empoigneur': 43,\n",
       " 'escompte': 44,\n",
       " 'exemplaire': 45,\n",
       " 'exploitation': 46,\n",
       " 'failli': 47,\n",
       " 'fermage': 48,\n",
       " 'fisc': 49,\n",
       " 'fonds': 50,\n",
       " 'forcer': 51,\n",
       " 'fortune': 52,\n",
       " 'franc': 53,\n",
       " 'gain': 54,\n",
       " 'garantie': 55,\n",
       " 'hausse': 56,\n",
       " 'hypothèque': 57,\n",
       " 'impôt': 58,\n",
       " 'intégral': 59,\n",
       " 'keller': 60,\n",
       " 'lecamu': 61,\n",
       " 'liquidateur': 62,\n",
       " 'livre': 63,\n",
       " 'loyer': 64,\n",
       " 'mandat': 65,\n",
       " 'marchandise': 66,\n",
       " 'maximum': 67,\n",
       " 'million': 68,\n",
       " 'n1': 69,\n",
       " 'n2': 70,\n",
       " 'n3': 71,\n",
       " 'notaire': 72,\n",
       " 'négociant': 73,\n",
       " 'obliger': 74,\n",
       " 'or': 75,\n",
       " 'paiement': 76,\n",
       " 'parfumeur': 77,\n",
       " 'payement': 78,\n",
       " 'pension': 79,\n",
       " 'piastre': 80,\n",
       " 'piqûre': 81,\n",
       " 'placement': 82,\n",
       " 'porteur': 83,\n",
       " 'prime': 84,\n",
       " 'prix': 85,\n",
       " 'procédure': 86,\n",
       " 'produit': 87,\n",
       " 'propriété': 88,\n",
       " 'prédécesseur': 89,\n",
       " 'prêt': 90,\n",
       " 'prêteur': 91,\n",
       " 'quittance': 92,\n",
       " 'recouvrement': 93,\n",
       " 'remboursement': 94,\n",
       " 'remise': 95,\n",
       " 'renouvellement': 96,\n",
       " 'rente': 97,\n",
       " 'revenu': 98,\n",
       " 'reçu': 99,\n",
       " 'semestre': 100,\n",
       " 'signature': 101,\n",
       " 'somme': 102,\n",
       " 'spéculation': 103,\n",
       " 'successeur': 104,\n",
       " 'succession': 105,\n",
       " 'syndic': 106,\n",
       " 'tiers': 107,\n",
       " 'tillet': 108,\n",
       " 'trent': 109,\n",
       " 'tripler': 110,\n",
       " 'unième': 111,\n",
       " 'usufruit': 112,\n",
       " 'valeur': 113,\n",
       " 'vente': 114,\n",
       " 'viager': 115,\n",
       " 'économie': 116,\n",
       " 'écu': 117,\n",
       " 'écus': 118}"
      ]
     },
     "execution_count": 16,
     "metadata": {},
     "output_type": "execute_result"
    }
   ],
   "source": [
    "sem_graph_augmented.indexes"
   ]
  },
  {
   "cell_type": "code",
   "execution_count": 17,
   "metadata": {},
   "outputs": [
    {
     "data": {
      "text/plain": [
       "{'acquisition': 0,\n",
       " 'adjudication': 1,\n",
       " 'appointement': 2,\n",
       " 'argent': 3,\n",
       " 'arpent': 4,\n",
       " 'bail': 5,\n",
       " 'balance': 6,\n",
       " 'banque': 7,\n",
       " 'banquier': 8,\n",
       " 'bilan': 9,\n",
       " 'billet': 10,\n",
       " 'bordereau': 11,\n",
       " 'bourse': 12,\n",
       " 'budget': 13,\n",
       " 'bénéfice': 14,\n",
       " 'caisse': 15,\n",
       " 'caissier': 16,\n",
       " 'capital': 17,\n",
       " 'capitaliste': 18,\n",
       " 'cartouche': 19,\n",
       " 'cautionnement': 20,\n",
       " 'cent': 21,\n",
       " 'charte': 22,\n",
       " 'chiffre': 23,\n",
       " 'client': 24,\n",
       " 'code': 25,\n",
       " 'commission': 26,\n",
       " 'comptant': 27,\n",
       " 'concordat': 28,\n",
       " 'créance': 29,\n",
       " 'créancier': 30,\n",
       " 'crédit': 31,\n",
       " 'dette': 32,\n",
       " 'dividende': 33,\n",
       " 'domaine': 34,\n",
       " 'domicile': 35,\n",
       " 'dot': 36,\n",
       " 'droguist': 37,\n",
       " 'droi': 38,\n",
       " 'ducat': 39,\n",
       " 'débiteur': 40,\n",
       " 'déposer': 41,\n",
       " 'dépôt': 42,\n",
       " 'empoigneur': 43,\n",
       " 'escompte': 44,\n",
       " 'exemplaire': 45,\n",
       " 'exploitation': 46,\n",
       " 'failli': 47,\n",
       " 'fermage': 48,\n",
       " 'fisc': 49,\n",
       " 'fonds': 50,\n",
       " 'forcer': 51,\n",
       " 'fortune': 52,\n",
       " 'franc': 53,\n",
       " 'gain': 54,\n",
       " 'garantie': 55,\n",
       " 'hausse': 56,\n",
       " 'hypothèque': 57,\n",
       " 'impôt': 58,\n",
       " 'intégral': 59,\n",
       " 'keller': 60,\n",
       " 'lecamu': 61,\n",
       " 'liquidateur': 62,\n",
       " 'livre': 63,\n",
       " 'loyer': 64,\n",
       " 'mandat': 65,\n",
       " 'marchandise': 66,\n",
       " 'maximum': 67,\n",
       " 'million': 68,\n",
       " 'n1': 69,\n",
       " 'n2': 70,\n",
       " 'n3': 71,\n",
       " 'notaire': 72,\n",
       " 'négociant': 73,\n",
       " 'obliger': 74,\n",
       " 'or': 75,\n",
       " 'paiement': 76,\n",
       " 'parfumeur': 77,\n",
       " 'payement': 78,\n",
       " 'pension': 79,\n",
       " 'piastre': 80,\n",
       " 'piqûre': 81,\n",
       " 'placement': 82,\n",
       " 'porteur': 83,\n",
       " 'prime': 84,\n",
       " 'prix': 85,\n",
       " 'procédure': 86,\n",
       " 'produit': 87,\n",
       " 'propriété': 88,\n",
       " 'prédécesseur': 89,\n",
       " 'prêt': 90,\n",
       " 'prêteur': 91,\n",
       " 'quittance': 92,\n",
       " 'recouvrement': 93,\n",
       " 'remboursement': 94,\n",
       " 'remise': 95,\n",
       " 'renouvellement': 96,\n",
       " 'rente': 97,\n",
       " 'revenu': 98,\n",
       " 'reçu': 99,\n",
       " 'semestre': 100,\n",
       " 'signature': 101,\n",
       " 'somme': 102,\n",
       " 'spéculation': 103,\n",
       " 'successeur': 104,\n",
       " 'succession': 105,\n",
       " 'syndic': 106,\n",
       " 'tiers': 107,\n",
       " 'tillet': 108,\n",
       " 'trent': 109,\n",
       " 'tripler': 110,\n",
       " 'unième': 111,\n",
       " 'usufruit': 112,\n",
       " 'valeur': 113,\n",
       " 'vente': 114,\n",
       " 'viager': 115,\n",
       " 'économie': 116,\n",
       " 'écu': 117,\n",
       " 'écus': 118}"
      ]
     },
     "execution_count": 17,
     "metadata": {},
     "output_type": "execute_result"
    }
   ],
   "source": [
    "sem_graph_augmented.indexes"
   ]
  },
  {
   "cell_type": "code",
   "execution_count": 18,
   "metadata": {},
   "outputs": [
    {
     "data": {
      "text/plain": [
       "0.48235446"
      ]
     },
     "execution_count": 18,
     "metadata": {},
     "output_type": "execute_result"
    }
   ],
   "source": [
    "sem_graph.get_edge_similarity(\"argent\", \"valeur\")"
   ]
  },
  {
   "cell_type": "code",
   "execution_count": 19,
   "metadata": {},
   "outputs": [
    {
     "data": {
      "text/plain": [
       "0.48235446"
      ]
     },
     "execution_count": 19,
     "metadata": {},
     "output_type": "execute_result"
    }
   ],
   "source": [
    "sem_graph_augmented.get_edge_similarity(\"argent\", \"valeur\")"
   ]
  },
  {
   "cell_type": "code",
   "execution_count": 20,
   "metadata": {},
   "outputs": [],
   "source": [
    "for n1 in sem_graph.names:\n",
    "    for n2 in sem_graph.names:\n",
    "        assert(sem_graph.get_edge_similarity(n1, n2) == sem_graph_augmented.get_edge_similarity(n1, n2))"
   ]
  },
  {
   "cell_type": "code",
   "execution_count": 23,
   "metadata": {},
   "outputs": [
    {
     "data": {
      "text/plain": [
       "{'name': 'n2',\n",
       " 's': array([0., 0., 0., 0., 0., 0., 0., 0., 0., 0., 0., 0., 0., 0., 0., 0., 0.,\n",
       "        0., 0., 0., 0., 0., 0., 0., 0., 0., 0., 0., 0., 0., 0., 0., 0., 0.,\n",
       "        0., 0., 0., 0., 0., 0., 0., 0., 0., 0., 0., 0., 0., 0., 0., 0., 0.,\n",
       "        0., 0., 0., 0., 0., 0., 0., 0., 0., 0., 0., 0., 0., 0., 0., 0., 0.,\n",
       "        0., 0., 1., 0., 0., 0., 0., 0., 0., 0., 0., 0., 0., 0., 0., 0., 0.,\n",
       "        0., 0., 0., 0., 0., 0., 0., 0., 0., 0., 0., 0., 0., 0., 0., 0., 0.,\n",
       "        0., 0., 0., 0., 0., 0., 0., 0., 0., 0., 0., 0., 0., 0., 0., 0., 0.])}"
      ]
     },
     "execution_count": 23,
     "metadata": {},
     "output_type": "execute_result"
    }
   ],
   "source": [
    "sem_graph_augmented.graph.nodes[70]"
   ]
  },
  {
   "cell_type": "code",
   "execution_count": null,
   "metadata": {},
   "outputs": [],
   "source": []
  },
  {
   "cell_type": "code",
   "execution_count": null,
   "metadata": {},
   "outputs": [],
   "source": []
  },
  {
   "cell_type": "code",
   "execution_count": null,
   "metadata": {},
   "outputs": [],
   "source": []
  },
  {
   "cell_type": "code",
   "execution_count": null,
   "metadata": {},
   "outputs": [],
   "source": []
  },
  {
   "cell_type": "code",
   "execution_count": null,
   "metadata": {},
   "outputs": [],
   "source": []
  },
  {
   "cell_type": "code",
   "execution_count": null,
   "metadata": {},
   "outputs": [],
   "source": []
  },
  {
   "cell_type": "code",
   "execution_count": null,
   "metadata": {},
   "outputs": [],
   "source": []
  },
  {
   "cell_type": "code",
   "execution_count": 15,
   "metadata": {},
   "outputs": [],
   "source": [
    "s_g = sem_graph.graph.copy()"
   ]
  },
  {
   "cell_type": "code",
   "execution_count": 33,
   "metadata": {},
   "outputs": [],
   "source": [
    "for n in s_g.nodes:\n",
    "    s_g.nodes[n][\"s\"] = str(s_g.nodes[n][\"s\"])"
   ]
  },
  {
   "cell_type": "code",
   "execution_count": 37,
   "metadata": {},
   "outputs": [
    {
     "name": "stdout",
     "output_type": "stream",
     "text": [
      "{'name': 'argent', 's': '[1. 0. 0. 0. 0. 0. 0. 0. 0. 0. 0. 0. 0. 0. 0. 0. 0. 0. 0. 0.]'}\n",
      "{'name': 'avancement', 's': '[0. 1. 0. 0. 0. 0. 0. 0. 0. 0. 0. 0. 0. 0. 0. 0. 0. 0. 0. 0.]'}\n",
      "{'name': 'bilan', 's': '[0. 0. 1. 0. 0. 0. 0. 0. 0. 0. 0. 0. 0. 0. 0. 0. 0. 0. 0. 0.]'}\n",
      "{'name': 'cautionnement', 's': '[0. 0. 0. 1. 0. 0. 0. 0. 0. 0. 0. 0. 0. 0. 0. 0. 0. 0. 0. 0.]'}\n",
      "{'name': 'compatriote', 's': '[0. 0. 0. 0. 1. 0. 0. 0. 0. 0. 0. 0. 0. 0. 0. 0. 0. 0. 0. 0.]'}\n",
      "{'name': 'compte', 's': '[0. 0. 0. 0. 0. 1. 0. 0. 0. 0. 0. 0. 0. 0. 0. 0. 0. 0. 0. 0.]'}\n",
      "{'name': 'concours', 's': '[0. 0. 0. 0. 0. 0. 1. 0. 0. 0. 0. 0. 0. 0. 0. 0. 0. 0. 0. 0.]'}\n",
      "{'name': 'credit', 's': '[0. 0. 0. 0. 0. 0. 0. 1. 0. 0. 0. 0. 0. 0. 0. 0. 0. 0. 0. 0.]'}\n",
      "{'name': 'domicile', 's': '[0. 0. 0. 0. 0. 0. 0. 0. 1. 0. 0. 0. 0. 0. 0. 0. 0. 0. 0. 0.]'}\n",
      "{'name': 'egard', 's': '[0. 0. 0. 0. 0. 0. 0. 0. 0. 1. 0. 0. 0. 0. 0. 0. 0. 0. 0. 0.]'}\n",
      "{'name': 'escompte', 's': '[0. 0. 0. 0. 0. 0. 0. 0. 0. 0. 1. 0. 0. 0. 0. 0. 0. 0. 0. 0.]'}\n",
      "{'name': 'etablissement', 's': '[0. 0. 0. 0. 0. 0. 0. 0. 0. 0. 0. 1. 0. 0. 0. 0. 0. 0. 0. 0.]'}\n",
      "{'name': 'exploitation', 's': '[0. 0. 0. 0. 0. 0. 0. 0. 0. 0. 0. 0. 1. 0. 0. 0. 0. 0. 0. 0.]'}\n",
      "{'name': 'heritage', 's': '[0. 0. 0. 0. 0. 0. 0. 0. 0. 0. 0. 0. 0. 1. 0. 0. 0. 0. 0. 0.]'}\n",
      "{'name': 'honneur', 's': '[0. 0. 0. 0. 0. 0. 0. 0. 0. 0. 0. 0. 0. 0. 1. 0. 0. 0. 0. 0.]'}\n",
      "{'name': 'imprimerie', 's': '[0. 0. 0. 0. 0. 0. 0. 0. 0. 0. 0. 0. 0. 0. 0. 1. 0. 0. 0. 0.]'}\n",
      "{'name': 'indigence', 's': '[0. 0. 0. 0. 0. 0. 0. 0. 0. 0. 0. 0. 0. 0. 0. 0. 1. 0. 0. 0.]'}\n",
      "{'name': 'payement', 's': '[0. 0. 0. 0. 0. 0. 0. 0. 0. 0. 0. 0. 0. 0. 0. 0. 0. 1. 0. 0.]'}\n",
      "{'name': 'successeur', 's': '[0. 0. 0. 0. 0. 0. 0. 0. 0. 0. 0. 0. 0. 0. 0. 0. 0. 0. 1. 0.]'}\n",
      "{'name': 'traitement', 's': '[0. 0. 0. 0. 0. 0. 0. 0. 0. 0. 0. 0. 0. 0. 0. 0. 0. 0. 0. 1.]'}\n"
     ]
    }
   ],
   "source": [
    "for n in s_g.nodes:\n",
    "    print(s_g.nodes[n])"
   ]
  },
  {
   "cell_type": "code",
   "execution_count": null,
   "metadata": {},
   "outputs": [],
   "source": []
  },
  {
   "cell_type": "code",
   "execution_count": null,
   "metadata": {},
   "outputs": [],
   "source": []
  },
  {
   "cell_type": "code",
   "execution_count": null,
   "metadata": {},
   "outputs": [],
   "source": []
  },
  {
   "cell_type": "code",
   "execution_count": 22,
   "metadata": {},
   "outputs": [
    {
     "data": {
      "text/plain": [
       "[('etablissement', 0.6673620343208313),\n",
       " ('avancement', 0.6112448573112488),\n",
       " ('indigence', 0.6060957908630371),\n",
       " ('egard', 0.5945424437522888),\n",
       " ('imprimerie', 0.5909165143966675),\n",
       " ('heritage', 0.5888705253601074),\n",
       " ('honneur', 0.583671510219574),\n",
       " ('exploitation', 0.579831600189209),\n",
       " ('credit', 0.5793435573577881),\n",
       " ('escompte', 0.5681301951408386)]"
      ]
     },
     "execution_count": 22,
     "metadata": {},
     "output_type": "execute_result"
    }
   ],
   "source": [
    "model.most_similar([\"argent\"])"
   ]
  },
  {
   "cell_type": "code",
   "execution_count": 24,
   "metadata": {},
   "outputs": [
    {
     "data": {
      "text/plain": [
       "[('etablissement', 0.8336802124977112),\n",
       " ('avancement', 0.8056216835975647),\n",
       " ('indigence', 0.8030471205711365),\n",
       " ('egard', 0.7972704768180847),\n",
       " ('imprimerie', 0.7954574823379517),\n",
       " ('heritage', 0.7944344878196716),\n",
       " ('honneur', 0.7918350100517273),\n",
       " ('exploitation', 0.7899150252342224),\n",
       " ('credit', 0.789671003818512),\n",
       " ('escompte', 0.7840643525123596)]"
      ]
     },
     "execution_count": 24,
     "metadata": {},
     "output_type": "execute_result"
    }
   ],
   "source": [
    "model.most_similar_cosmul([\"argent\"])"
   ]
  },
  {
   "cell_type": "code",
   "execution_count": 27,
   "metadata": {},
   "outputs": [],
   "source": [
    "#?model.most_similar_to_given"
   ]
  },
  {
   "cell_type": "code",
   "execution_count": 32,
   "metadata": {},
   "outputs": [],
   "source": [
    "#?model.rank"
   ]
  },
  {
   "cell_type": "code",
   "execution_count": 37,
   "metadata": {},
   "outputs": [],
   "source": [
    "#?model.relative_cosine_similarity"
   ]
  },
  {
   "cell_type": "code",
   "execution_count": 40,
   "metadata": {},
   "outputs": [],
   "source": [
    "#?model.distance"
   ]
  },
  {
   "cell_type": "code",
   "execution_count": 44,
   "metadata": {},
   "outputs": [],
   "source": [
    "#model.doesnt_match([\"argent\", \"heritage\", \"soleil\"])"
   ]
  },
  {
   "cell_type": "code",
   "execution_count": 47,
   "metadata": {},
   "outputs": [],
   "source": [
    "#?model.similarity"
   ]
  },
  {
   "cell_type": "code",
   "execution_count": 52,
   "metadata": {},
   "outputs": [],
   "source": [
    "#?model.similarity_matrix"
   ]
  },
  {
   "cell_type": "code",
   "execution_count": 57,
   "metadata": {},
   "outputs": [
    {
     "data": {
      "text/plain": [
       "[('etablissement', 0.6673620343208313),\n",
       " ('avancement', 0.6112448573112488),\n",
       " ('indigence', 0.6060957908630371),\n",
       " ('egard', 0.5945424437522888),\n",
       " ('imprimerie', 0.5909165143966675),\n",
       " ('heritage', 0.5888705253601074),\n",
       " ('honneur', 0.583671510219574),\n",
       " ('exploitation', 0.579831600189209),\n",
       " ('credit', 0.5793435573577881),\n",
       " ('escompte', 0.5681301951408386)]"
      ]
     },
     "execution_count": 57,
     "metadata": {},
     "output_type": "execute_result"
    }
   ],
   "source": [
    "model.similar_by_word(\"argent\")"
   ]
  },
  {
   "cell_type": "code",
   "execution_count": 58,
   "metadata": {},
   "outputs": [
    {
     "data": {
      "text/plain": [
       "0.66736203"
      ]
     },
     "execution_count": 58,
     "metadata": {},
     "output_type": "execute_result"
    }
   ],
   "source": [
    "model.similarity(\"argent\", \"etablissement\")"
   ]
  },
  {
   "cell_type": "code",
   "execution_count": 64,
   "metadata": {},
   "outputs": [
    {
     "data": {
      "text/plain": [
       "[('chiffre', 0.6782650947570801),\n",
       " ('code', 0.6168403625488281),\n",
       " ('fisc', 0.6088708639144897),\n",
       " ('transport', 0.5936009287834167),\n",
       " ('l’enregistrement', 0.5719650983810425),\n",
       " ('commerce', 0.5704053640365601),\n",
       " ('gouvernement', 0.5672616958618164),\n",
       " ('tiers', 0.5640947818756104),\n",
       " ('capital', 0.5605154037475586),\n",
       " ('cautionnement', 0.5600903034210205),\n",
       " ('systeme', 0.559483528137207),\n",
       " ('domicile', 0.5572206974029541),\n",
       " ('dividende', 0.5549041628837585),\n",
       " ('greffe', 0.5452907085418701),\n",
       " ('l’impot', 0.5373300313949585),\n",
       " ('payement', 0.5353193283081055),\n",
       " ('placement', 0.5289831161499023),\n",
       " ('prix', 0.5286821126937866),\n",
       " ('territoire', 0.5228918194770813),\n",
       " ('domaine', 0.5224607586860657),\n",
       " ('renouvellement', 0.5219845175743103),\n",
       " ('depot', 0.5216348767280579),\n",
       " ('concordat', 0.5166890025138855),\n",
       " ('terme', 0.5148106813430786),\n",
       " ('surplus', 0.5142930746078491),\n",
       " ('livre', 0.5119780898094177),\n",
       " ('traitement', 0.5109900236129761),\n",
       " ('calendrier', 0.5072842836380005),\n",
       " ('social', 0.5015121698379517),\n",
       " ('palais', 0.5009734034538269)]"
      ]
     },
     "execution_count": 64,
     "metadata": {},
     "output_type": "execute_result"
    }
   ],
   "source": [
    "model.similar_by_word(\"budget\", topn=30)"
   ]
  },
  {
   "cell_type": "code",
   "execution_count": 63,
   "metadata": {},
   "outputs": [],
   "source": [
    "?model.similar_by_word"
   ]
  },
  {
   "cell_type": "code",
   "execution_count": null,
   "metadata": {},
   "outputs": [],
   "source": []
  },
  {
   "cell_type": "code",
   "execution_count": null,
   "metadata": {},
   "outputs": [],
   "source": []
  },
  {
   "cell_type": "code",
   "execution_count": null,
   "metadata": {},
   "outputs": [],
   "source": []
  }
 ],
 "metadata": {
  "kernelspec": {
   "display_name": "Python 3",
   "language": "python",
   "name": "python3"
  },
  "language_info": {
   "codemirror_mode": {
    "name": "ipython",
    "version": 3
   },
   "file_extension": ".py",
   "mimetype": "text/x-python",
   "name": "python",
   "nbconvert_exporter": "python",
   "pygments_lexer": "ipython3",
   "version": "3.6.9"
  }
 },
 "nbformat": 4,
 "nbformat_minor": 4
}
