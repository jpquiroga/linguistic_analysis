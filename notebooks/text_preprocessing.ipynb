{
 "cells": [
  {
   "cell_type": "markdown",
   "metadata": {},
   "source": [
    "# Text pre-processing"
   ]
  },
  {
   "cell_type": "code",
   "execution_count": 1,
   "metadata": {},
   "outputs": [],
   "source": [
    "import os\n",
    "import sys\n"
   ]
  },
  {
   "cell_type": "code",
   "execution_count": 2,
   "metadata": {},
   "outputs": [],
   "source": [
    "PATHS_TO_ADD = [\n",
    "    \"../src\"\n",
    "]\n",
    "for p in PATHS_TO_ADD:\n",
    "    if p not in sys.path:\n",
    "        sys.path.append(p)"
   ]
  },
  {
   "cell_type": "code",
   "execution_count": 3,
   "metadata": {},
   "outputs": [],
   "source": [
    "import logging\n",
    "logging.basicConfig(format='%(levelname)s:%(message)s', level=logging.INFO)"
   ]
  },
  {
   "cell_type": "code",
   "execution_count": 4,
   "metadata": {},
   "outputs": [],
   "source": [
    "from linguistic_analysis.text_preprocessing import TextPreprocessor"
   ]
  },
  {
   "cell_type": "code",
   "execution_count": 5,
   "metadata": {},
   "outputs": [],
   "source": [
    "NLTK_PATH = \"/home/wotan/nltk_data\"\n",
    "LANGUAGES = [\"french\"]\n",
    "\n",
    "text_prep = TextPreprocessor(NLTK_PATH, LANGUAGES)"
   ]
  },
  {
   "cell_type": "code",
   "execution_count": 6,
   "metadata": {},
   "outputs": [],
   "source": [
    "test_text = \"\"\"--Au train dont y va cet homme, nos filles ne tarderont pas à se mettre\n",
    "à genoux devant un prétendu! se dit monsieur Guillaume en lisant le\n",
    "premier décret par lequel Napoléon anticipa sur les classes de\n",
    "conscrits.\"\"\"\n"
   ]
  },
  {
   "cell_type": "markdown",
   "metadata": {},
   "source": [
    "### Normalize text"
   ]
  },
  {
   "cell_type": "code",
   "execution_count": 7,
   "metadata": {},
   "outputs": [
    {
     "data": {
      "text/plain": [
       "'  au train dont y va cet homme  nos filles ne tarderont pas a se mettre a genoux devant un pretendu  se dit monsieur guillaume en lisant le premier decret par lequel napoleon anticipa sur les classes de conscrits '"
      ]
     },
     "execution_count": 7,
     "metadata": {},
     "output_type": "execute_result"
    }
   ],
   "source": [
    "text_prep.normalize(test_text)"
   ]
  },
  {
   "cell_type": "code",
   "execution_count": 8,
   "metadata": {},
   "outputs": [],
   "source": [
    "### Preprocess one sentence"
   ]
  },
  {
   "cell_type": "code",
   "execution_count": 9,
   "metadata": {},
   "outputs": [
    {
     "data": {
      "text/plain": [
       "['au',\n",
       " 'train',\n",
       " 'dont',\n",
       " 'y',\n",
       " 'va',\n",
       " 'cet',\n",
       " 'homme',\n",
       " 'nos',\n",
       " 'filles',\n",
       " 'ne',\n",
       " 'tarderont',\n",
       " 'pas',\n",
       " 'a',\n",
       " 'se',\n",
       " 'mettre',\n",
       " 'a',\n",
       " 'genoux',\n",
       " 'devant',\n",
       " 'un',\n",
       " 'pretendu',\n",
       " 'se',\n",
       " 'dit',\n",
       " 'monsieur',\n",
       " 'guillaume',\n",
       " 'en',\n",
       " 'lisant',\n",
       " 'le',\n",
       " 'premier',\n",
       " 'decret',\n",
       " 'par',\n",
       " 'lequel',\n",
       " 'napoleon',\n",
       " 'anticipa',\n",
       " 'sur',\n",
       " 'les',\n",
       " 'classes',\n",
       " 'de',\n",
       " 'conscrits']"
      ]
     },
     "execution_count": 9,
     "metadata": {},
     "output_type": "execute_result"
    }
   ],
   "source": [
    "text_prep.preprocess_text(test_text)"
   ]
  },
  {
   "cell_type": "markdown",
   "metadata": {},
   "source": [
    "### Text iterators"
   ]
  },
  {
   "cell_type": "code",
   "execution_count": 10,
   "metadata": {},
   "outputs": [],
   "source": [
    "from linguistic_analysis.text_iterators import SentenceSegmenter, SentenceDocTreeIterator"
   ]
  },
  {
   "cell_type": "code",
   "execution_count": 11,
   "metadata": {},
   "outputs": [],
   "source": [
    "s_seg = SentenceSegmenter({\"en\": None, \"fr\": None})"
   ]
  },
  {
   "cell_type": "code",
   "execution_count": 12,
   "metadata": {},
   "outputs": [
    {
     "data": {
      "text/plain": [
       "['--Au train dont y va cet homme, nos filles ne tarderont pas à se mettre\\nà genoux devant un prétendu!',\n",
       " 'se dit monsieur Guillaume en lisant le\\npremier décret par lequel Napoléon anticipa sur les classes de\\nconscrits.']"
      ]
     },
     "execution_count": 12,
     "metadata": {},
     "output_type": "execute_result"
    }
   ],
   "source": [
    "list(s_seg.segment(test_text))"
   ]
  },
  {
   "cell_type": "code",
   "execution_count": null,
   "metadata": {},
   "outputs": [],
   "source": []
  },
  {
   "cell_type": "code",
   "execution_count": 13,
   "metadata": {},
   "outputs": [],
   "source": [
    "path = \"../data/test\"\n",
    "text_preprocessor = TextPreprocessor(NLTK_PATH, LANGUAGES)\n",
    "sentence_segmenter = SentenceSegmenter({\"en\": None, \"fr\": None})\n",
    "\n",
    "sentence_doc_iterator = SentenceDocTreeIterator(path, \n",
    "                                       text_preprocessor,\n",
    "                                       sentence_segmenter,\n",
    "                                       remove_stop_words=False)"
   ]
  },
  {
   "cell_type": "code",
   "execution_count": 14,
   "metadata": {},
   "outputs": [
    {
     "name": "stdout",
     "output_type": "stream",
     "text": [
      "\n",
      "il se trouve dans certaines provinces des maisons dont la vue inspire une melancolie egale a celle que provoquent les cloitres les plus sombres les landes les plus ternes ou les ruines les plus tristes\n",
      "\n",
      "peut etre y a t il a la fois dans ces maisons et le silence du cloitre et l aridite des landes et les ossements des ruines\n",
      "\n",
      "la vie et le mouvement y sont si tranquilles qu un etranger les croirait inhabitees s il ne rencontrait tout a coup le regard pale et froid d une personne immobile dont la figure a demi monastique depasse l appui de la croisee au bruit d un pas inconnu\n",
      "\n",
      "ces principes de melancolie existent dans la physionomie d un logis situe a saumur au bout de la rue montueuse qui mene au chateau par le haut de la ville\n",
      "\n",
      "cette rue maintenant peu frequentee chaude en ete froide en hiver obscure en quelques endroits est remarquable par la sonorite de son petit pave caillouteux toujours propre et sec par l etroitesse de sa voie tortueuse par la paix de ses maisons qui appartiennent a la vieille ville et que dominent les remparts\n",
      "\n",
      "des habitations trois fois seculaires y sont encore solides quoique construites en bois et leurs divers aspects contribuent a l originalite qui recommande cette partie de saumur a l attention des antiquaires et des artistes\n",
      "\n",
      "il est difficile de passer devant ces maisons sans admirer les enormes madriers dont les bouts sont tailles en figures bizarres et qui couronnent d un bas relief noir le rez de chaussee de la plupart d entre elles\n",
      "\n",
      "ici des pieces de bois transversales sont couvertes en ardoises et dessinent des lignes bleues sur les freles murailles d un logis termine par un toit en colombage que les ans ont fait plier dont les bardeaux pourris ont ete tordus par l action alternative de la pluie et du soleil\n",
      "\n",
      "la se presentent des appuis de fenetre uses noircis dont les delicates sculptures se voient a peine et qui semblent trop legers pour le pot d argile brune d ou s elancent les oeillets ou les rosiers d une pauvre ouvriere\n",
      "\n",
      "plus loin c est des portes garnies de clous enormes ou le genie de nos ancetres a trace des hieroglyphes domestiques dont le sens ne se retrouvera jamais\n",
      "\n",
      "tantot un protestant y a signe sa foi tantot un ligueur y a maudit henri iv\n",
      "\n",
      "quelque bourgeois y a grave les insignes de sa noblesse de cloches la gloire de son echevinage oublie\n",
      "\n",
      "l histoire de france est la tout entiere\n",
      "\n",
      "a cote de la tremblante maison a pans hourdes ou l artisan a deifie son rabot s eleve l hotel d un gentilhomme ou sur le plein cintre de la porte en pierre se voient encore quelques vestiges de ses armes brisees par les diverses revolutions qui depuis 1789 ont agite le pays\n",
      "\n",
      "dans cette rue les rez de chaussee commerçants ne sont ni des boutiques ni des magasins les amis du moyen age y retrouveraient l ouvrouere de nos peres en toute sa naive simplicite\n"
     ]
    }
   ],
   "source": [
    "for s in sentence_doc_iterator:\n",
    "    print(\"\\n\" + \" \".join(s))"
   ]
  },
  {
   "cell_type": "code",
   "execution_count": null,
   "metadata": {},
   "outputs": [],
   "source": []
  },
  {
   "cell_type": "code",
   "execution_count": null,
   "metadata": {},
   "outputs": [],
   "source": []
  }
 ],
 "metadata": {
  "kernelspec": {
   "display_name": "Python 3",
   "language": "python",
   "name": "python3"
  },
  "language_info": {
   "codemirror_mode": {
    "name": "ipython",
    "version": 3
   },
   "file_extension": ".py",
   "mimetype": "text/x-python",
   "name": "python",
   "nbconvert_exporter": "python",
   "pygments_lexer": "ipython3",
   "version": "3.6.9"
  }
 },
 "nbformat": 4,
 "nbformat_minor": 4
}
