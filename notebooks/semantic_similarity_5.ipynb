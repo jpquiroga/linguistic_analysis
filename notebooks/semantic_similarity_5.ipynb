{
 "cells": [
  {
   "cell_type": "markdown",
   "metadata": {},
   "source": [
    "# Compare semantic graphs from N different models"
   ]
  },
  {
   "cell_type": "code",
   "execution_count": 1,
   "metadata": {},
   "outputs": [],
   "source": [
    "import sys\n",
    "PATHS_TO_ADD = [\n",
    "    \"../src\"\n",
    "]\n",
    "for p in PATHS_TO_ADD:\n",
    "    if p not in sys.path:\n",
    "        sys.path.append(p)"
   ]
  },
  {
   "cell_type": "code",
   "execution_count": 2,
   "metadata": {},
   "outputs": [],
   "source": [
    "from linguistic_analysis.semantics.similarity import SemGraph\n",
    "\n",
    "import os\n",
    "from gensim.models import Word2Vec\n",
    "from gensim.models import KeyedVectors\n",
    "from tqdm import tqdm\n",
    "from typing import Iterable"
   ]
  },
  {
   "cell_type": "markdown",
   "metadata": {},
   "source": [
    "Embedding models"
   ]
  },
  {
   "cell_type": "code",
   "execution_count": 3,
   "metadata": {},
   "outputs": [
    {
     "name": "stdout",
     "output_type": "stream",
     "text": [
      "Loading ../models/french_novels/balzac/separate/with_accents_lemmatized/Pierre Grassou - Honore de Balzac/model_w2v_sg_w10_mincount5_ep/model_w2v_sg_w10_mincount5_ep.model...\n",
      "Loading ../models/french_novels/balzac/separate/with_accents_lemmatized/Gobseck - Honore de Balzac/model_w2v_sg_w10_mincount5_ep/model_w2v_sg_w10_mincount5_ep.model...\n",
      "Loading ../models/french_novels/balzac/separate/with_accents_lemmatized/Le Contrat de mariage - Honore de Balzac/model_w2v_sg_w10_mincount5_ep/model_w2v_sg_w10_mincount5_ep.model...\n",
      "Loading ../models/french_novels/balzac/separate/with_accents_lemmatized/Une double famille - Honore de Balzac/model_w2v_sg_w10_mincount5_ep/model_w2v_sg_w10_mincount5_ep.model...\n",
      "Loading ../models/french_novels/balzac/separate/with_accents_lemmatized/Le Message - Honore de Balzac/model_w2v_sg_w10_mincount5_ep/model_w2v_sg_w10_mincount5_ep.model...\n",
      "Loading ../models/french_novels/balzac/separate/with_accents_lemmatized/La Muse du departement - Honore de Balzac/model_w2v_sg_w10_mincount5_ep/model_w2v_sg_w10_mincount5_ep.model...\n",
      "Loading ../models/french_novels/balzac/separate/with_accents_lemmatized/Les Marana - Honore de Balzac/model_w2v_sg_w10_mincount5_ep/model_w2v_sg_w10_mincount5_ep.model...\n",
      "Loading ../models/french_novels/balzac/separate/with_accents_lemmatized/Albert Savarus - Honore de Balzac/model_w2v_sg_w10_mincount5_ep/model_w2v_sg_w10_mincount5_ep.model...\n",
      "Loading ../models/french_novels/balzac/separate/with_accents_lemmatized/La derniere incarnation de Vautrin - Honore de Balzac/model_w2v_sg_w10_mincount5_ep/model_w2v_sg_w10_mincount5_ep.model...\n",
      "Loading ../models/french_novels/balzac/separate/with_accents_lemmatized/Autre etude de femme - Honore de Balzac/model_w2v_sg_w10_mincount5_ep/model_w2v_sg_w10_mincount5_ep.model...\n",
      "Loading ../models/french_novels/balzac/separate/with_accents_lemmatized/Esquisse d'homme d'affaires d'apres nature - Honore de Balzac/model_w2v_sg_w10_mincount5_ep/model_w2v_sg_w10_mincount5_ep.model...\n",
      "Loading ../models/french_novels/balzac/separate/with_accents_lemmatized/La Vieille Fille - Honore de Balzac/model_w2v_sg_w10_mincount5_ep/model_w2v_sg_w10_mincount5_ep.model...\n",
      "Loading ../models/french_novels/balzac/separate/with_accents_lemmatized/Un drame au bord de la mer - Honore de Balzac/model_w2v_sg_w10_mincount5_ep/model_w2v_sg_w10_mincount5_ep.model...\n",
      "Loading ../models/french_novels/balzac/separate/with_accents_lemmatized/Le Colonel Chabert - Honore de Balzac/model_w2v_sg_w10_mincount5_ep/model_w2v_sg_w10_mincount5_ep.model...\n",
      "Loading ../models/french_novels/balzac/separate/with_accents_lemmatized/Illusions perdues - Honore de Balzac/model_w2v_sg_w10_mincount5_ep/model_w2v_sg_w10_mincount5_ep.model...\n",
      "Loading ../models/french_novels/balzac/separate/with_accents_lemmatized/La grande Breteche - Honore de Balzac/model_w2v_sg_w10_mincount5_ep/model_w2v_sg_w10_mincount5_ep.model...\n",
      "Loading ../models/french_novels/balzac/separate/with_accents_lemmatized/Etude de femme - Honore de Balzac/model_w2v_sg_w10_mincount5_ep/model_w2v_sg_w10_mincount5_ep.model...\n",
      "Loading ../models/french_novels/balzac/separate/with_accents_lemmatized/Pierrette - Honore de Balzac/model_w2v_sg_w10_mincount5_ep/model_w2v_sg_w10_mincount5_ep.model...\n",
      "Loading ../models/french_novels/balzac/separate/with_accents_lemmatized/Ferragus - Honore de Balzac/model_w2v_sg_w10_mincount5_ep/model_w2v_sg_w10_mincount5_ep.model...\n",
      "Loading ../models/french_novels/balzac/separate/with_accents_lemmatized/Beatrix - Honore de Balzac/model_w2v_sg_w10_mincount5_ep/model_w2v_sg_w10_mincount5_ep.model...\n",
      "Loading ../models/french_novels/balzac/separate/with_accents_lemmatized/Jesus-Christ en Flandre - Honore de Balzac/model_w2v_sg_w10_mincount5_ep/model_w2v_sg_w10_mincount5_ep.model...\n",
      "Loading ../models/french_novels/balzac/separate/with_accents_lemmatized/La Duchesse de Langeais - Honore de Balzac/model_w2v_sg_w10_mincount5_ep/model_w2v_sg_w10_mincount5_ep.model...\n",
      "Loading ../models/french_novels/balzac/separate/with_accents_lemmatized/Ou menent les mauvais chemins - Honore de Balzac/model_w2v_sg_w10_mincount5_ep/model_w2v_sg_w10_mincount5_ep.model...\n",
      "Loading ../models/french_novels/balzac/separate/with_accents_lemmatized/La Femme abandonnee - Honore de Balzac/model_w2v_sg_w10_mincount5_ep/model_w2v_sg_w10_mincount5_ep.model...\n",
      "Loading ../models/french_novels/balzac/separate/with_accents_lemmatized/Sur Catherine de Medicis - Honore de Balzac/model_w2v_sg_w10_mincount5_ep/model_w2v_sg_w10_mincount5_ep.model...\n",
      "Loading ../models/french_novels/balzac/separate/with_accents_lemmatized/La Recherche de l'Absolu - Honore de Balzac/model_w2v_sg_w10_mincount5_ep/model_w2v_sg_w10_mincount5_ep.model...\n",
      "Loading ../models/french_novels/balzac/separate/with_accents_lemmatized/Une fille d'Eve - Honore de Balzac/model_w2v_sg_w10_mincount5_ep/model_w2v_sg_w10_mincount5_ep.model...\n",
      "Loading ../models/french_novels/balzac/separate/with_accents_lemmatized/Le Lys dans la vallee - Honore de Balzac/model_w2v_sg_w10_mincount5_ep/model_w2v_sg_w10_mincount5_ep.model...\n",
      "Loading ../models/french_novels/balzac/separate/with_accents_lemmatized/Louis Lambert - Honore de Balzac/model_w2v_sg_w10_mincount5_ep/model_w2v_sg_w10_mincount5_ep.model...\n",
      "Loading ../models/french_novels/balzac/separate/with_accents_lemmatized/Eugenie Grandet - Honore de Balzac/model_w2v_sg_w10_mincount5_ep/model_w2v_sg_w10_mincount5_ep.model...\n",
      "Loading ../models/french_novels/balzac/separate/with_accents_lemmatized/Le Bal de Sceaux - Honore de Balzac/model_w2v_sg_w10_mincount5_ep/model_w2v_sg_w10_mincount5_ep.model...\n",
      "Loading ../models/french_novels/balzac/separate/with_accents_lemmatized/Petites miseres de la vie conjugale - Honore de Balzac/model_w2v_sg_w10_mincount5_ep/model_w2v_sg_w10_mincount5_ep.model...\n",
      "Loading ../models/french_novels/balzac/separate/with_accents_lemmatized/L'auberge rouge - Honore de Balzac/model_w2v_sg_w10_mincount5_ep/model_w2v_sg_w10_mincount5_ep.model...\n",
      "Loading ../models/french_novels/balzac/separate/with_accents_lemmatized/Seraphita - Honore de Balzac/model_w2v_sg_w10_mincount5_ep/model_w2v_sg_w10_mincount5_ep.model...\n",
      "Loading ../models/french_novels/balzac/separate/with_accents_lemmatized/Un menage de garcon - Honore de Balzac/model_w2v_sg_w10_mincount5_ep/model_w2v_sg_w10_mincount5_ep.model...\n",
      "Loading ../models/french_novels/balzac/separate/with_accents_lemmatized/Les Chouans - Honore de Balzac/model_w2v_sg_w10_mincount5_ep/model_w2v_sg_w10_mincount5_ep.model...\n",
      "Loading ../models/french_novels/balzac/separate/with_accents_lemmatized/Un grand homme de province a Paris - Honore de Balzac/model_w2v_sg_w10_mincount5_ep/model_w2v_sg_w10_mincount5_ep.model...\n",
      "Loading ../models/french_novels/balzac/separate/with_accents_lemmatized/La Maison Nucingen - Honore de Balzac/model_w2v_sg_w10_mincount5_ep/model_w2v_sg_w10_mincount5_ep.model...\n",
      "Loading ../models/french_novels/balzac/separate/with_accents_lemmatized/Histoire de la grandeur et de la decadence - Honore de Balzac/model_w2v_sg_w10_mincount5_ep/model_w2v_sg_w10_mincount5_ep.model...\n",
      "Loading ../models/french_novels/balzac/separate/with_accents_lemmatized/Un prince de la Boheme - Honore de Balzac/model_w2v_sg_w10_mincount5_ep/model_w2v_sg_w10_mincount5_ep.model...\n",
      "Loading ../models/french_novels/balzac/separate/with_accents_lemmatized/Un debut dans la vie - Honore de Balzac/model_w2v_sg_w10_mincount5_ep/model_w2v_sg_w10_mincount5_ep.model...\n",
      "Loading ../models/french_novels/balzac/separate/with_accents_lemmatized/Sarrasine - Honore de Balzac/model_w2v_sg_w10_mincount5_ep/model_w2v_sg_w10_mincount5_ep.model...\n",
      "Loading ../models/french_novels/balzac/separate/with_accents_lemmatized/Les Paysans - Honore de Balzac/model_w2v_sg_w10_mincount5_ep/model_w2v_sg_w10_mincount5_ep.model...\n",
      "Loading ../models/french_novels/balzac/separate/with_accents_lemmatized/Melmoth reconcilie - Honore de Balzac/model_w2v_sg_w10_mincount5_ep/model_w2v_sg_w10_mincount5_ep.model...\n",
      "Loading ../models/french_novels/balzac/separate/with_accents_lemmatized/Les secrets de la princesse de Cadignan - Honore de Balzac/model_w2v_sg_w10_mincount5_ep/model_w2v_sg_w10_mincount5_ep.model...\n",
      "Loading ../models/french_novels/balzac/separate/with_accents_lemmatized/L'interdiction - Honore de Balzac/model_w2v_sg_w10_mincount5_ep/model_w2v_sg_w10_mincount5_ep.model...\n",
      "Loading ../models/french_novels/balzac/separate/with_accents_lemmatized/El Verdugo - Honore de Balzac/model_w2v_sg_w10_mincount5_ep/model_w2v_sg_w10_mincount5_ep.model...\n",
      "Loading ../models/french_novels/balzac/separate/with_accents_lemmatized/Maitre Cornelius - Honore de Balzac/model_w2v_sg_w10_mincount5_ep/model_w2v_sg_w10_mincount5_ep.model...\n",
      "Loading ../models/french_novels/balzac/separate/with_accents_lemmatized/La Messe de l'athee - Honore de Balzac/model_w2v_sg_w10_mincount5_ep/model_w2v_sg_w10_mincount5_ep.model...\n",
      "Loading ../models/french_novels/balzac/separate/with_accents_lemmatized/Le Cabinet des Antiques - Honore de Balzac/model_w2v_sg_w10_mincount5_ep/model_w2v_sg_w10_mincount5_ep.model...\n",
      "Loading ../models/french_novels/balzac/separate/with_accents_lemmatized/Avant-propos - Honore de Balzac/model_w2v_sg_w10_mincount5_ep/model_w2v_sg_w10_mincount5_ep.model...\n",
      "Loading ../models/french_novels/balzac/separate/with_accents_lemmatized/La Paix du menage - Honore de Balzac/model_w2v_sg_w10_mincount5_ep/model_w2v_sg_w10_mincount5_ep.model...\n",
      "Loading ../models/french_novels/balzac/separate/with_accents_lemmatized/L'envers de l'histoire contemporaine - Honore de Balzac/model_w2v_sg_w10_mincount5_ep/model_w2v_sg_w10_mincount5_ep.model...\n",
      "Loading ../models/french_novels/balzac/separate/with_accents_lemmatized/La Grenadiere - Honore de Balzac/model_w2v_sg_w10_mincount5_ep/model_w2v_sg_w10_mincount5_ep.model...\n",
      "Loading ../models/french_novels/balzac/separate/with_accents_lemmatized/Gambara - Honore de Balzac/model_w2v_sg_w10_mincount5_ep/model_w2v_sg_w10_mincount5_ep.model...\n",
      "Loading ../models/french_novels/balzac/separate/with_accents_lemmatized/Le Cure de village - Honore de Balzac/model_w2v_sg_w10_mincount5_ep/model_w2v_sg_w10_mincount5_ep.model...\n",
      "Loading ../models/french_novels/balzac/separate/with_accents_lemmatized/Le Cure de Tours - Honore de Balzac/model_w2v_sg_w10_mincount5_ep/model_w2v_sg_w10_mincount5_ep.model...\n"
     ]
    },
    {
     "name": "stdout",
     "output_type": "stream",
     "text": [
      "Loading ../models/french_novels/balzac/separate/with_accents_lemmatized/Les deux poetes - Honore de Balzac/model_w2v_sg_w10_mincount5_ep/model_w2v_sg_w10_mincount5_ep.model...\n",
      "Loading ../models/french_novels/balzac/separate/with_accents_lemmatized/La Peau de chagrin - Honore de Balzac/model_w2v_sg_w10_mincount5_ep/model_w2v_sg_w10_mincount5_ep.model...\n",
      "Loading ../models/french_novels/balzac/separate/with_accents_lemmatized/Les paysans - Honore de Balzac/model_w2v_sg_w10_mincount5_ep/model_w2v_sg_w10_mincount5_ep.model...\n",
      "Loading ../models/french_novels/balzac/separate/with_accents_lemmatized/Une tenebreuse affaire - Honore de Balzac/model_w2v_sg_w10_mincount5_ep/model_w2v_sg_w10_mincount5_ep.model...\n",
      "Loading ../models/french_novels/balzac/separate/with_accents_lemmatized/Modeste Mignon - Honore de Balzac/model_w2v_sg_w10_mincount5_ep/model_w2v_sg_w10_mincount5_ep.model...\n",
      "Loading ../models/french_novels/balzac/separate/with_accents_lemmatized/Ursule Mirouet - Honore de Balzac/model_w2v_sg_w10_mincount5_ep/model_w2v_sg_w10_mincount5_ep.model...\n",
      "Loading ../models/french_novels/balzac/separate/with_accents_lemmatized/Un episode sous la terreur - Honore de Balzac/model_w2v_sg_w10_mincount5_ep/model_w2v_sg_w10_mincount5_ep.model...\n",
      "Loading ../models/french_novels/balzac/separate/with_accents_lemmatized/Honorine - Honore de Balzac/model_w2v_sg_w10_mincount5_ep/model_w2v_sg_w10_mincount5_ep.model...\n",
      "Loading ../models/french_novels/balzac/separate/with_accents_lemmatized/Le pere Goriot - Honore de Balzac/model_w2v_sg_w10_mincount5_ep/model_w2v_sg_w10_mincount5_ep.model...\n",
      "Loading ../models/french_novels/balzac/separate/with_accents_lemmatized/Facino Cane - Honore de Balzac/model_w2v_sg_w10_mincount5_ep/model_w2v_sg_w10_mincount5_ep.model...\n",
      "Loading ../models/french_novels/balzac/separate/with_accents_lemmatized/Physiologie du mariage - Honore de Balzac/model_w2v_sg_w10_mincount5_ep/model_w2v_sg_w10_mincount5_ep.model...\n",
      "Loading ../models/french_novels/balzac/separate/with_accents_lemmatized/Les employes ou la femme superieure - Honore de Balzac/model_w2v_sg_w10_mincount5_ep/model_w2v_sg_w10_mincount5_ep.model...\n",
      "Loading ../models/french_novels/balzac/separate/with_accents_lemmatized/Les proscrits - Honore de Balzac/model_w2v_sg_w10_mincount5_ep/model_w2v_sg_w10_mincount5_ep.model...\n",
      "Loading ../models/french_novels/balzac/separate/with_accents_lemmatized/La Fausse Maitresse - Honore de Balzac/model_w2v_sg_w10_mincount5_ep/model_w2v_sg_w10_mincount5_ep.model...\n",
      "Loading ../models/french_novels/balzac/separate/with_accents_lemmatized/Massimilla Doni - Honore de Balzac/model_w2v_sg_w10_mincount5_ep/model_w2v_sg_w10_mincount5_ep.model...\n",
      "Loading ../models/french_novels/balzac/separate/with_accents_lemmatized/Le Medecin de campagne - Honore de Balzac/model_w2v_sg_w10_mincount5_ep/model_w2v_sg_w10_mincount5_ep.model...\n",
      "Loading ../models/french_novels/balzac/separate/with_accents_lemmatized/CODE DES GENS HONNETES (ou L'art de ne pas - Honore de Balzac/model_w2v_sg_w10_mincount5_ep/model_w2v_sg_w10_mincount5_ep.model...\n",
      "Loading ../models/french_novels/balzac/separate/with_accents_lemmatized/Le cousin Pons - Honore de Balzac/model_w2v_sg_w10_mincount5_ep/model_w2v_sg_w10_mincount5_ep.model...\n",
      "Loading ../models/french_novels/balzac/separate/with_accents_lemmatized/Madame Firmiani - Honore de Balzac/model_w2v_sg_w10_mincount5_ep/model_w2v_sg_w10_mincount5_ep.model...\n",
      "Loading ../models/french_novels/balzac/separate/with_accents_lemmatized/Le Requisitionnaire - Honore de Balzac/model_w2v_sg_w10_mincount5_ep/model_w2v_sg_w10_mincount5_ep.model...\n",
      "Loading ../models/french_novels/balzac/separate/with_accents_lemmatized/A combien l'amour revient aux vieillards - Honore de Balzac/model_w2v_sg_w10_mincount5_ep/model_w2v_sg_w10_mincount5_ep.model...\n",
      "Loading ../models/french_novels/balzac/separate/with_accents_lemmatized/Le Chef-d'oeuvre inconnu - Honore de Balzac/model_w2v_sg_w10_mincount5_ep/model_w2v_sg_w10_mincount5_ep.model...\n",
      "Loading ../models/french_novels/balzac/separate/with_accents_lemmatized/Eve et David - Honore de Balzac/model_w2v_sg_w10_mincount5_ep/model_w2v_sg_w10_mincount5_ep.model...\n",
      "Loading ../models/french_novels/balzac/separate/with_accents_lemmatized/La Femme de trente ans - Honore de Balzac/model_w2v_sg_w10_mincount5_ep/model_w2v_sg_w10_mincount5_ep.model...\n",
      "Loading ../models/french_novels/balzac/separate/with_accents_lemmatized/La Fille aux yeux d'or - Honore de Balzac/model_w2v_sg_w10_mincount5_ep/model_w2v_sg_w10_mincount5_ep.model...\n",
      "Loading ../models/french_novels/balzac/separate/with_accents_lemmatized/Les Comediens sans le savoir - Honore de Balzac/model_w2v_sg_w10_mincount5_ep/model_w2v_sg_w10_mincount5_ep.model...\n",
      "Loading ../models/french_novels/balzac/separate/with_accents_lemmatized/La Vendetta - Honore de Balzac/model_w2v_sg_w10_mincount5_ep/model_w2v_sg_w10_mincount5_ep.model...\n",
      "Loading ../models/french_novels/balzac/separate/with_accents_lemmatized/La Cousine Bette - Honore de Balzac/model_w2v_sg_w10_mincount5_ep/model_w2v_sg_w10_mincount5_ep.model...\n",
      "Loading ../models/french_novels/balzac/separate/with_accents_lemmatized/L'illustre Gaudissart - Honore de Balzac/model_w2v_sg_w10_mincount5_ep/model_w2v_sg_w10_mincount5_ep.model...\n",
      "Loading ../models/french_novels/balzac/separate/with_accents_lemmatized/Gaudissart II - Honore de Balzac/model_w2v_sg_w10_mincount5_ep/model_w2v_sg_w10_mincount5_ep.model...\n",
      "Loading ../models/french_novels/balzac/separate/with_accents_lemmatized/L'enfant maudit - Honore de Balzac/model_w2v_sg_w10_mincount5_ep/model_w2v_sg_w10_mincount5_ep.model...\n",
      "Loading ../models/french_novels/balzac/separate/with_accents_lemmatized/Z. Marcas - Honore de Balzac/model_w2v_sg_w10_mincount5_ep/model_w2v_sg_w10_mincount5_ep.model...\n",
      "Loading ../models/french_novels/balzac/separate/with_accents_lemmatized/Une passion dans le desert - Honore de Balzac/model_w2v_sg_w10_mincount5_ep/model_w2v_sg_w10_mincount5_ep.model...\n",
      "Loading ../models/french_novels/balzac/separate/with_accents_lemmatized/La maison du chat-qui-pelote - Honore de Balzac/model_w2v_sg_w10_mincount5_ep/model_w2v_sg_w10_mincount5_ep.model...\n",
      "Loading ../models/french_novels/balzac/separate/with_accents_lemmatized/Memoires de deux jeunes mariees - Honore de Balzac/model_w2v_sg_w10_mincount5_ep/model_w2v_sg_w10_mincount5_ep.model...\n",
      "Loading ../models/french_novels/balzac/separate/with_accents_lemmatized/L'Elixir de longue vie - Honore de Balzac/model_w2v_sg_w10_mincount5_ep/model_w2v_sg_w10_mincount5_ep.model...\n",
      "Loading ../models/french_novels/balzac/separate/with_accents_lemmatized/Esther heureuse - Honore de Balzac/model_w2v_sg_w10_mincount5_ep/model_w2v_sg_w10_mincount5_ep.model...\n"
     ]
    }
   ],
   "source": [
    "FULL_MODEL_PATH = \"../models/french_novels/balzac/joint/accents_lemmatized/balzac_w2v_sg_w10_mincount5_ep/balzac_w2v_sg_w10_mincount5_ep.model\"\n",
    "PARTIAL_MODELS_DIR = \"../models/french_novels/balzac/separate/with_accents_lemmatized\"\n",
    "\n",
    "full_model = KeyedVectors.load(FULL_MODEL_PATH)\n",
    "#model = KeyedVectors.load(MODEL_PATH)\n",
    "model_paths = []\n",
    "models = []\n",
    "\n",
    "for root, dirs, files in os.walk(PARTIAL_MODELS_DIR):\n",
    "    for f in files:\n",
    "        if f.endswith(\".model\"):\n",
    "            model_path = os.path.join(root, f)\n",
    "            print(\"Loading {}...\".format(model_path))\n",
    "            model_paths.append(model_path)\n",
    "            models.append(KeyedVectors.load(model_path))\n"
   ]
  },
  {
   "cell_type": "markdown",
   "metadata": {},
   "source": [
    "**Key words**\n",
    "\n",
    "1. Argent\n",
    "2. Payement = paiement\n",
    "3. Banque\n",
    "4. Banquier\n",
    "5. Crédit\n",
    "6. Créancier\n",
    "7. Capital\n",
    "8. Dépôt\n",
    "9. Prêt\n",
    "10. Remboursement\n",
    "11. Créance\n",
    "12. Prix\n",
    "13. Dette\n",
    "14. Bail\n",
    "15. Revenus (se pone únicamente en plural)\n",
    "16. Rente\n",
    "17. Francs (moneda; plural)\n",
    "18. Louis d’or (moneda, plural)\n",
    "19. Écus (moneda, plural)\n",
    "20. Budget"
   ]
  },
  {
   "cell_type": "code",
   "execution_count": 4,
   "metadata": {},
   "outputs": [],
   "source": [
    "base_words = [\n",
    "    \"argent\",\n",
    "    \"payement\", \n",
    "    \"paiement\",\n",
    "    \"banque\",\n",
    "    \"banquier\",\n",
    "    \"crédit\",\n",
    "    \"créancier\",\n",
    "    \"capital\",\n",
    "    \"dépôt\",\n",
    "    \"prêt\",\n",
    "    \"remboursement\",\n",
    "    \"créance\",\n",
    "    \"prix\",\n",
    "    \"dette\",\n",
    "    \"bail\",\n",
    "    \"revenu\",\n",
    "    \"rente\",\n",
    "    \"franc\",\n",
    "#    \"louis d’or\",\n",
    "    \"écus\",\n",
    "    \"budget\"\n",
    "]"
   ]
  },
  {
   "cell_type": "markdown",
   "metadata": {},
   "source": [
    "**Build the base semgraph**\n",
    "\n",
    "- Use this semgraph to select the words to include in every other semgraph. \n",
    "- This set of words will be fixed. \n",
    "- All the rest of the semgraphs will contain the same words. \n",
    "- All links between words will be included in the semgraph.\n",
    "- Set threshold for links of the semgraph to 0."
   ]
  },
  {
   "cell_type": "code",
   "execution_count": 5,
   "metadata": {},
   "outputs": [],
   "source": [
    "N_TOP_SIMILAR = 10\n",
    "SIMILARITY_THRESHOLD = 0.5"
   ]
  },
  {
   "cell_type": "code",
   "execution_count": 6,
   "metadata": {},
   "outputs": [],
   "source": [
    "full_sem_graph = SemGraph.build_from_gensim_embedding(full_model, base_words, \n",
    "                                                      n_top_similar=N_TOP_SIMILAR,\n",
    "                                                      similarity_threshold=SIMILARITY_THRESHOLD)\n"
   ]
  },
  {
   "cell_type": "code",
   "execution_count": 7,
   "metadata": {},
   "outputs": [
    {
     "data": {
      "text/plain": [
       "111"
      ]
     },
     "execution_count": 7,
     "metadata": {},
     "output_type": "execute_result"
    }
   ],
   "source": [
    "len(full_sem_graph.names)"
   ]
  },
  {
   "cell_type": "markdown",
   "metadata": {},
   "source": [
    "**Calculate relative semantic distances with respect to the base semgraph**"
   ]
  },
  {
   "cell_type": "code",
   "execution_count": 8,
   "metadata": {},
   "outputs": [],
   "source": [
    "base_sem_graph = SemGraph.build_from_gensim_embedding(full_model, full_sem_graph.names,\n",
    "                                                      n_top_similar=0,\n",
    "                                                      similarity_threshold=0)"
   ]
  },
  {
   "cell_type": "code",
   "execution_count": 9,
   "metadata": {},
   "outputs": [
    {
     "name": "stderr",
     "output_type": "stream",
     "text": [
      "100%|██████████| 94/94 [00:01<00:00, 50.44it/s]\n"
     ]
    }
   ],
   "source": [
    "sem_graphs = []\n",
    "for m in tqdm(models):\n",
    "    sem_graphs.append(SemGraph.build_from_gensim_embedding(m, full_sem_graph.names,\n",
    "                                                 n_top_similar=0,\n",
    "                                                 similarity_threshold=0))"
   ]
  },
  {
   "cell_type": "code",
   "execution_count": 10,
   "metadata": {},
   "outputs": [],
   "source": [
    "all_sem_graphs = [base_sem_graph]\n",
    "for sg in sem_graphs:\n",
    "    all_sem_graphs.append(sg)"
   ]
  },
  {
   "cell_type": "code",
   "execution_count": 11,
   "metadata": {},
   "outputs": [
    {
     "name": "stderr",
     "output_type": "stream",
     "text": [
      "100%|██████████| 94/94 [00:10<00:00,  8.62it/s]\n"
     ]
    }
   ],
   "source": [
    "NUM_ITERATIONS = 10\n",
    "DISCOUNT_FUNCTION = lambda index: 0.9\n",
    "NORMALIZE = True\n",
    "\n",
    "sem_distances = SemGraph.get_relative_semantic_distances(base_sem_graph, sem_graphs,\n",
    "                                                         reset=True,\n",
    "                                                         num_iterations=NUM_ITERATIONS,\n",
    "                                                         discount_function=DISCOUNT_FUNCTION,\n",
    "                                                         normalize=NORMALIZE)"
   ]
  },
  {
   "cell_type": "code",
   "execution_count": 12,
   "metadata": {
    "scrolled": true
   },
   "outputs": [
    {
     "data": {
      "text/plain": [
       "94"
      ]
     },
     "execution_count": 12,
     "metadata": {},
     "output_type": "execute_result"
    }
   ],
   "source": [
    "len(sem_distances)"
   ]
  },
  {
   "cell_type": "code",
   "execution_count": 13,
   "metadata": {},
   "outputs": [
    {
     "data": {
      "text/plain": [
       "108.91698982148223"
      ]
     },
     "execution_count": 13,
     "metadata": {},
     "output_type": "execute_result"
    }
   ],
   "source": [
    "min(sem_distances)"
   ]
  },
  {
   "cell_type": "code",
   "execution_count": 14,
   "metadata": {},
   "outputs": [
    {
     "data": {
      "text/plain": [
       "149.5359800282695"
      ]
     },
     "execution_count": 14,
     "metadata": {},
     "output_type": "execute_result"
    }
   ],
   "source": [
    "max(sem_distances)"
   ]
  },
  {
   "cell_type": "code",
   "execution_count": 15,
   "metadata": {},
   "outputs": [
    {
     "name": "stdout",
     "output_type": "stream",
     "text": [
      "../models/french_novels/balzac/separate/with_accents_lemmatized/Pierre Grassou - Honore de Balzac/model_w2v_sg_w10_mincount5_ep/model_w2v_sg_w10_mincount5_ep.model:\t\t149.1458059977509\n",
      "\n",
      "\n",
      "../models/french_novels/balzac/separate/with_accents_lemmatized/Gobseck - Honore de Balzac/model_w2v_sg_w10_mincount5_ep/model_w2v_sg_w10_mincount5_ep.model:\t\t145.6850708256218\n",
      "\n",
      "\n",
      "../models/french_novels/balzac/separate/with_accents_lemmatized/Le Contrat de mariage - Honore de Balzac/model_w2v_sg_w10_mincount5_ep/model_w2v_sg_w10_mincount5_ep.model:\t\t134.97822171222603\n",
      "\n",
      "\n",
      "../models/french_novels/balzac/separate/with_accents_lemmatized/Une double famille - Honore de Balzac/model_w2v_sg_w10_mincount5_ep/model_w2v_sg_w10_mincount5_ep.model:\t\t148.44706014072406\n",
      "\n",
      "\n",
      "../models/french_novels/balzac/separate/with_accents_lemmatized/Le Message - Honore de Balzac/model_w2v_sg_w10_mincount5_ep/model_w2v_sg_w10_mincount5_ep.model:\t\t149.5359800282695\n",
      "\n",
      "\n",
      "../models/french_novels/balzac/separate/with_accents_lemmatized/La Muse du departement - Honore de Balzac/model_w2v_sg_w10_mincount5_ep/model_w2v_sg_w10_mincount5_ep.model:\t\t140.02252518794782\n",
      "\n",
      "\n",
      "../models/french_novels/balzac/separate/with_accents_lemmatized/Les Marana - Honore de Balzac/model_w2v_sg_w10_mincount5_ep/model_w2v_sg_w10_mincount5_ep.model:\t\t148.7488095637158\n",
      "\n",
      "\n",
      "../models/french_novels/balzac/separate/with_accents_lemmatized/Albert Savarus - Honore de Balzac/model_w2v_sg_w10_mincount5_ep/model_w2v_sg_w10_mincount5_ep.model:\t\t147.89923348776065\n",
      "\n",
      "\n",
      "../models/french_novels/balzac/separate/with_accents_lemmatized/La derniere incarnation de Vautrin - Honore de Balzac/model_w2v_sg_w10_mincount5_ep/model_w2v_sg_w10_mincount5_ep.model:\t\t147.64050255014652\n",
      "\n",
      "\n",
      "../models/french_novels/balzac/separate/with_accents_lemmatized/Autre etude de femme - Honore de Balzac/model_w2v_sg_w10_mincount5_ep/model_w2v_sg_w10_mincount5_ep.model:\t\t149.32926919604168\n",
      "\n",
      "\n",
      "../models/french_novels/balzac/separate/with_accents_lemmatized/Esquisse d'homme d'affaires d'apres nature - Honore de Balzac/model_w2v_sg_w10_mincount5_ep/model_w2v_sg_w10_mincount5_ep.model:\t\t148.18946836323667\n",
      "\n",
      "\n",
      "../models/french_novels/balzac/separate/with_accents_lemmatized/La Vieille Fille - Honore de Balzac/model_w2v_sg_w10_mincount5_ep/model_w2v_sg_w10_mincount5_ep.model:\t\t145.89948686415798\n",
      "\n",
      "\n",
      "../models/french_novels/balzac/separate/with_accents_lemmatized/Un drame au bord de la mer - Honore de Balzac/model_w2v_sg_w10_mincount5_ep/model_w2v_sg_w10_mincount5_ep.model:\t\t149.40708872110181\n",
      "\n",
      "\n",
      "../models/french_novels/balzac/separate/with_accents_lemmatized/Le Colonel Chabert - Honore de Balzac/model_w2v_sg_w10_mincount5_ep/model_w2v_sg_w10_mincount5_ep.model:\t\t147.83003395965764\n",
      "\n",
      "\n",
      "../models/french_novels/balzac/separate/with_accents_lemmatized/Illusions perdues - Honore de Balzac/model_w2v_sg_w10_mincount5_ep/model_w2v_sg_w10_mincount5_ep.model:\t\t111.25252037890255\n",
      "\n",
      "\n",
      "../models/french_novels/balzac/separate/with_accents_lemmatized/La grande Breteche - Honore de Balzac/model_w2v_sg_w10_mincount5_ep/model_w2v_sg_w10_mincount5_ep.model:\t\t149.4848832237058\n",
      "\n",
      "\n",
      "../models/french_novels/balzac/separate/with_accents_lemmatized/Etude de femme - Honore de Balzac/model_w2v_sg_w10_mincount5_ep/model_w2v_sg_w10_mincount5_ep.model:\t\t149.5359800282695\n",
      "\n",
      "\n",
      "../models/french_novels/balzac/separate/with_accents_lemmatized/Pierrette - Honore de Balzac/model_w2v_sg_w10_mincount5_ep/model_w2v_sg_w10_mincount5_ep.model:\t\t144.14104114125666\n",
      "\n",
      "\n",
      "../models/french_novels/balzac/separate/with_accents_lemmatized/Ferragus - Honore de Balzac/model_w2v_sg_w10_mincount5_ep/model_w2v_sg_w10_mincount5_ep.model:\t\t148.49735187199954\n",
      "\n",
      "\n",
      "../models/french_novels/balzac/separate/with_accents_lemmatized/Beatrix - Honore de Balzac/model_w2v_sg_w10_mincount5_ep/model_w2v_sg_w10_mincount5_ep.model:\t\t142.444140811223\n",
      "\n",
      "\n",
      "../models/french_novels/balzac/separate/with_accents_lemmatized/Jesus-Christ en Flandre - Honore de Balzac/model_w2v_sg_w10_mincount5_ep/model_w2v_sg_w10_mincount5_ep.model:\t\t149.5359800282695\n",
      "\n",
      "\n",
      "../models/french_novels/balzac/separate/with_accents_lemmatized/La Duchesse de Langeais - Honore de Balzac/model_w2v_sg_w10_mincount5_ep/model_w2v_sg_w10_mincount5_ep.model:\t\t148.64082976411515\n",
      "\n",
      "\n",
      "../models/french_novels/balzac/separate/with_accents_lemmatized/Ou menent les mauvais chemins - Honore de Balzac/model_w2v_sg_w10_mincount5_ep/model_w2v_sg_w10_mincount5_ep.model:\t\t147.48406447882402\n",
      "\n",
      "\n",
      "../models/french_novels/balzac/separate/with_accents_lemmatized/La Femme abandonnee - Honore de Balzac/model_w2v_sg_w10_mincount5_ep/model_w2v_sg_w10_mincount5_ep.model:\t\t149.31233898594311\n",
      "\n",
      "\n",
      "../models/french_novels/balzac/separate/with_accents_lemmatized/Sur Catherine de Medicis - Honore de Balzac/model_w2v_sg_w10_mincount5_ep/model_w2v_sg_w10_mincount5_ep.model:\t\t143.9154947524932\n",
      "\n",
      "\n",
      "../models/french_novels/balzac/separate/with_accents_lemmatized/La Recherche de l'Absolu - Honore de Balzac/model_w2v_sg_w10_mincount5_ep/model_w2v_sg_w10_mincount5_ep.model:\t\t141.90250849903668\n",
      "\n",
      "\n",
      "../models/french_novels/balzac/separate/with_accents_lemmatized/Une fille d'Eve - Honore de Balzac/model_w2v_sg_w10_mincount5_ep/model_w2v_sg_w10_mincount5_ep.model:\t\t145.83371839347757\n",
      "\n",
      "\n",
      "../models/french_novels/balzac/separate/with_accents_lemmatized/Le Lys dans la vallee - Honore de Balzac/model_w2v_sg_w10_mincount5_ep/model_w2v_sg_w10_mincount5_ep.model:\t\t146.82027165093152\n",
      "\n",
      "\n",
      "../models/french_novels/balzac/separate/with_accents_lemmatized/Louis Lambert - Honore de Balzac/model_w2v_sg_w10_mincount5_ep/model_w2v_sg_w10_mincount5_ep.model:\t\t148.74993530562628\n",
      "\n",
      "\n",
      "../models/french_novels/balzac/separate/with_accents_lemmatized/Eugenie Grandet - Honore de Balzac/model_w2v_sg_w10_mincount5_ep/model_w2v_sg_w10_mincount5_ep.model:\t\t134.86236661516463\n",
      "\n",
      "\n",
      "../models/french_novels/balzac/separate/with_accents_lemmatized/Le Bal de Sceaux - Honore de Balzac/model_w2v_sg_w10_mincount5_ep/model_w2v_sg_w10_mincount5_ep.model:\t\t148.77611310998313\n",
      "\n",
      "\n",
      "../models/french_novels/balzac/separate/with_accents_lemmatized/Petites miseres de la vie conjugale - Honore de Balzac/model_w2v_sg_w10_mincount5_ep/model_w2v_sg_w10_mincount5_ep.model:\t\t146.2463608047221\n",
      "\n",
      "\n",
      "../models/french_novels/balzac/separate/with_accents_lemmatized/L'auberge rouge - Honore de Balzac/model_w2v_sg_w10_mincount5_ep/model_w2v_sg_w10_mincount5_ep.model:\t\t149.02532439115728\n",
      "\n",
      "\n",
      "../models/french_novels/balzac/separate/with_accents_lemmatized/Seraphita - Honore de Balzac/model_w2v_sg_w10_mincount5_ep/model_w2v_sg_w10_mincount5_ep.model:\t\t149.30715859381812\n",
      "\n",
      "\n",
      "../models/french_novels/balzac/separate/with_accents_lemmatized/Un menage de garcon - Honore de Balzac/model_w2v_sg_w10_mincount5_ep/model_w2v_sg_w10_mincount5_ep.model:\t\t137.22339212556224\n",
      "\n",
      "\n",
      "../models/french_novels/balzac/separate/with_accents_lemmatized/Les Chouans - Honore de Balzac/model_w2v_sg_w10_mincount5_ep/model_w2v_sg_w10_mincount5_ep.model:\t\t146.35293089776602\n",
      "\n",
      "\n",
      "../models/french_novels/balzac/separate/with_accents_lemmatized/Un grand homme de province a Paris - Honore de Balzac/model_w2v_sg_w10_mincount5_ep/model_w2v_sg_w10_mincount5_ep.model:\t\t135.637619146265\n",
      "\n",
      "\n",
      "../models/french_novels/balzac/separate/with_accents_lemmatized/La Maison Nucingen - Honore de Balzac/model_w2v_sg_w10_mincount5_ep/model_w2v_sg_w10_mincount5_ep.model:\t\t143.50302480119382\n",
      "\n",
      "\n",
      "../models/french_novels/balzac/separate/with_accents_lemmatized/Histoire de la grandeur et de la decadence - Honore de Balzac/model_w2v_sg_w10_mincount5_ep/model_w2v_sg_w10_mincount5_ep.model:\t\t108.91698982148223\n",
      "\n",
      "\n",
      "../models/french_novels/balzac/separate/with_accents_lemmatized/Un prince de la Boheme - Honore de Balzac/model_w2v_sg_w10_mincount5_ep/model_w2v_sg_w10_mincount5_ep.model:\t\t149.24676167101015\n",
      "\n",
      "\n",
      "../models/french_novels/balzac/separate/with_accents_lemmatized/Un debut dans la vie - Honore de Balzac/model_w2v_sg_w10_mincount5_ep/model_w2v_sg_w10_mincount5_ep.model:\t\t142.23563660886086\n",
      "\n",
      "\n",
      "../models/french_novels/balzac/separate/with_accents_lemmatized/Sarrasine - Honore de Balzac/model_w2v_sg_w10_mincount5_ep/model_w2v_sg_w10_mincount5_ep.model:\t\t149.5359800282695\n",
      "\n",
      "\n",
      "../models/french_novels/balzac/separate/with_accents_lemmatized/Les Paysans - Honore de Balzac/model_w2v_sg_w10_mincount5_ep/model_w2v_sg_w10_mincount5_ep.model:\t\t132.35591884098474\n",
      "\n",
      "\n",
      "../models/french_novels/balzac/separate/with_accents_lemmatized/Melmoth reconcilie - Honore de Balzac/model_w2v_sg_w10_mincount5_ep/model_w2v_sg_w10_mincount5_ep.model:\t\t146.83634277359002\n",
      "\n",
      "\n",
      "../models/french_novels/balzac/separate/with_accents_lemmatized/Les secrets de la princesse de Cadignan - Honore de Balzac/model_w2v_sg_w10_mincount5_ep/model_w2v_sg_w10_mincount5_ep.model:\t\t149.39277748683574\n",
      "\n",
      "\n",
      "../models/french_novels/balzac/separate/with_accents_lemmatized/L'interdiction - Honore de Balzac/model_w2v_sg_w10_mincount5_ep/model_w2v_sg_w10_mincount5_ep.model:\t\t147.73729658420532\n",
      "\n",
      "\n",
      "../models/french_novels/balzac/separate/with_accents_lemmatized/El Verdugo - Honore de Balzac/model_w2v_sg_w10_mincount5_ep/model_w2v_sg_w10_mincount5_ep.model:\t\t149.5359800282695\n",
      "\n",
      "\n",
      "../models/french_novels/balzac/separate/with_accents_lemmatized/Maitre Cornelius - Honore de Balzac/model_w2v_sg_w10_mincount5_ep/model_w2v_sg_w10_mincount5_ep.model:\t\t148.78299610465243\n",
      "\n",
      "\n",
      "../models/french_novels/balzac/separate/with_accents_lemmatized/La Messe de l'athee - Honore de Balzac/model_w2v_sg_w10_mincount5_ep/model_w2v_sg_w10_mincount5_ep.model:\t\t149.27268445421177\n",
      "\n",
      "\n",
      "../models/french_novels/balzac/separate/with_accents_lemmatized/Le Cabinet des Antiques - Honore de Balzac/model_w2v_sg_w10_mincount5_ep/model_w2v_sg_w10_mincount5_ep.model:\t\t140.82707259775017\n",
      "\n",
      "\n",
      "../models/french_novels/balzac/separate/with_accents_lemmatized/Avant-propos - Honore de Balzac/model_w2v_sg_w10_mincount5_ep/model_w2v_sg_w10_mincount5_ep.model:\t\t149.5359800282695\n",
      "\n",
      "\n",
      "../models/french_novels/balzac/separate/with_accents_lemmatized/La Paix du menage - Honore de Balzac/model_w2v_sg_w10_mincount5_ep/model_w2v_sg_w10_mincount5_ep.model:\t\t149.41275336403274\n",
      "\n",
      "\n",
      "../models/french_novels/balzac/separate/with_accents_lemmatized/L'envers de l'histoire contemporaine - Honore de Balzac/model_w2v_sg_w10_mincount5_ep/model_w2v_sg_w10_mincount5_ep.model:\t\t139.31832079112277\n",
      "\n",
      "\n",
      "../models/french_novels/balzac/separate/with_accents_lemmatized/La Grenadiere - Honore de Balzac/model_w2v_sg_w10_mincount5_ep/model_w2v_sg_w10_mincount5_ep.model:\t\t149.5359800282695\n",
      "\n",
      "\n",
      "../models/french_novels/balzac/separate/with_accents_lemmatized/Gambara - Honore de Balzac/model_w2v_sg_w10_mincount5_ep/model_w2v_sg_w10_mincount5_ep.model:\t\t149.41142225932285\n",
      "\n",
      "\n",
      "../models/french_novels/balzac/separate/with_accents_lemmatized/Le Cure de village - Honore de Balzac/model_w2v_sg_w10_mincount5_ep/model_w2v_sg_w10_mincount5_ep.model:\t\t138.29644613813855\n",
      "\n",
      "\n",
      "../models/french_novels/balzac/separate/with_accents_lemmatized/Le Cure de Tours - Honore de Balzac/model_w2v_sg_w10_mincount5_ep/model_w2v_sg_w10_mincount5_ep.model:\t\t148.7933485538344\n",
      "\n",
      "\n",
      "../models/french_novels/balzac/separate/with_accents_lemmatized/Les deux poetes - Honore de Balzac/model_w2v_sg_w10_mincount5_ep/model_w2v_sg_w10_mincount5_ep.model:\t\t145.55897196716145\n",
      "\n",
      "\n",
      "../models/french_novels/balzac/separate/with_accents_lemmatized/La Peau de chagrin - Honore de Balzac/model_w2v_sg_w10_mincount5_ep/model_w2v_sg_w10_mincount5_ep.model:\t\t142.42547153491202\n",
      "\n",
      "\n",
      "../models/french_novels/balzac/separate/with_accents_lemmatized/Les paysans - Honore de Balzac/model_w2v_sg_w10_mincount5_ep/model_w2v_sg_w10_mincount5_ep.model:\t\t132.310224812742\n",
      "\n",
      "\n",
      "../models/french_novels/balzac/separate/with_accents_lemmatized/Une tenebreuse affaire - Honore de Balzac/model_w2v_sg_w10_mincount5_ep/model_w2v_sg_w10_mincount5_ep.model:\t\t144.63845763149416\n",
      "\n",
      "\n",
      "../models/french_novels/balzac/separate/with_accents_lemmatized/Modeste Mignon - Honore de Balzac/model_w2v_sg_w10_mincount5_ep/model_w2v_sg_w10_mincount5_ep.model:\t\t139.55872355167665\n",
      "\n",
      "\n",
      "../models/french_novels/balzac/separate/with_accents_lemmatized/Ursule Mirouet - Honore de Balzac/model_w2v_sg_w10_mincount5_ep/model_w2v_sg_w10_mincount5_ep.model:\t\t138.44127222731018\n",
      "\n",
      "\n",
      "../models/french_novels/balzac/separate/with_accents_lemmatized/Un episode sous la terreur - Honore de Balzac/model_w2v_sg_w10_mincount5_ep/model_w2v_sg_w10_mincount5_ep.model:\t\t149.5359800282695\n",
      "\n",
      "\n",
      "../models/french_novels/balzac/separate/with_accents_lemmatized/Honorine - Honore de Balzac/model_w2v_sg_w10_mincount5_ep/model_w2v_sg_w10_mincount5_ep.model:\t\t148.82644626664367\n",
      "\n",
      "\n",
      "../models/french_novels/balzac/separate/with_accents_lemmatized/Le pere Goriot - Honore de Balzac/model_w2v_sg_w10_mincount5_ep/model_w2v_sg_w10_mincount5_ep.model:\t\t140.30066313742321\n",
      "\n",
      "\n",
      "../models/french_novels/balzac/separate/with_accents_lemmatized/Facino Cane - Honore de Balzac/model_w2v_sg_w10_mincount5_ep/model_w2v_sg_w10_mincount5_ep.model:\t\t149.29356334649086\n",
      "\n",
      "\n",
      "../models/french_novels/balzac/separate/with_accents_lemmatized/Physiologie du mariage - Honore de Balzac/model_w2v_sg_w10_mincount5_ep/model_w2v_sg_w10_mincount5_ep.model:\t\t138.87646230524373\n",
      "\n",
      "\n",
      "../models/french_novels/balzac/separate/with_accents_lemmatized/Les employes ou la femme superieure - Honore de Balzac/model_w2v_sg_w10_mincount5_ep/model_w2v_sg_w10_mincount5_ep.model:\t\t131.06251499802133\n",
      "\n",
      "\n",
      "../models/french_novels/balzac/separate/with_accents_lemmatized/Les proscrits - Honore de Balzac/model_w2v_sg_w10_mincount5_ep/model_w2v_sg_w10_mincount5_ep.model:\t\t149.5359800282695\n",
      "\n",
      "\n",
      "../models/french_novels/balzac/separate/with_accents_lemmatized/La Fausse Maitresse - Honore de Balzac/model_w2v_sg_w10_mincount5_ep/model_w2v_sg_w10_mincount5_ep.model:\t\t148.9668666022878\n",
      "\n",
      "\n",
      "../models/french_novels/balzac/separate/with_accents_lemmatized/Massimilla Doni - Honore de Balzac/model_w2v_sg_w10_mincount5_ep/model_w2v_sg_w10_mincount5_ep.model:\t\t148.98078239860288\n",
      "\n",
      "\n",
      "../models/french_novels/balzac/separate/with_accents_lemmatized/Le Medecin de campagne - Honore de Balzac/model_w2v_sg_w10_mincount5_ep/model_w2v_sg_w10_mincount5_ep.model:\t\t144.52524182940988\n",
      "\n",
      "\n",
      "../models/french_novels/balzac/separate/with_accents_lemmatized/CODE DES GENS HONNETES (ou L'art de ne pas - Honore de Balzac/model_w2v_sg_w10_mincount5_ep/model_w2v_sg_w10_mincount5_ep.model:\t\t127.55673069135642\n",
      "\n",
      "\n",
      "../models/french_novels/balzac/separate/with_accents_lemmatized/Le cousin Pons - Honore de Balzac/model_w2v_sg_w10_mincount5_ep/model_w2v_sg_w10_mincount5_ep.model:\t\t130.79785128346336\n",
      "\n",
      "\n",
      "../models/french_novels/balzac/separate/with_accents_lemmatized/Madame Firmiani - Honore de Balzac/model_w2v_sg_w10_mincount5_ep/model_w2v_sg_w10_mincount5_ep.model:\t\t149.28387973415883\n",
      "\n",
      "\n",
      "../models/french_novels/balzac/separate/with_accents_lemmatized/Le Requisitionnaire - Honore de Balzac/model_w2v_sg_w10_mincount5_ep/model_w2v_sg_w10_mincount5_ep.model:\t\t149.5359800282695\n",
      "\n",
      "\n",
      "../models/french_novels/balzac/separate/with_accents_lemmatized/A combien l'amour revient aux vieillards - Honore de Balzac/model_w2v_sg_w10_mincount5_ep/model_w2v_sg_w10_mincount5_ep.model:\t\t141.13936506456557\n",
      "\n",
      "\n",
      "../models/french_novels/balzac/separate/with_accents_lemmatized/Le Chef-d'oeuvre inconnu - Honore de Balzac/model_w2v_sg_w10_mincount5_ep/model_w2v_sg_w10_mincount5_ep.model:\t\t149.5359800282695\n",
      "\n",
      "\n",
      "../models/french_novels/balzac/separate/with_accents_lemmatized/Eve et David - Honore de Balzac/model_w2v_sg_w10_mincount5_ep/model_w2v_sg_w10_mincount5_ep.model:\t\t130.0420685124953\n",
      "\n",
      "\n",
      "../models/french_novels/balzac/separate/with_accents_lemmatized/La Femme de trente ans - Honore de Balzac/model_w2v_sg_w10_mincount5_ep/model_w2v_sg_w10_mincount5_ep.model:\t\t148.38278473442946\n",
      "\n",
      "\n",
      "../models/french_novels/balzac/separate/with_accents_lemmatized/La Fille aux yeux d'or - Honore de Balzac/model_w2v_sg_w10_mincount5_ep/model_w2v_sg_w10_mincount5_ep.model:\t\t148.42065133175495\n",
      "\n",
      "\n",
      "../models/french_novels/balzac/separate/with_accents_lemmatized/Les Comediens sans le savoir - Honore de Balzac/model_w2v_sg_w10_mincount5_ep/model_w2v_sg_w10_mincount5_ep.model:\t\t147.88727417947123\n",
      "\n",
      "\n",
      "../models/french_novels/balzac/separate/with_accents_lemmatized/La Vendetta - Honore de Balzac/model_w2v_sg_w10_mincount5_ep/model_w2v_sg_w10_mincount5_ep.model:\t\t149.11332059048405\n",
      "\n",
      "\n",
      "../models/french_novels/balzac/separate/with_accents_lemmatized/La Cousine Bette - Honore de Balzac/model_w2v_sg_w10_mincount5_ep/model_w2v_sg_w10_mincount5_ep.model:\t\t128.7825080170447\n",
      "\n",
      "\n",
      "../models/french_novels/balzac/separate/with_accents_lemmatized/L'illustre Gaudissart - Honore de Balzac/model_w2v_sg_w10_mincount5_ep/model_w2v_sg_w10_mincount5_ep.model:\t\t146.58615840528128\n",
      "\n",
      "\n",
      "../models/french_novels/balzac/separate/with_accents_lemmatized/Gaudissart II - Honore de Balzac/model_w2v_sg_w10_mincount5_ep/model_w2v_sg_w10_mincount5_ep.model:\t\t149.30801487508595\n",
      "\n",
      "\n",
      "../models/french_novels/balzac/separate/with_accents_lemmatized/L'enfant maudit - Honore de Balzac/model_w2v_sg_w10_mincount5_ep/model_w2v_sg_w10_mincount5_ep.model:\t\t149.16701441538132\n",
      "\n",
      "\n",
      "../models/french_novels/balzac/separate/with_accents_lemmatized/Z. Marcas - Honore de Balzac/model_w2v_sg_w10_mincount5_ep/model_w2v_sg_w10_mincount5_ep.model:\t\t149.38589974722967\n",
      "\n",
      "\n",
      "../models/french_novels/balzac/separate/with_accents_lemmatized/Une passion dans le desert - Honore de Balzac/model_w2v_sg_w10_mincount5_ep/model_w2v_sg_w10_mincount5_ep.model:\t\t149.5359800282695\n",
      "\n",
      "\n",
      "../models/french_novels/balzac/separate/with_accents_lemmatized/La maison du chat-qui-pelote - Honore de Balzac/model_w2v_sg_w10_mincount5_ep/model_w2v_sg_w10_mincount5_ep.model:\t\t148.3383472359937\n",
      "\n",
      "\n",
      "../models/french_novels/balzac/separate/with_accents_lemmatized/Memoires de deux jeunes mariees - Honore de Balzac/model_w2v_sg_w10_mincount5_ep/model_w2v_sg_w10_mincount5_ep.model:\t\t145.70340898060743\n",
      "\n",
      "\n",
      "../models/french_novels/balzac/separate/with_accents_lemmatized/L'Elixir de longue vie - Honore de Balzac/model_w2v_sg_w10_mincount5_ep/model_w2v_sg_w10_mincount5_ep.model:\t\t149.5359800282695\n",
      "\n",
      "\n",
      "../models/french_novels/balzac/separate/with_accents_lemmatized/Esther heureuse - Honore de Balzac/model_w2v_sg_w10_mincount5_ep/model_w2v_sg_w10_mincount5_ep.model:\t\t143.99843980338147\n",
      "\n",
      "\n"
     ]
    }
   ],
   "source": [
    "for i in range(len(sem_graphs)):\n",
    "    print(\"{}:\\t\\t{}\\n\\n\".format(model_paths[i], sem_distances[i]))"
   ]
  },
  {
   "cell_type": "markdown",
   "metadata": {},
   "source": [
    "**Calculate matrix of distances.**\n",
    "\n",
    "The first semgraph is the base, relative one."
   ]
  },
  {
   "cell_type": "code",
   "execution_count": 16,
   "metadata": {},
   "outputs": [
    {
     "name": "stderr",
     "output_type": "stream",
     "text": [
      "100%|██████████| 95/95 [00:12<00:00,  7.65it/s]\n",
      "95it [00:21,  4.42it/s]\n"
     ]
    }
   ],
   "source": [
    "semantic_distance_matrix = SemGraph.get_relative_semantic_distance_matrix(all_sem_graphs,\n",
    "                                                                          reset=True,\n",
    "                                                                          num_iterations=NUM_ITERATIONS,\n",
    "                                                                          discount_function=DISCOUNT_FUNCTION,\n",
    "                                                                          normalize=NORMALIZE)"
   ]
  },
  {
   "cell_type": "code",
   "execution_count": 18,
   "metadata": {},
   "outputs": [
    {
     "data": {
      "text/plain": [
       "(95, 95)"
      ]
     },
     "execution_count": 18,
     "metadata": {},
     "output_type": "execute_result"
    }
   ],
   "source": [
    "semantic_distance_matrix.shape"
   ]
  },
  {
   "cell_type": "markdown",
   "metadata": {},
   "source": [
    "Save to TSV"
   ]
  },
  {
   "cell_type": "code",
   "execution_count": 19,
   "metadata": {},
   "outputs": [],
   "source": [
    "def get_prefix_overlap(s1: str, s2: str) -> str:\n",
    "    index_overlap = -1\n",
    "    for i in range(min(len(s1), len(s2))):\n",
    "        if s1[i] == s2[i]:\n",
    "            index_overlap += 1\n",
    "        else:\n",
    "            break\n",
    "    if index_overlap == -1:\n",
    "        return \"\"\n",
    "    return s1[:index_overlap+1]\n",
    "\n",
    "def get_suffix_overlap(s1: str, s2: str) -> str:\n",
    "    index_overlap = -1\n",
    "    for i in range(1,min(len(s1), len(s2))+1):\n",
    "        if s1[-1*i] == s2[-1*i]:\n",
    "            index_overlap += 1\n",
    "        else:\n",
    "            break\n",
    "    if index_overlap == -1:\n",
    "        return \"\"\n",
    "    return s1[-1*index_overlap-1:]\n",
    "\n"
   ]
  },
  {
   "cell_type": "code",
   "execution_count": 20,
   "metadata": {},
   "outputs": [],
   "source": [
    "#get_suffix_overlap(\"123456789\", \"11189\")"
   ]
  },
  {
   "cell_type": "code",
   "execution_count": 21,
   "metadata": {},
   "outputs": [],
   "source": [
    "def extract_label(paths: Iterable[str]) -> str:\n",
    "    # Infer common prefix\n",
    "    prefix = None\n",
    "    for p in paths:\n",
    "        if prefix is None:\n",
    "            prefix = p\n",
    "        else:\n",
    "            prefix = get_prefix_overlap(prefix, p)\n",
    "    # Infer common suffix\n",
    "    suffix = None\n",
    "    for p in paths:\n",
    "        if suffix is None:\n",
    "            suffix = p\n",
    "        else:\n",
    "            suffix = get_suffix_overlap(suffix, p)\n",
    "    # Remove common prefix and suffix\n",
    "    print(\"prefix: {}\".format(prefix))\n",
    "    print(\"suffix: {}\".format(suffix))\n",
    "    res = [p[len(prefix):][:-1*len(suffix)].strip() for p in paths]\n",
    "    return res"
   ]
  },
  {
   "cell_type": "code",
   "execution_count": 22,
   "metadata": {},
   "outputs": [
    {
     "name": "stdout",
     "output_type": "stream",
     "text": [
      "prefix: ../models/french_novels/balzac/separate/with_accents_lemmatized/\n",
      "suffix:  - Honore de Balzac/model_w2v_sg_w10_mincount5_ep/model_w2v_sg_w10_mincount5_ep.model\n"
     ]
    }
   ],
   "source": [
    "labels = extract_label(model_paths)"
   ]
  },
  {
   "cell_type": "code",
   "execution_count": 23,
   "metadata": {},
   "outputs": [
    {
     "name": "stdout",
     "output_type": "stream",
     "text": [
      "../models/french_novels/balzac/separate/with_accents_lemmatized/Pierre Grassou - Honore de Balzac/model_w2v_sg_w10_mincount5_ep/model_w2v_sg_w10_mincount5_ep.model -> Pierre Grassou\n",
      "../models/french_novels/balzac/separate/with_accents_lemmatized/Gobseck - Honore de Balzac/model_w2v_sg_w10_mincount5_ep/model_w2v_sg_w10_mincount5_ep.model -> Gobseck\n",
      "../models/french_novels/balzac/separate/with_accents_lemmatized/Le Contrat de mariage - Honore de Balzac/model_w2v_sg_w10_mincount5_ep/model_w2v_sg_w10_mincount5_ep.model -> Le Contrat de mariage\n",
      "../models/french_novels/balzac/separate/with_accents_lemmatized/Une double famille - Honore de Balzac/model_w2v_sg_w10_mincount5_ep/model_w2v_sg_w10_mincount5_ep.model -> Une double famille\n",
      "../models/french_novels/balzac/separate/with_accents_lemmatized/Le Message - Honore de Balzac/model_w2v_sg_w10_mincount5_ep/model_w2v_sg_w10_mincount5_ep.model -> Le Message\n",
      "../models/french_novels/balzac/separate/with_accents_lemmatized/La Muse du departement - Honore de Balzac/model_w2v_sg_w10_mincount5_ep/model_w2v_sg_w10_mincount5_ep.model -> La Muse du departement\n",
      "../models/french_novels/balzac/separate/with_accents_lemmatized/Les Marana - Honore de Balzac/model_w2v_sg_w10_mincount5_ep/model_w2v_sg_w10_mincount5_ep.model -> Les Marana\n",
      "../models/french_novels/balzac/separate/with_accents_lemmatized/Albert Savarus - Honore de Balzac/model_w2v_sg_w10_mincount5_ep/model_w2v_sg_w10_mincount5_ep.model -> Albert Savarus\n",
      "../models/french_novels/balzac/separate/with_accents_lemmatized/La derniere incarnation de Vautrin - Honore de Balzac/model_w2v_sg_w10_mincount5_ep/model_w2v_sg_w10_mincount5_ep.model -> La derniere incarnation de Vautrin\n",
      "../models/french_novels/balzac/separate/with_accents_lemmatized/Autre etude de femme - Honore de Balzac/model_w2v_sg_w10_mincount5_ep/model_w2v_sg_w10_mincount5_ep.model -> Autre etude de femme\n",
      "../models/french_novels/balzac/separate/with_accents_lemmatized/Esquisse d'homme d'affaires d'apres nature - Honore de Balzac/model_w2v_sg_w10_mincount5_ep/model_w2v_sg_w10_mincount5_ep.model -> Esquisse d'homme d'affaires d'apres nature\n",
      "../models/french_novels/balzac/separate/with_accents_lemmatized/La Vieille Fille - Honore de Balzac/model_w2v_sg_w10_mincount5_ep/model_w2v_sg_w10_mincount5_ep.model -> La Vieille Fille\n",
      "../models/french_novels/balzac/separate/with_accents_lemmatized/Un drame au bord de la mer - Honore de Balzac/model_w2v_sg_w10_mincount5_ep/model_w2v_sg_w10_mincount5_ep.model -> Un drame au bord de la mer\n",
      "../models/french_novels/balzac/separate/with_accents_lemmatized/Le Colonel Chabert - Honore de Balzac/model_w2v_sg_w10_mincount5_ep/model_w2v_sg_w10_mincount5_ep.model -> Le Colonel Chabert\n",
      "../models/french_novels/balzac/separate/with_accents_lemmatized/Illusions perdues - Honore de Balzac/model_w2v_sg_w10_mincount5_ep/model_w2v_sg_w10_mincount5_ep.model -> Illusions perdues\n",
      "../models/french_novels/balzac/separate/with_accents_lemmatized/La grande Breteche - Honore de Balzac/model_w2v_sg_w10_mincount5_ep/model_w2v_sg_w10_mincount5_ep.model -> La grande Breteche\n",
      "../models/french_novels/balzac/separate/with_accents_lemmatized/Etude de femme - Honore de Balzac/model_w2v_sg_w10_mincount5_ep/model_w2v_sg_w10_mincount5_ep.model -> Etude de femme\n",
      "../models/french_novels/balzac/separate/with_accents_lemmatized/Pierrette - Honore de Balzac/model_w2v_sg_w10_mincount5_ep/model_w2v_sg_w10_mincount5_ep.model -> Pierrette\n",
      "../models/french_novels/balzac/separate/with_accents_lemmatized/Ferragus - Honore de Balzac/model_w2v_sg_w10_mincount5_ep/model_w2v_sg_w10_mincount5_ep.model -> Ferragus\n",
      "../models/french_novels/balzac/separate/with_accents_lemmatized/Beatrix - Honore de Balzac/model_w2v_sg_w10_mincount5_ep/model_w2v_sg_w10_mincount5_ep.model -> Beatrix\n",
      "../models/french_novels/balzac/separate/with_accents_lemmatized/Jesus-Christ en Flandre - Honore de Balzac/model_w2v_sg_w10_mincount5_ep/model_w2v_sg_w10_mincount5_ep.model -> Jesus-Christ en Flandre\n",
      "../models/french_novels/balzac/separate/with_accents_lemmatized/La Duchesse de Langeais - Honore de Balzac/model_w2v_sg_w10_mincount5_ep/model_w2v_sg_w10_mincount5_ep.model -> La Duchesse de Langeais\n",
      "../models/french_novels/balzac/separate/with_accents_lemmatized/Ou menent les mauvais chemins - Honore de Balzac/model_w2v_sg_w10_mincount5_ep/model_w2v_sg_w10_mincount5_ep.model -> Ou menent les mauvais chemins\n",
      "../models/french_novels/balzac/separate/with_accents_lemmatized/La Femme abandonnee - Honore de Balzac/model_w2v_sg_w10_mincount5_ep/model_w2v_sg_w10_mincount5_ep.model -> La Femme abandonnee\n",
      "../models/french_novels/balzac/separate/with_accents_lemmatized/Sur Catherine de Medicis - Honore de Balzac/model_w2v_sg_w10_mincount5_ep/model_w2v_sg_w10_mincount5_ep.model -> Sur Catherine de Medicis\n",
      "../models/french_novels/balzac/separate/with_accents_lemmatized/La Recherche de l'Absolu - Honore de Balzac/model_w2v_sg_w10_mincount5_ep/model_w2v_sg_w10_mincount5_ep.model -> La Recherche de l'Absolu\n",
      "../models/french_novels/balzac/separate/with_accents_lemmatized/Une fille d'Eve - Honore de Balzac/model_w2v_sg_w10_mincount5_ep/model_w2v_sg_w10_mincount5_ep.model -> Une fille d'Eve\n",
      "../models/french_novels/balzac/separate/with_accents_lemmatized/Le Lys dans la vallee - Honore de Balzac/model_w2v_sg_w10_mincount5_ep/model_w2v_sg_w10_mincount5_ep.model -> Le Lys dans la vallee\n",
      "../models/french_novels/balzac/separate/with_accents_lemmatized/Louis Lambert - Honore de Balzac/model_w2v_sg_w10_mincount5_ep/model_w2v_sg_w10_mincount5_ep.model -> Louis Lambert\n",
      "../models/french_novels/balzac/separate/with_accents_lemmatized/Eugenie Grandet - Honore de Balzac/model_w2v_sg_w10_mincount5_ep/model_w2v_sg_w10_mincount5_ep.model -> Eugenie Grandet\n",
      "../models/french_novels/balzac/separate/with_accents_lemmatized/Le Bal de Sceaux - Honore de Balzac/model_w2v_sg_w10_mincount5_ep/model_w2v_sg_w10_mincount5_ep.model -> Le Bal de Sceaux\n",
      "../models/french_novels/balzac/separate/with_accents_lemmatized/Petites miseres de la vie conjugale - Honore de Balzac/model_w2v_sg_w10_mincount5_ep/model_w2v_sg_w10_mincount5_ep.model -> Petites miseres de la vie conjugale\n",
      "../models/french_novels/balzac/separate/with_accents_lemmatized/L'auberge rouge - Honore de Balzac/model_w2v_sg_w10_mincount5_ep/model_w2v_sg_w10_mincount5_ep.model -> L'auberge rouge\n",
      "../models/french_novels/balzac/separate/with_accents_lemmatized/Seraphita - Honore de Balzac/model_w2v_sg_w10_mincount5_ep/model_w2v_sg_w10_mincount5_ep.model -> Seraphita\n",
      "../models/french_novels/balzac/separate/with_accents_lemmatized/Un menage de garcon - Honore de Balzac/model_w2v_sg_w10_mincount5_ep/model_w2v_sg_w10_mincount5_ep.model -> Un menage de garcon\n",
      "../models/french_novels/balzac/separate/with_accents_lemmatized/Les Chouans - Honore de Balzac/model_w2v_sg_w10_mincount5_ep/model_w2v_sg_w10_mincount5_ep.model -> Les Chouans\n",
      "../models/french_novels/balzac/separate/with_accents_lemmatized/Un grand homme de province a Paris - Honore de Balzac/model_w2v_sg_w10_mincount5_ep/model_w2v_sg_w10_mincount5_ep.model -> Un grand homme de province a Paris\n",
      "../models/french_novels/balzac/separate/with_accents_lemmatized/La Maison Nucingen - Honore de Balzac/model_w2v_sg_w10_mincount5_ep/model_w2v_sg_w10_mincount5_ep.model -> La Maison Nucingen\n",
      "../models/french_novels/balzac/separate/with_accents_lemmatized/Histoire de la grandeur et de la decadence - Honore de Balzac/model_w2v_sg_w10_mincount5_ep/model_w2v_sg_w10_mincount5_ep.model -> Histoire de la grandeur et de la decadence\n",
      "../models/french_novels/balzac/separate/with_accents_lemmatized/Un prince de la Boheme - Honore de Balzac/model_w2v_sg_w10_mincount5_ep/model_w2v_sg_w10_mincount5_ep.model -> Un prince de la Boheme\n",
      "../models/french_novels/balzac/separate/with_accents_lemmatized/Un debut dans la vie - Honore de Balzac/model_w2v_sg_w10_mincount5_ep/model_w2v_sg_w10_mincount5_ep.model -> Un debut dans la vie\n",
      "../models/french_novels/balzac/separate/with_accents_lemmatized/Sarrasine - Honore de Balzac/model_w2v_sg_w10_mincount5_ep/model_w2v_sg_w10_mincount5_ep.model -> Sarrasine\n",
      "../models/french_novels/balzac/separate/with_accents_lemmatized/Les Paysans - Honore de Balzac/model_w2v_sg_w10_mincount5_ep/model_w2v_sg_w10_mincount5_ep.model -> Les Paysans\n",
      "../models/french_novels/balzac/separate/with_accents_lemmatized/Melmoth reconcilie - Honore de Balzac/model_w2v_sg_w10_mincount5_ep/model_w2v_sg_w10_mincount5_ep.model -> Melmoth reconcilie\n",
      "../models/french_novels/balzac/separate/with_accents_lemmatized/Les secrets de la princesse de Cadignan - Honore de Balzac/model_w2v_sg_w10_mincount5_ep/model_w2v_sg_w10_mincount5_ep.model -> Les secrets de la princesse de Cadignan\n",
      "../models/french_novels/balzac/separate/with_accents_lemmatized/L'interdiction - Honore de Balzac/model_w2v_sg_w10_mincount5_ep/model_w2v_sg_w10_mincount5_ep.model -> L'interdiction\n",
      "../models/french_novels/balzac/separate/with_accents_lemmatized/El Verdugo - Honore de Balzac/model_w2v_sg_w10_mincount5_ep/model_w2v_sg_w10_mincount5_ep.model -> El Verdugo\n",
      "../models/french_novels/balzac/separate/with_accents_lemmatized/Maitre Cornelius - Honore de Balzac/model_w2v_sg_w10_mincount5_ep/model_w2v_sg_w10_mincount5_ep.model -> Maitre Cornelius\n",
      "../models/french_novels/balzac/separate/with_accents_lemmatized/La Messe de l'athee - Honore de Balzac/model_w2v_sg_w10_mincount5_ep/model_w2v_sg_w10_mincount5_ep.model -> La Messe de l'athee\n",
      "../models/french_novels/balzac/separate/with_accents_lemmatized/Le Cabinet des Antiques - Honore de Balzac/model_w2v_sg_w10_mincount5_ep/model_w2v_sg_w10_mincount5_ep.model -> Le Cabinet des Antiques\n",
      "../models/french_novels/balzac/separate/with_accents_lemmatized/Avant-propos - Honore de Balzac/model_w2v_sg_w10_mincount5_ep/model_w2v_sg_w10_mincount5_ep.model -> Avant-propos\n",
      "../models/french_novels/balzac/separate/with_accents_lemmatized/La Paix du menage - Honore de Balzac/model_w2v_sg_w10_mincount5_ep/model_w2v_sg_w10_mincount5_ep.model -> La Paix du menage\n",
      "../models/french_novels/balzac/separate/with_accents_lemmatized/L'envers de l'histoire contemporaine - Honore de Balzac/model_w2v_sg_w10_mincount5_ep/model_w2v_sg_w10_mincount5_ep.model -> L'envers de l'histoire contemporaine\n",
      "../models/french_novels/balzac/separate/with_accents_lemmatized/La Grenadiere - Honore de Balzac/model_w2v_sg_w10_mincount5_ep/model_w2v_sg_w10_mincount5_ep.model -> La Grenadiere\n",
      "../models/french_novels/balzac/separate/with_accents_lemmatized/Gambara - Honore de Balzac/model_w2v_sg_w10_mincount5_ep/model_w2v_sg_w10_mincount5_ep.model -> Gambara\n",
      "../models/french_novels/balzac/separate/with_accents_lemmatized/Le Cure de village - Honore de Balzac/model_w2v_sg_w10_mincount5_ep/model_w2v_sg_w10_mincount5_ep.model -> Le Cure de village\n",
      "../models/french_novels/balzac/separate/with_accents_lemmatized/Le Cure de Tours - Honore de Balzac/model_w2v_sg_w10_mincount5_ep/model_w2v_sg_w10_mincount5_ep.model -> Le Cure de Tours\n",
      "../models/french_novels/balzac/separate/with_accents_lemmatized/Les deux poetes - Honore de Balzac/model_w2v_sg_w10_mincount5_ep/model_w2v_sg_w10_mincount5_ep.model -> Les deux poetes\n",
      "../models/french_novels/balzac/separate/with_accents_lemmatized/La Peau de chagrin - Honore de Balzac/model_w2v_sg_w10_mincount5_ep/model_w2v_sg_w10_mincount5_ep.model -> La Peau de chagrin\n",
      "../models/french_novels/balzac/separate/with_accents_lemmatized/Les paysans - Honore de Balzac/model_w2v_sg_w10_mincount5_ep/model_w2v_sg_w10_mincount5_ep.model -> Les paysans\n",
      "../models/french_novels/balzac/separate/with_accents_lemmatized/Une tenebreuse affaire - Honore de Balzac/model_w2v_sg_w10_mincount5_ep/model_w2v_sg_w10_mincount5_ep.model -> Une tenebreuse affaire\n",
      "../models/french_novels/balzac/separate/with_accents_lemmatized/Modeste Mignon - Honore de Balzac/model_w2v_sg_w10_mincount5_ep/model_w2v_sg_w10_mincount5_ep.model -> Modeste Mignon\n",
      "../models/french_novels/balzac/separate/with_accents_lemmatized/Ursule Mirouet - Honore de Balzac/model_w2v_sg_w10_mincount5_ep/model_w2v_sg_w10_mincount5_ep.model -> Ursule Mirouet\n",
      "../models/french_novels/balzac/separate/with_accents_lemmatized/Un episode sous la terreur - Honore de Balzac/model_w2v_sg_w10_mincount5_ep/model_w2v_sg_w10_mincount5_ep.model -> Un episode sous la terreur\n",
      "../models/french_novels/balzac/separate/with_accents_lemmatized/Honorine - Honore de Balzac/model_w2v_sg_w10_mincount5_ep/model_w2v_sg_w10_mincount5_ep.model -> Honorine\n",
      "../models/french_novels/balzac/separate/with_accents_lemmatized/Le pere Goriot - Honore de Balzac/model_w2v_sg_w10_mincount5_ep/model_w2v_sg_w10_mincount5_ep.model -> Le pere Goriot\n",
      "../models/french_novels/balzac/separate/with_accents_lemmatized/Facino Cane - Honore de Balzac/model_w2v_sg_w10_mincount5_ep/model_w2v_sg_w10_mincount5_ep.model -> Facino Cane\n",
      "../models/french_novels/balzac/separate/with_accents_lemmatized/Physiologie du mariage - Honore de Balzac/model_w2v_sg_w10_mincount5_ep/model_w2v_sg_w10_mincount5_ep.model -> Physiologie du mariage\n",
      "../models/french_novels/balzac/separate/with_accents_lemmatized/Les employes ou la femme superieure - Honore de Balzac/model_w2v_sg_w10_mincount5_ep/model_w2v_sg_w10_mincount5_ep.model -> Les employes ou la femme superieure\n",
      "../models/french_novels/balzac/separate/with_accents_lemmatized/Les proscrits - Honore de Balzac/model_w2v_sg_w10_mincount5_ep/model_w2v_sg_w10_mincount5_ep.model -> Les proscrits\n",
      "../models/french_novels/balzac/separate/with_accents_lemmatized/La Fausse Maitresse - Honore de Balzac/model_w2v_sg_w10_mincount5_ep/model_w2v_sg_w10_mincount5_ep.model -> La Fausse Maitresse\n",
      "../models/french_novels/balzac/separate/with_accents_lemmatized/Massimilla Doni - Honore de Balzac/model_w2v_sg_w10_mincount5_ep/model_w2v_sg_w10_mincount5_ep.model -> Massimilla Doni\n",
      "../models/french_novels/balzac/separate/with_accents_lemmatized/Le Medecin de campagne - Honore de Balzac/model_w2v_sg_w10_mincount5_ep/model_w2v_sg_w10_mincount5_ep.model -> Le Medecin de campagne\n",
      "../models/french_novels/balzac/separate/with_accents_lemmatized/CODE DES GENS HONNETES (ou L'art de ne pas - Honore de Balzac/model_w2v_sg_w10_mincount5_ep/model_w2v_sg_w10_mincount5_ep.model -> CODE DES GENS HONNETES (ou L'art de ne pas\n",
      "../models/french_novels/balzac/separate/with_accents_lemmatized/Le cousin Pons - Honore de Balzac/model_w2v_sg_w10_mincount5_ep/model_w2v_sg_w10_mincount5_ep.model -> Le cousin Pons\n",
      "../models/french_novels/balzac/separate/with_accents_lemmatized/Madame Firmiani - Honore de Balzac/model_w2v_sg_w10_mincount5_ep/model_w2v_sg_w10_mincount5_ep.model -> Madame Firmiani\n",
      "../models/french_novels/balzac/separate/with_accents_lemmatized/Le Requisitionnaire - Honore de Balzac/model_w2v_sg_w10_mincount5_ep/model_w2v_sg_w10_mincount5_ep.model -> Le Requisitionnaire\n",
      "../models/french_novels/balzac/separate/with_accents_lemmatized/A combien l'amour revient aux vieillards - Honore de Balzac/model_w2v_sg_w10_mincount5_ep/model_w2v_sg_w10_mincount5_ep.model -> A combien l'amour revient aux vieillards\n",
      "../models/french_novels/balzac/separate/with_accents_lemmatized/Le Chef-d'oeuvre inconnu - Honore de Balzac/model_w2v_sg_w10_mincount5_ep/model_w2v_sg_w10_mincount5_ep.model -> Le Chef-d'oeuvre inconnu\n",
      "../models/french_novels/balzac/separate/with_accents_lemmatized/Eve et David - Honore de Balzac/model_w2v_sg_w10_mincount5_ep/model_w2v_sg_w10_mincount5_ep.model -> Eve et David\n",
      "../models/french_novels/balzac/separate/with_accents_lemmatized/La Femme de trente ans - Honore de Balzac/model_w2v_sg_w10_mincount5_ep/model_w2v_sg_w10_mincount5_ep.model -> La Femme de trente ans\n",
      "../models/french_novels/balzac/separate/with_accents_lemmatized/La Fille aux yeux d'or - Honore de Balzac/model_w2v_sg_w10_mincount5_ep/model_w2v_sg_w10_mincount5_ep.model -> La Fille aux yeux d'or\n",
      "../models/french_novels/balzac/separate/with_accents_lemmatized/Les Comediens sans le savoir - Honore de Balzac/model_w2v_sg_w10_mincount5_ep/model_w2v_sg_w10_mincount5_ep.model -> Les Comediens sans le savoir\n",
      "../models/french_novels/balzac/separate/with_accents_lemmatized/La Vendetta - Honore de Balzac/model_w2v_sg_w10_mincount5_ep/model_w2v_sg_w10_mincount5_ep.model -> La Vendetta\n",
      "../models/french_novels/balzac/separate/with_accents_lemmatized/La Cousine Bette - Honore de Balzac/model_w2v_sg_w10_mincount5_ep/model_w2v_sg_w10_mincount5_ep.model -> La Cousine Bette\n",
      "../models/french_novels/balzac/separate/with_accents_lemmatized/L'illustre Gaudissart - Honore de Balzac/model_w2v_sg_w10_mincount5_ep/model_w2v_sg_w10_mincount5_ep.model -> L'illustre Gaudissart\n",
      "../models/french_novels/balzac/separate/with_accents_lemmatized/Gaudissart II - Honore de Balzac/model_w2v_sg_w10_mincount5_ep/model_w2v_sg_w10_mincount5_ep.model -> Gaudissart II\n",
      "../models/french_novels/balzac/separate/with_accents_lemmatized/L'enfant maudit - Honore de Balzac/model_w2v_sg_w10_mincount5_ep/model_w2v_sg_w10_mincount5_ep.model -> L'enfant maudit\n",
      "../models/french_novels/balzac/separate/with_accents_lemmatized/Z. Marcas - Honore de Balzac/model_w2v_sg_w10_mincount5_ep/model_w2v_sg_w10_mincount5_ep.model -> Z. Marcas\n",
      "../models/french_novels/balzac/separate/with_accents_lemmatized/Une passion dans le desert - Honore de Balzac/model_w2v_sg_w10_mincount5_ep/model_w2v_sg_w10_mincount5_ep.model -> Une passion dans le desert\n",
      "../models/french_novels/balzac/separate/with_accents_lemmatized/La maison du chat-qui-pelote - Honore de Balzac/model_w2v_sg_w10_mincount5_ep/model_w2v_sg_w10_mincount5_ep.model -> La maison du chat-qui-pelote\n",
      "../models/french_novels/balzac/separate/with_accents_lemmatized/Memoires de deux jeunes mariees - Honore de Balzac/model_w2v_sg_w10_mincount5_ep/model_w2v_sg_w10_mincount5_ep.model -> Memoires de deux jeunes mariees\n",
      "../models/french_novels/balzac/separate/with_accents_lemmatized/L'Elixir de longue vie - Honore de Balzac/model_w2v_sg_w10_mincount5_ep/model_w2v_sg_w10_mincount5_ep.model -> L'Elixir de longue vie\n",
      "../models/french_novels/balzac/separate/with_accents_lemmatized/Esther heureuse - Honore de Balzac/model_w2v_sg_w10_mincount5_ep/model_w2v_sg_w10_mincount5_ep.model -> Esther heureuse\n"
     ]
    }
   ],
   "source": [
    "for i in range(len(model_paths)):\n",
    "    print(\"{} -> {}\".format(model_paths[i], labels[i]))"
   ]
  },
  {
   "cell_type": "code",
   "execution_count": 24,
   "metadata": {},
   "outputs": [
    {
     "name": "stderr",
     "output_type": "stream",
     "text": [
      "100%|██████████| 95/95 [00:00<00:00, 119.22it/s]\n",
      "100%|██████████| 95/95 [00:00<00:00, 484743.16it/s]\n"
     ]
    }
   ],
   "source": [
    "all_labels = [\"FULL_SEMGRAPH\"]\n",
    "all_labels += [l for l in labels]\n",
    "SemGraph.save_stacked_semgraphs_to_tsv(all_sem_graphs, all_labels, \"stacked.tsv\")"
   ]
  },
  {
   "cell_type": "code",
   "execution_count": null,
   "metadata": {},
   "outputs": [],
   "source": []
  },
  {
   "cell_type": "code",
   "execution_count": 25,
   "metadata": {},
   "outputs": [
    {
     "data": {
      "text/plain": [
       "['Pierre Grassou',\n",
       " 'Gobseck',\n",
       " 'Le Contrat de mariage',\n",
       " 'Une double famille',\n",
       " 'Le Message',\n",
       " 'La Muse du departement',\n",
       " 'Les Marana',\n",
       " 'Albert Savarus',\n",
       " 'La derniere incarnation de Vautrin',\n",
       " 'Autre etude de femme',\n",
       " \"Esquisse d'homme d'affaires d'apres nature\",\n",
       " 'La Vieille Fille',\n",
       " 'Un drame au bord de la mer',\n",
       " 'Le Colonel Chabert',\n",
       " 'Illusions perdues',\n",
       " 'La grande Breteche',\n",
       " 'Etude de femme',\n",
       " 'Pierrette',\n",
       " 'Ferragus',\n",
       " 'Beatrix',\n",
       " 'Jesus-Christ en Flandre',\n",
       " 'La Duchesse de Langeais',\n",
       " 'Ou menent les mauvais chemins',\n",
       " 'La Femme abandonnee',\n",
       " 'Sur Catherine de Medicis',\n",
       " \"La Recherche de l'Absolu\",\n",
       " \"Une fille d'Eve\",\n",
       " 'Le Lys dans la vallee',\n",
       " 'Louis Lambert',\n",
       " 'Eugenie Grandet',\n",
       " 'Le Bal de Sceaux',\n",
       " 'Petites miseres de la vie conjugale',\n",
       " \"L'auberge rouge\",\n",
       " 'Seraphita',\n",
       " 'Un menage de garcon',\n",
       " 'Les Chouans',\n",
       " 'Un grand homme de province a Paris',\n",
       " 'La Maison Nucingen',\n",
       " 'Histoire de la grandeur et de la decadence',\n",
       " 'Un prince de la Boheme',\n",
       " 'Un debut dans la vie',\n",
       " 'Sarrasine',\n",
       " 'Les Paysans',\n",
       " 'Melmoth reconcilie',\n",
       " 'Les secrets de la princesse de Cadignan',\n",
       " \"L'interdiction\",\n",
       " 'El Verdugo',\n",
       " 'Maitre Cornelius',\n",
       " \"La Messe de l'athee\",\n",
       " 'Le Cabinet des Antiques',\n",
       " 'Avant-propos',\n",
       " 'La Paix du menage',\n",
       " \"L'envers de l'histoire contemporaine\",\n",
       " 'La Grenadiere',\n",
       " 'Gambara',\n",
       " 'Le Cure de village',\n",
       " 'Le Cure de Tours',\n",
       " 'Les deux poetes',\n",
       " 'La Peau de chagrin',\n",
       " 'Les paysans',\n",
       " 'Une tenebreuse affaire',\n",
       " 'Modeste Mignon',\n",
       " 'Ursule Mirouet',\n",
       " 'Un episode sous la terreur',\n",
       " 'Honorine',\n",
       " 'Le pere Goriot',\n",
       " 'Facino Cane',\n",
       " 'Physiologie du mariage',\n",
       " 'Les employes ou la femme superieure',\n",
       " 'Les proscrits',\n",
       " 'La Fausse Maitresse',\n",
       " 'Massimilla Doni',\n",
       " 'Le Medecin de campagne',\n",
       " \"CODE DES GENS HONNETES (ou L'art de ne pas\",\n",
       " 'Le cousin Pons',\n",
       " 'Madame Firmiani',\n",
       " 'Le Requisitionnaire',\n",
       " \"A combien l'amour revient aux vieillards\",\n",
       " \"Le Chef-d'oeuvre inconnu\",\n",
       " 'Eve et David',\n",
       " 'La Femme de trente ans',\n",
       " \"La Fille aux yeux d'or\",\n",
       " 'Les Comediens sans le savoir',\n",
       " 'La Vendetta',\n",
       " 'La Cousine Bette',\n",
       " \"L'illustre Gaudissart\",\n",
       " 'Gaudissart II',\n",
       " \"L'enfant maudit\",\n",
       " 'Z. Marcas',\n",
       " 'Une passion dans le desert',\n",
       " 'La maison du chat-qui-pelote',\n",
       " 'Memoires de deux jeunes mariees',\n",
       " \"L'Elixir de longue vie\",\n",
       " 'Esther heureuse']"
      ]
     },
     "execution_count": 25,
     "metadata": {},
     "output_type": "execute_result"
    }
   ],
   "source": [
    "labels"
   ]
  },
  {
   "cell_type": "code",
   "execution_count": null,
   "metadata": {},
   "outputs": [],
   "source": []
  },
  {
   "cell_type": "code",
   "execution_count": 79,
   "metadata": {},
   "outputs": [],
   "source": [
    "import matplotlib.pyplot as plt\n",
    "import seaborn as sns"
   ]
  },
  {
   "cell_type": "code",
   "execution_count": 80,
   "metadata": {},
   "outputs": [],
   "source": [
    "#sns.set_theme(style=\"whitegrid\")"
   ]
  },
  {
   "cell_type": "code",
   "execution_count": 81,
   "metadata": {},
   "outputs": [
    {
     "data": {
      "image/png": "[encoded data removed]",
      "text/plain": [
       "<Figure size 1584x1296 with 2 Axes>"
      ]
     },
     "metadata": {
      "needs_background": "light"
     },
     "output_type": "display_data"
    }
   ],
   "source": [
    "# Set up the matplotlib figure\n",
    "f, ax = plt.subplots(figsize=(22, 18))\n",
    "\n",
    "# Generate a custom diverging colormap\n",
    "cmap = sns.diverging_palette(230, 20, as_cmap=True)\n",
    "cmap=\"coolwarm\"\n",
    "cmap=\"cool\"\n",
    "cmap=\"gray_r\"\n",
    "\n",
    "\n",
    "#g = sns.heatmap(semantic_distance_matrix, cmap=cmap, vmax=.3, center=0,\n",
    "#            square=True, linewidths=.5, cbar_kws={\"shrink\": .5})\n",
    "g = sns.heatmap(semantic_distance_matrix, \n",
    "                cmap=cmap, \n",
    "                square=True, \n",
    "                linewidths=.5, \n",
    "                cbar_kws={\"shrink\": .5}\n",
    "               )"
   ]
  },
  {
   "cell_type": "code",
   "execution_count": 82,
   "metadata": {},
   "outputs": [],
   "source": [
    "condensed_semantic_distance_vector = []\n",
    "for i in range(1, semantic_distance_matrix.shape[0]):\n",
    "    for j in range(i+1, semantic_distance_matrix.shape[0]):\n",
    "        condensed_semantic_distance_vector.append(semantic_distance_matrix[i,j])"
   ]
  },
  {
   "cell_type": "code",
   "execution_count": 83,
   "metadata": {},
   "outputs": [
    {
     "data": {
      "text/plain": [
       "array([  0.        , 149.145806  , 145.68507083, 134.97822171,\n",
       "       148.44706014, 149.53598003, 140.02252519, 148.74880956,\n",
       "       147.89923349, 147.64050255, 149.3292692 , 148.18946836,\n",
       "       145.89948686, 149.40708872, 147.83003396, 111.25252038,\n",
       "       149.48488322, 149.53598003, 144.14104114, 148.49735187,\n",
       "       142.44414081, 149.53598003, 148.64082976, 147.48406448,\n",
       "       149.31233899, 143.91549475, 141.9025085 , 145.83371839,\n",
       "       146.82027165, 148.74993531, 134.86236662, 148.77611311,\n",
       "       146.2463608 , 149.02532439, 149.30715859, 137.22339213,\n",
       "       146.3529309 , 135.63761915, 143.5030248 , 108.91698982,\n",
       "       149.24676167, 142.23563661, 149.53598003, 132.35591884,\n",
       "       146.83634277, 149.39277749, 147.73729658, 149.53598003,\n",
       "       148.7829961 , 149.27268445, 140.8270726 , 149.53598003,\n",
       "       149.41275336, 139.31832079, 149.53598003, 149.41142226,\n",
       "       138.29644614, 148.79334855, 145.55897197, 142.42547153,\n",
       "       132.31022481, 144.63845763, 139.55872355, 138.44127223,\n",
       "       149.53598003, 148.82644627, 140.30066314, 149.29356335,\n",
       "       138.87646231, 131.062515  , 149.53598003, 148.9668666 ,\n",
       "       148.9807824 , 144.52524183, 127.55673069, 130.79785128,\n",
       "       149.28387973, 149.53598003, 141.13936506, 149.53598003,\n",
       "       130.04206851, 148.38278473, 148.42065133, 147.88727418,\n",
       "       149.11332059, 128.78250802, 146.58615841, 149.30801488,\n",
       "       149.16701442, 149.38589975, 149.53598003, 148.33834724,\n",
       "       145.70340898, 149.53598003, 143.9984398 ])"
      ]
     },
     "execution_count": 83,
     "metadata": {},
     "output_type": "execute_result"
    }
   ],
   "source": [
    "semantic_distance_matrix[0,:]"
   ]
  },
  {
   "cell_type": "code",
   "execution_count": 85,
   "metadata": {},
   "outputs": [],
   "source": [
    "#semantic_distance_matrix[1,:]"
   ]
  },
  {
   "cell_type": "code",
   "execution_count": 86,
   "metadata": {},
   "outputs": [],
   "source": [
    "#max(condensed_semantic_distance_vector)"
   ]
  },
  {
   "cell_type": "code",
   "execution_count": null,
   "metadata": {},
   "outputs": [],
   "source": []
  },
  {
   "cell_type": "markdown",
   "metadata": {},
   "source": [
    "**Hierarchical clustering**"
   ]
  },
  {
   "cell_type": "code",
   "execution_count": 87,
   "metadata": {},
   "outputs": [
    {
     "data": {
      "image/png": "[encoded data removed]",
      "text/plain": [
       "<Figure size 1440x1008 with 1 Axes>"
      ]
     },
     "metadata": {
      "needs_background": "light"
     },
     "output_type": "display_data"
    }
   ],
   "source": [
    "from scipy.cluster.hierarchy import dendrogram, linkage\n",
    "from matplotlib import pyplot as plt\n",
    "\n",
    "linked = linkage(condensed_semantic_distance_vector, 'single', optimal_ordering=False)\n",
    "\n",
    "#labelList = range(1, 11)\n",
    "\n",
    "plt.figure(figsize=(20, 14))\n",
    "dendrogram(linked,\n",
    "            orientation='top',\n",
    "#            labels=labelList,\n",
    "            distance_sort='descending',\n",
    "            show_leaf_counts=True)\n",
    "plt.show()"
   ]
  },
  {
   "cell_type": "code",
   "execution_count": 27,
   "metadata": {},
   "outputs": [],
   "source": [
    "?linkage"
   ]
  },
  {
   "cell_type": "code",
   "execution_count": null,
   "metadata": {},
   "outputs": [],
   "source": []
  },
  {
   "cell_type": "code",
   "execution_count": null,
   "metadata": {},
   "outputs": [],
   "source": []
  },
  {
   "cell_type": "code",
   "execution_count": null,
   "metadata": {},
   "outputs": [],
   "source": []
  },
  {
   "cell_type": "code",
   "execution_count": null,
   "metadata": {},
   "outputs": [],
   "source": []
  },
  {
   "cell_type": "code",
   "execution_count": null,
   "metadata": {},
   "outputs": [],
   "source": []
  },
  {
   "cell_type": "code",
   "execution_count": null,
   "metadata": {},
   "outputs": [],
   "source": []
  },
  {
   "cell_type": "code",
   "execution_count": null,
   "metadata": {},
   "outputs": [],
   "source": []
  },
  {
   "cell_type": "code",
   "execution_count": null,
   "metadata": {},
   "outputs": [],
   "source": []
  },
  {
   "cell_type": "code",
   "execution_count": null,
   "metadata": {},
   "outputs": [],
   "source": []
  },
  {
   "cell_type": "code",
   "execution_count": null,
   "metadata": {},
   "outputs": [],
   "source": []
  }
 ],
 "metadata": {
  "kernelspec": {
   "display_name": "Python 3",
   "language": "python",
   "name": "python3"
  },
  "language_info": {
   "codemirror_mode": {
    "name": "ipython",
    "version": 3
   },
   "file_extension": ".py",
   "mimetype": "text/x-python",
   "name": "python",
   "nbconvert_exporter": "python",
   "pygments_lexer": "ipython3",
   "version": "3.6.9"
  }
 },
 "nbformat": 4,
 "nbformat_minor": 4
}
