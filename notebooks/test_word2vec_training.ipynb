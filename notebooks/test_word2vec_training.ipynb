{
 "cells": [
  {
   "cell_type": "markdown",
   "metadata": {},
   "source": [
    "# Test Word2vec training"
   ]
  },
  {
   "cell_type": "code",
   "execution_count": 1,
   "metadata": {},
   "outputs": [],
   "source": [
    "from gensim.models import Word2Vec\n",
    "import os\n",
    "import shutil"
   ]
  },
  {
   "cell_type": "markdown",
   "metadata": {},
   "source": [
    "## Balzac"
   ]
  },
  {
   "cell_type": "code",
   "execution_count": 2,
   "metadata": {},
   "outputs": [],
   "source": [
    "NORMALIZED_TEXT_PATH = \"../normalized_data/french_novel/normalized_balzac.txt\"\n",
    "\n",
    "W2V_MODEL_DESTINATION = \"../models/french_novels/balzac/balzac_w2v_cbow_w10_ep20_mincount5.model\"\n",
    "W2V_MODEL_DESTINATION_DIR = \"../models/french_novels/balzac/\""
   ]
  },
  {
   "cell_type": "code",
   "execution_count": 3,
   "metadata": {},
   "outputs": [
    {
     "name": "stdout",
     "output_type": "stream",
     "text": [
      "  218073  4406900 25110024 ../normalized_data/french_novel/normalized_balzac.txt\r\n"
     ]
    }
   ],
   "source": [
    "!wc $NORMALIZED_TEXT_PATH"
   ]
  },
  {
   "cell_type": "code",
   "execution_count": 4,
   "metadata": {},
   "outputs": [
    {
     "data": {
      "text/plain": [
       "(65218331, 88060080)"
      ]
     },
     "execution_count": 4,
     "metadata": {},
     "output_type": "execute_result"
    }
   ],
   "source": [
    "SG = 0  # CBOW\n",
    "NUM_EPOCHS = 20\n",
    "WINDOW = 10\n",
    "MIN_COUNT = 5\n",
    "WORKERS = 4\n",
    "WORD_COUNT = 4406900\n",
    "\n",
    "model = Word2Vec(corpus_file=NORMALIZED_TEXT_PATH, sg=SG, window=WINDOW, min_count=MIN_COUNT, workers=WORKERS)\n",
    "model.train(corpus_file=NORMALIZED_TEXT_PATH, \n",
    "           epochs=NUM_EPOCHS, total_examples=model.corpus_count, total_words=WORD_COUNT)"
   ]
  },
  {
   "cell_type": "code",
   "execution_count": 5,
   "metadata": {},
   "outputs": [
    {
     "data": {
      "text/plain": [
       "<gensim.models.keyedvectors.Word2VecKeyedVectors at 0x7fab8eea16d8>"
      ]
     },
     "execution_count": 5,
     "metadata": {},
     "output_type": "execute_result"
    }
   ],
   "source": [
    "model.wv"
   ]
  },
  {
   "cell_type": "markdown",
   "metadata": {},
   "source": [
    "**Save the model**"
   ]
  },
  {
   "cell_type": "code",
   "execution_count": 6,
   "metadata": {},
   "outputs": [],
   "source": [
    "model_dir_name = \"balzac_w2v_{}_w{}_mincount{}_ep\".format(\"cbow\" if SG == 1 else \"sg\", WINDOW, MIN_COUNT, NUM_EPOCHS)\n",
    "model_destination_dir = os.path.join(W2V_MODEL_DESTINATION_DIR, model_dir_name)\n",
    "model_destination = os.path.join(model_destination_dir, model_dir_name + \".model\")\n",
    "shutil.os.makedirs(model_destination_dir, exist_ok=True)\n",
    "\n",
    "model.wv.save(model_destination)"
   ]
  },
  {
   "cell_type": "markdown",
   "metadata": {},
   "source": [
    "**Export vectors for visualization**"
   ]
  },
  {
   "cell_type": "code",
   "execution_count": 7,
   "metadata": {},
   "outputs": [],
   "source": [
    "# Write to TSV\n",
    "with open(os.path.join(model_destination_dir, model_dir_name + \".tsv\"), \"w\") as f: \n",
    "    for w,v in model.wv.vocab.items():\n",
    "        f.write(\"\\t\".join([str(v) for v in model.wv[w]]))\n",
    "        f.write(\"\\n\")\n",
    "with open(os.path.join(model_destination_dir, model_dir_name + \"_metadata\" + \".tsv\"), \"w\") as f:\n",
    "    f.write(\"label\\tcount\\n\")\n",
    "    for w,v in model.wv.vocab.items():\n",
    "        f.write(\"\\t\".join([w, str(v.count)]))\n",
    "        f.write(\"\\n\")"
   ]
  },
  {
   "cell_type": "code",
   "execution_count": null,
   "metadata": {},
   "outputs": [],
   "source": []
  },
  {
   "cell_type": "markdown",
   "metadata": {},
   "source": [
    "## Zola"
   ]
  },
  {
   "cell_type": "code",
   "execution_count": 2,
   "metadata": {},
   "outputs": [],
   "source": [
    "NORMALIZED_TEXT_PATH = \"../normalized_data/french_novel/normalized_zola.txt\"\n",
    "\n",
    "W2V_MODEL_DESTINATION = \"../models/french_novels/zola/zola_w2v_cbow_w10_ep20_mincount5.model\"\n",
    "W2V_MODEL_DESTINATION_DIR = \"../models/french_novels/zola/\""
   ]
  },
  {
   "cell_type": "code",
   "execution_count": 3,
   "metadata": {},
   "outputs": [
    {
     "name": "stdout",
     "output_type": "stream",
     "text": [
      "  257939  4634495 27084870 ../normalized_data/french_novel/normalized_zola.txt\r\n"
     ]
    }
   ],
   "source": [
    "!wc $NORMALIZED_TEXT_PATH"
   ]
  },
  {
   "cell_type": "code",
   "execution_count": 4,
   "metadata": {},
   "outputs": [
    {
     "data": {
      "text/plain": [
       "(70298408, 92942080)"
      ]
     },
     "execution_count": 4,
     "metadata": {},
     "output_type": "execute_result"
    }
   ],
   "source": [
    "SG = 0  # CBOW\n",
    "NUM_EPOCHS = 20\n",
    "WINDOW = 10\n",
    "MIN_COUNT = 5\n",
    "WORKERS = 4\n",
    "WORD_COUNT = 4634495\n",
    "\n",
    "model = Word2Vec(corpus_file=NORMALIZED_TEXT_PATH, sg=SG, window=WINDOW, min_count=MIN_COUNT, workers=WORKERS)\n",
    "model.train(corpus_file=NORMALIZED_TEXT_PATH, \n",
    "           epochs=NUM_EPOCHS, total_examples=model.corpus_count, total_words=WORD_COUNT)"
   ]
  },
  {
   "cell_type": "code",
   "execution_count": 5,
   "metadata": {},
   "outputs": [
    {
     "data": {
      "text/plain": [
       "<gensim.models.keyedvectors.Word2VecKeyedVectors at 0x7fd1c6460748>"
      ]
     },
     "execution_count": 5,
     "metadata": {},
     "output_type": "execute_result"
    }
   ],
   "source": [
    "model.wv"
   ]
  },
  {
   "cell_type": "markdown",
   "metadata": {},
   "source": [
    "**Save the model**"
   ]
  },
  {
   "cell_type": "code",
   "execution_count": 8,
   "metadata": {},
   "outputs": [],
   "source": [
    "model_dir_name = \"zola_w2v_{}_w{}_mincount{}_ep\".format(\"cbow\" if SG == 1 else \"sg\", WINDOW, MIN_COUNT, NUM_EPOCHS)\n",
    "model_destination_dir = os.path.join(W2V_MODEL_DESTINATION_DIR, model_dir_name)\n",
    "model_destination = os.path.join(model_destination_dir, model_dir_name + \".model\")\n",
    "shutil.os.makedirs(model_destination_dir, exist_ok=True)\n",
    "\n",
    "model.wv.save(model_destination)"
   ]
  },
  {
   "cell_type": "markdown",
   "metadata": {},
   "source": [
    "**Export vectors for visualization**"
   ]
  },
  {
   "cell_type": "code",
   "execution_count": 9,
   "metadata": {},
   "outputs": [],
   "source": [
    "# Write to TSV\n",
    "with open(os.path.join(model_destination_dir, model_dir_name + \".tsv\"), \"w\") as f: \n",
    "    for w,v in model.wv.vocab.items():\n",
    "        f.write(\"\\t\".join([str(v) for v in model.wv[w]]))\n",
    "        f.write(\"\\n\")\n",
    "with open(os.path.join(model_destination_dir, model_dir_name + \"_metadata\" + \".tsv\"), \"w\") as f:\n",
    "    f.write(\"label\\tcount\\n\")\n",
    "    for w,v in model.wv.vocab.items():\n",
    "        f.write(\"\\t\".join([w, str(v.count)]))\n",
    "        f.write(\"\\n\")"
   ]
  },
  {
   "cell_type": "code",
   "execution_count": null,
   "metadata": {},
   "outputs": [],
   "source": []
  }
 ],
 "metadata": {
  "kernelspec": {
   "display_name": "Python 3",
   "language": "python",
   "name": "python3"
  },
  "language_info": {
   "codemirror_mode": {
    "name": "ipython",
    "version": 3
   },
   "file_extension": ".py",
   "mimetype": "text/x-python",
   "name": "python",
   "nbconvert_exporter": "python",
   "pygments_lexer": "ipython3",
   "version": "3.6.9"
  }
 },
 "nbformat": 4,
 "nbformat_minor": 4
}
