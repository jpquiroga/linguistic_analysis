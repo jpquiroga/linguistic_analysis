{
 "cells": [
  {
   "cell_type": "markdown",
   "metadata": {},
   "source": [
    "# Compare semantic graphs from N different models"
   ]
  },
  {
   "cell_type": "code",
   "execution_count": 1,
   "metadata": {},
   "outputs": [],
   "source": [
    "import sys\n",
    "PATHS_TO_ADD = [\n",
    "    \"../src\"\n",
    "]\n",
    "for p in PATHS_TO_ADD:\n",
    "    if p not in sys.path:\n",
    "        sys.path.append(p)"
   ]
  },
  {
   "cell_type": "code",
   "execution_count": 2,
   "metadata": {},
   "outputs": [],
   "source": [
    "from linguistic_analysis.semantics.similarity import SemGraph\n",
    "\n",
    "import os\n",
    "from gensim.models import Word2Vec\n",
    "from gensim.models import KeyedVectors\n",
    "from tqdm import tqdm"
   ]
  },
  {
   "cell_type": "markdown",
   "metadata": {},
   "source": [
    "Embedding models"
   ]
  },
  {
   "cell_type": "code",
   "execution_count": 3,
   "metadata": {},
   "outputs": [
    {
     "name": "stdout",
     "output_type": "stream",
     "text": [
      "Loading ../models/french_novels/balzac/separate/with_accents_lemmatized/Pierre Grassou - Honore de Balzac/model_w2v_sg_w10_mincount5_ep/model_w2v_sg_w10_mincount5_ep.model...\n",
      "Loading ../models/french_novels/balzac/separate/with_accents_lemmatized/Gobseck - Honore de Balzac/model_w2v_sg_w10_mincount5_ep/model_w2v_sg_w10_mincount5_ep.model...\n",
      "Loading ../models/french_novels/balzac/separate/with_accents_lemmatized/Le Contrat de mariage - Honore de Balzac/model_w2v_sg_w10_mincount5_ep/model_w2v_sg_w10_mincount5_ep.model...\n",
      "Loading ../models/french_novels/balzac/separate/with_accents_lemmatized/Une double famille - Honore de Balzac/model_w2v_sg_w10_mincount5_ep/model_w2v_sg_w10_mincount5_ep.model...\n",
      "Loading ../models/french_novels/balzac/separate/with_accents_lemmatized/Le Message - Honore de Balzac/model_w2v_sg_w10_mincount5_ep/model_w2v_sg_w10_mincount5_ep.model...\n",
      "Loading ../models/french_novels/balzac/separate/with_accents_lemmatized/La Muse du departement - Honore de Balzac/model_w2v_sg_w10_mincount5_ep/model_w2v_sg_w10_mincount5_ep.model...\n",
      "Loading ../models/french_novels/balzac/separate/with_accents_lemmatized/Les Marana - Honore de Balzac/model_w2v_sg_w10_mincount5_ep/model_w2v_sg_w10_mincount5_ep.model...\n",
      "Loading ../models/french_novels/balzac/separate/with_accents_lemmatized/Albert Savarus - Honore de Balzac/model_w2v_sg_w10_mincount5_ep/model_w2v_sg_w10_mincount5_ep.model...\n",
      "Loading ../models/french_novels/balzac/separate/with_accents_lemmatized/La derniere incarnation de Vautrin - Honore de Balzac/model_w2v_sg_w10_mincount5_ep/model_w2v_sg_w10_mincount5_ep.model...\n",
      "Loading ../models/french_novels/balzac/separate/with_accents_lemmatized/Autre etude de femme - Honore de Balzac/model_w2v_sg_w10_mincount5_ep/model_w2v_sg_w10_mincount5_ep.model...\n",
      "Loading ../models/french_novels/balzac/separate/with_accents_lemmatized/Esquisse d'homme d'affaires d'apres nature - Honore de Balzac/model_w2v_sg_w10_mincount5_ep/model_w2v_sg_w10_mincount5_ep.model...\n",
      "Loading ../models/french_novels/balzac/separate/with_accents_lemmatized/La Vieille Fille - Honore de Balzac/model_w2v_sg_w10_mincount5_ep/model_w2v_sg_w10_mincount5_ep.model...\n",
      "Loading ../models/french_novels/balzac/separate/with_accents_lemmatized/Un drame au bord de la mer - Honore de Balzac/model_w2v_sg_w10_mincount5_ep/model_w2v_sg_w10_mincount5_ep.model...\n",
      "Loading ../models/french_novels/balzac/separate/with_accents_lemmatized/Le Colonel Chabert - Honore de Balzac/model_w2v_sg_w10_mincount5_ep/model_w2v_sg_w10_mincount5_ep.model...\n",
      "Loading ../models/french_novels/balzac/separate/with_accents_lemmatized/Illusions perdues - Honore de Balzac/model_w2v_sg_w10_mincount5_ep/model_w2v_sg_w10_mincount5_ep.model...\n",
      "Loading ../models/french_novels/balzac/separate/with_accents_lemmatized/La grande Breteche - Honore de Balzac/model_w2v_sg_w10_mincount5_ep/model_w2v_sg_w10_mincount5_ep.model...\n",
      "Loading ../models/french_novels/balzac/separate/with_accents_lemmatized/Etude de femme - Honore de Balzac/model_w2v_sg_w10_mincount5_ep/model_w2v_sg_w10_mincount5_ep.model...\n",
      "Loading ../models/french_novels/balzac/separate/with_accents_lemmatized/Pierrette - Honore de Balzac/model_w2v_sg_w10_mincount5_ep/model_w2v_sg_w10_mincount5_ep.model...\n",
      "Loading ../models/french_novels/balzac/separate/with_accents_lemmatized/Ferragus - Honore de Balzac/model_w2v_sg_w10_mincount5_ep/model_w2v_sg_w10_mincount5_ep.model...\n",
      "Loading ../models/french_novels/balzac/separate/with_accents_lemmatized/Beatrix - Honore de Balzac/model_w2v_sg_w10_mincount5_ep/model_w2v_sg_w10_mincount5_ep.model...\n",
      "Loading ../models/french_novels/balzac/separate/with_accents_lemmatized/Jesus-Christ en Flandre - Honore de Balzac/model_w2v_sg_w10_mincount5_ep/model_w2v_sg_w10_mincount5_ep.model...\n",
      "Loading ../models/french_novels/balzac/separate/with_accents_lemmatized/La Duchesse de Langeais - Honore de Balzac/model_w2v_sg_w10_mincount5_ep/model_w2v_sg_w10_mincount5_ep.model...\n",
      "Loading ../models/french_novels/balzac/separate/with_accents_lemmatized/Ou menent les mauvais chemins - Honore de Balzac/model_w2v_sg_w10_mincount5_ep/model_w2v_sg_w10_mincount5_ep.model...\n",
      "Loading ../models/french_novels/balzac/separate/with_accents_lemmatized/La Femme abandonnee - Honore de Balzac/model_w2v_sg_w10_mincount5_ep/model_w2v_sg_w10_mincount5_ep.model...\n",
      "Loading ../models/french_novels/balzac/separate/with_accents_lemmatized/Sur Catherine de Medicis - Honore de Balzac/model_w2v_sg_w10_mincount5_ep/model_w2v_sg_w10_mincount5_ep.model...\n",
      "Loading ../models/french_novels/balzac/separate/with_accents_lemmatized/La Recherche de l'Absolu - Honore de Balzac/model_w2v_sg_w10_mincount5_ep/model_w2v_sg_w10_mincount5_ep.model...\n",
      "Loading ../models/french_novels/balzac/separate/with_accents_lemmatized/Une fille d'Eve - Honore de Balzac/model_w2v_sg_w10_mincount5_ep/model_w2v_sg_w10_mincount5_ep.model...\n",
      "Loading ../models/french_novels/balzac/separate/with_accents_lemmatized/Le Lys dans la vallee - Honore de Balzac/model_w2v_sg_w10_mincount5_ep/model_w2v_sg_w10_mincount5_ep.model...\n",
      "Loading ../models/french_novels/balzac/separate/with_accents_lemmatized/Louis Lambert - Honore de Balzac/model_w2v_sg_w10_mincount5_ep/model_w2v_sg_w10_mincount5_ep.model...\n",
      "Loading ../models/french_novels/balzac/separate/with_accents_lemmatized/Eugenie Grandet - Honore de Balzac/model_w2v_sg_w10_mincount5_ep/model_w2v_sg_w10_mincount5_ep.model...\n",
      "Loading ../models/french_novels/balzac/separate/with_accents_lemmatized/Le Bal de Sceaux - Honore de Balzac/model_w2v_sg_w10_mincount5_ep/model_w2v_sg_w10_mincount5_ep.model...\n",
      "Loading ../models/french_novels/balzac/separate/with_accents_lemmatized/Petites miseres de la vie conjugale - Honore de Balzac/model_w2v_sg_w10_mincount5_ep/model_w2v_sg_w10_mincount5_ep.model...\n",
      "Loading ../models/french_novels/balzac/separate/with_accents_lemmatized/L'auberge rouge - Honore de Balzac/model_w2v_sg_w10_mincount5_ep/model_w2v_sg_w10_mincount5_ep.model...\n",
      "Loading ../models/french_novels/balzac/separate/with_accents_lemmatized/Seraphita - Honore de Balzac/model_w2v_sg_w10_mincount5_ep/model_w2v_sg_w10_mincount5_ep.model...\n",
      "Loading ../models/french_novels/balzac/separate/with_accents_lemmatized/Un menage de garcon - Honore de Balzac/model_w2v_sg_w10_mincount5_ep/model_w2v_sg_w10_mincount5_ep.model...\n",
      "Loading ../models/french_novels/balzac/separate/with_accents_lemmatized/Les Chouans - Honore de Balzac/model_w2v_sg_w10_mincount5_ep/model_w2v_sg_w10_mincount5_ep.model...\n",
      "Loading ../models/french_novels/balzac/separate/with_accents_lemmatized/Un grand homme de province a Paris - Honore de Balzac/model_w2v_sg_w10_mincount5_ep/model_w2v_sg_w10_mincount5_ep.model...\n",
      "Loading ../models/french_novels/balzac/separate/with_accents_lemmatized/La Maison Nucingen - Honore de Balzac/model_w2v_sg_w10_mincount5_ep/model_w2v_sg_w10_mincount5_ep.model...\n",
      "Loading ../models/french_novels/balzac/separate/with_accents_lemmatized/Histoire de la grandeur et de la decadence - Honore de Balzac/model_w2v_sg_w10_mincount5_ep/model_w2v_sg_w10_mincount5_ep.model...\n",
      "Loading ../models/french_novels/balzac/separate/with_accents_lemmatized/Un prince de la Boheme - Honore de Balzac/model_w2v_sg_w10_mincount5_ep/model_w2v_sg_w10_mincount5_ep.model...\n",
      "Loading ../models/french_novels/balzac/separate/with_accents_lemmatized/Un debut dans la vie - Honore de Balzac/model_w2v_sg_w10_mincount5_ep/model_w2v_sg_w10_mincount5_ep.model...\n",
      "Loading ../models/french_novels/balzac/separate/with_accents_lemmatized/Sarrasine - Honore de Balzac/model_w2v_sg_w10_mincount5_ep/model_w2v_sg_w10_mincount5_ep.model...\n",
      "Loading ../models/french_novels/balzac/separate/with_accents_lemmatized/Les Paysans - Honore de Balzac/model_w2v_sg_w10_mincount5_ep/model_w2v_sg_w10_mincount5_ep.model...\n",
      "Loading ../models/french_novels/balzac/separate/with_accents_lemmatized/Melmoth reconcilie - Honore de Balzac/model_w2v_sg_w10_mincount5_ep/model_w2v_sg_w10_mincount5_ep.model...\n",
      "Loading ../models/french_novels/balzac/separate/with_accents_lemmatized/Les secrets de la princesse de Cadignan - Honore de Balzac/model_w2v_sg_w10_mincount5_ep/model_w2v_sg_w10_mincount5_ep.model...\n",
      "Loading ../models/french_novels/balzac/separate/with_accents_lemmatized/L'interdiction - Honore de Balzac/model_w2v_sg_w10_mincount5_ep/model_w2v_sg_w10_mincount5_ep.model...\n",
      "Loading ../models/french_novels/balzac/separate/with_accents_lemmatized/El Verdugo - Honore de Balzac/model_w2v_sg_w10_mincount5_ep/model_w2v_sg_w10_mincount5_ep.model...\n",
      "Loading ../models/french_novels/balzac/separate/with_accents_lemmatized/Maitre Cornelius - Honore de Balzac/model_w2v_sg_w10_mincount5_ep/model_w2v_sg_w10_mincount5_ep.model...\n",
      "Loading ../models/french_novels/balzac/separate/with_accents_lemmatized/La Messe de l'athee - Honore de Balzac/model_w2v_sg_w10_mincount5_ep/model_w2v_sg_w10_mincount5_ep.model...\n",
      "Loading ../models/french_novels/balzac/separate/with_accents_lemmatized/Le Cabinet des Antiques - Honore de Balzac/model_w2v_sg_w10_mincount5_ep/model_w2v_sg_w10_mincount5_ep.model...\n",
      "Loading ../models/french_novels/balzac/separate/with_accents_lemmatized/Avant-propos - Honore de Balzac/model_w2v_sg_w10_mincount5_ep/model_w2v_sg_w10_mincount5_ep.model...\n",
      "Loading ../models/french_novels/balzac/separate/with_accents_lemmatized/La Paix du menage - Honore de Balzac/model_w2v_sg_w10_mincount5_ep/model_w2v_sg_w10_mincount5_ep.model...\n",
      "Loading ../models/french_novels/balzac/separate/with_accents_lemmatized/L'envers de l'histoire contemporaine - Honore de Balzac/model_w2v_sg_w10_mincount5_ep/model_w2v_sg_w10_mincount5_ep.model...\n",
      "Loading ../models/french_novels/balzac/separate/with_accents_lemmatized/La Grenadiere - Honore de Balzac/model_w2v_sg_w10_mincount5_ep/model_w2v_sg_w10_mincount5_ep.model...\n",
      "Loading ../models/french_novels/balzac/separate/with_accents_lemmatized/Gambara - Honore de Balzac/model_w2v_sg_w10_mincount5_ep/model_w2v_sg_w10_mincount5_ep.model...\n",
      "Loading ../models/french_novels/balzac/separate/with_accents_lemmatized/Le Cure de village - Honore de Balzac/model_w2v_sg_w10_mincount5_ep/model_w2v_sg_w10_mincount5_ep.model...\n",
      "Loading ../models/french_novels/balzac/separate/with_accents_lemmatized/Le Cure de Tours - Honore de Balzac/model_w2v_sg_w10_mincount5_ep/model_w2v_sg_w10_mincount5_ep.model...\n",
      "Loading ../models/french_novels/balzac/separate/with_accents_lemmatized/Les deux poetes - Honore de Balzac/model_w2v_sg_w10_mincount5_ep/model_w2v_sg_w10_mincount5_ep.model...\n",
      "Loading ../models/french_novels/balzac/separate/with_accents_lemmatized/La Peau de chagrin - Honore de Balzac/model_w2v_sg_w10_mincount5_ep/model_w2v_sg_w10_mincount5_ep.model...\n",
      "Loading ../models/french_novels/balzac/separate/with_accents_lemmatized/Les paysans - Honore de Balzac/model_w2v_sg_w10_mincount5_ep/model_w2v_sg_w10_mincount5_ep.model...\n",
      "Loading ../models/french_novels/balzac/separate/with_accents_lemmatized/Une tenebreuse affaire - Honore de Balzac/model_w2v_sg_w10_mincount5_ep/model_w2v_sg_w10_mincount5_ep.model...\n",
      "Loading ../models/french_novels/balzac/separate/with_accents_lemmatized/Modeste Mignon - Honore de Balzac/model_w2v_sg_w10_mincount5_ep/model_w2v_sg_w10_mincount5_ep.model...\n",
      "Loading ../models/french_novels/balzac/separate/with_accents_lemmatized/Ursule Mirouet - Honore de Balzac/model_w2v_sg_w10_mincount5_ep/model_w2v_sg_w10_mincount5_ep.model...\n",
      "Loading ../models/french_novels/balzac/separate/with_accents_lemmatized/Un episode sous la terreur - Honore de Balzac/model_w2v_sg_w10_mincount5_ep/model_w2v_sg_w10_mincount5_ep.model...\n",
      "Loading ../models/french_novels/balzac/separate/with_accents_lemmatized/Honorine - Honore de Balzac/model_w2v_sg_w10_mincount5_ep/model_w2v_sg_w10_mincount5_ep.model...\n",
      "Loading ../models/french_novels/balzac/separate/with_accents_lemmatized/Le pere Goriot - Honore de Balzac/model_w2v_sg_w10_mincount5_ep/model_w2v_sg_w10_mincount5_ep.model...\n"
     ]
    },
    {
     "name": "stdout",
     "output_type": "stream",
     "text": [
      "Loading ../models/french_novels/balzac/separate/with_accents_lemmatized/Facino Cane - Honore de Balzac/model_w2v_sg_w10_mincount5_ep/model_w2v_sg_w10_mincount5_ep.model...\n",
      "Loading ../models/french_novels/balzac/separate/with_accents_lemmatized/Physiologie du mariage - Honore de Balzac/model_w2v_sg_w10_mincount5_ep/model_w2v_sg_w10_mincount5_ep.model...\n",
      "Loading ../models/french_novels/balzac/separate/with_accents_lemmatized/Les employes ou la femme superieure - Honore de Balzac/model_w2v_sg_w10_mincount5_ep/model_w2v_sg_w10_mincount5_ep.model...\n",
      "Loading ../models/french_novels/balzac/separate/with_accents_lemmatized/Les proscrits - Honore de Balzac/model_w2v_sg_w10_mincount5_ep/model_w2v_sg_w10_mincount5_ep.model...\n",
      "Loading ../models/french_novels/balzac/separate/with_accents_lemmatized/La Fausse Maitresse - Honore de Balzac/model_w2v_sg_w10_mincount5_ep/model_w2v_sg_w10_mincount5_ep.model...\n",
      "Loading ../models/french_novels/balzac/separate/with_accents_lemmatized/Massimilla Doni - Honore de Balzac/model_w2v_sg_w10_mincount5_ep/model_w2v_sg_w10_mincount5_ep.model...\n",
      "Loading ../models/french_novels/balzac/separate/with_accents_lemmatized/Le Medecin de campagne - Honore de Balzac/model_w2v_sg_w10_mincount5_ep/model_w2v_sg_w10_mincount5_ep.model...\n",
      "Loading ../models/french_novels/balzac/separate/with_accents_lemmatized/CODE DES GENS HONNETES (ou L'art de ne pas - Honore de Balzac/model_w2v_sg_w10_mincount5_ep/model_w2v_sg_w10_mincount5_ep.model...\n",
      "Loading ../models/french_novels/balzac/separate/with_accents_lemmatized/Le cousin Pons - Honore de Balzac/model_w2v_sg_w10_mincount5_ep/model_w2v_sg_w10_mincount5_ep.model...\n",
      "Loading ../models/french_novels/balzac/separate/with_accents_lemmatized/Madame Firmiani - Honore de Balzac/model_w2v_sg_w10_mincount5_ep/model_w2v_sg_w10_mincount5_ep.model...\n",
      "Loading ../models/french_novels/balzac/separate/with_accents_lemmatized/Le Requisitionnaire - Honore de Balzac/model_w2v_sg_w10_mincount5_ep/model_w2v_sg_w10_mincount5_ep.model...\n",
      "Loading ../models/french_novels/balzac/separate/with_accents_lemmatized/A combien l'amour revient aux vieillards - Honore de Balzac/model_w2v_sg_w10_mincount5_ep/model_w2v_sg_w10_mincount5_ep.model...\n",
      "Loading ../models/french_novels/balzac/separate/with_accents_lemmatized/Le Chef-d'oeuvre inconnu - Honore de Balzac/model_w2v_sg_w10_mincount5_ep/model_w2v_sg_w10_mincount5_ep.model...\n",
      "Loading ../models/french_novels/balzac/separate/with_accents_lemmatized/Eve et David - Honore de Balzac/model_w2v_sg_w10_mincount5_ep/model_w2v_sg_w10_mincount5_ep.model...\n",
      "Loading ../models/french_novels/balzac/separate/with_accents_lemmatized/La Femme de trente ans - Honore de Balzac/model_w2v_sg_w10_mincount5_ep/model_w2v_sg_w10_mincount5_ep.model...\n",
      "Loading ../models/french_novels/balzac/separate/with_accents_lemmatized/La Fille aux yeux d'or - Honore de Balzac/model_w2v_sg_w10_mincount5_ep/model_w2v_sg_w10_mincount5_ep.model...\n",
      "Loading ../models/french_novels/balzac/separate/with_accents_lemmatized/Les Comediens sans le savoir - Honore de Balzac/model_w2v_sg_w10_mincount5_ep/model_w2v_sg_w10_mincount5_ep.model...\n",
      "Loading ../models/french_novels/balzac/separate/with_accents_lemmatized/La Vendetta - Honore de Balzac/model_w2v_sg_w10_mincount5_ep/model_w2v_sg_w10_mincount5_ep.model...\n",
      "Loading ../models/french_novels/balzac/separate/with_accents_lemmatized/La Cousine Bette - Honore de Balzac/model_w2v_sg_w10_mincount5_ep/model_w2v_sg_w10_mincount5_ep.model...\n",
      "Loading ../models/french_novels/balzac/separate/with_accents_lemmatized/L'illustre Gaudissart - Honore de Balzac/model_w2v_sg_w10_mincount5_ep/model_w2v_sg_w10_mincount5_ep.model...\n",
      "Loading ../models/french_novels/balzac/separate/with_accents_lemmatized/Gaudissart II - Honore de Balzac/model_w2v_sg_w10_mincount5_ep/model_w2v_sg_w10_mincount5_ep.model...\n",
      "Loading ../models/french_novels/balzac/separate/with_accents_lemmatized/L'enfant maudit - Honore de Balzac/model_w2v_sg_w10_mincount5_ep/model_w2v_sg_w10_mincount5_ep.model...\n",
      "Loading ../models/french_novels/balzac/separate/with_accents_lemmatized/Z. Marcas - Honore de Balzac/model_w2v_sg_w10_mincount5_ep/model_w2v_sg_w10_mincount5_ep.model...\n",
      "Loading ../models/french_novels/balzac/separate/with_accents_lemmatized/Une passion dans le desert - Honore de Balzac/model_w2v_sg_w10_mincount5_ep/model_w2v_sg_w10_mincount5_ep.model...\n",
      "Loading ../models/french_novels/balzac/separate/with_accents_lemmatized/La maison du chat-qui-pelote - Honore de Balzac/model_w2v_sg_w10_mincount5_ep/model_w2v_sg_w10_mincount5_ep.model...\n",
      "Loading ../models/french_novels/balzac/separate/with_accents_lemmatized/Memoires de deux jeunes mariees - Honore de Balzac/model_w2v_sg_w10_mincount5_ep/model_w2v_sg_w10_mincount5_ep.model...\n",
      "Loading ../models/french_novels/balzac/separate/with_accents_lemmatized/L'Elixir de longue vie - Honore de Balzac/model_w2v_sg_w10_mincount5_ep/model_w2v_sg_w10_mincount5_ep.model...\n",
      "Loading ../models/french_novels/balzac/separate/with_accents_lemmatized/Esther heureuse - Honore de Balzac/model_w2v_sg_w10_mincount5_ep/model_w2v_sg_w10_mincount5_ep.model...\n"
     ]
    }
   ],
   "source": [
    "FULL_MODEL_PATH = \"../models/french_novels/balzac/joint/accents_lemmatized/balzac_w2v_sg_w10_mincount5_ep/balzac_w2v_sg_w10_mincount5_ep.model\"\n",
    "PARTIAL_MODELS_DIR = \"../models/french_novels/balzac/separate/with_accents_lemmatized\"\n",
    "\n",
    "full_model = KeyedVectors.load(FULL_MODEL_PATH)\n",
    "#model = KeyedVectors.load(MODEL_PATH)\n",
    "model_paths = []\n",
    "models = []\n",
    "\n",
    "for root, dirs, files in os.walk(PARTIAL_MODELS_DIR):\n",
    "    for f in files:\n",
    "        if f.endswith(\".model\"):\n",
    "            model_path = os.path.join(root, f)\n",
    "            print(\"Loading {}...\".format(model_path))\n",
    "            model_paths.append(model_path)\n",
    "            models.append(KeyedVectors.load(model_path))\n"
   ]
  },
  {
   "cell_type": "markdown",
   "metadata": {},
   "source": [
    "**Key words**\n",
    "\n",
    "1. Argent\n",
    "2. Payement = paiement\n",
    "3. Banque\n",
    "4. Banquier\n",
    "5. Crédit\n",
    "6. Créancier\n",
    "7. Capital\n",
    "8. Dépôt\n",
    "9. Prêt\n",
    "10. Remboursement\n",
    "11. Créance\n",
    "12. Prix\n",
    "13. Dette\n",
    "14. Bail\n",
    "15. Revenus (se pone únicamente en plural)\n",
    "16. Rente\n",
    "17. Francs (moneda; plural)\n",
    "18. Louis d’or (moneda, plural)\n",
    "19. Écus (moneda, plural)\n",
    "20. Budget"
   ]
  },
  {
   "cell_type": "code",
   "execution_count": 4,
   "metadata": {},
   "outputs": [],
   "source": [
    "base_words = [\n",
    "    \"argent\",\n",
    "    \"payement\", \n",
    "    \"paiement\",\n",
    "    \"banque\",\n",
    "    \"banquier\",\n",
    "    \"crédit\",\n",
    "    \"créancier\",\n",
    "    \"capital\",\n",
    "    \"dépôt\",\n",
    "    \"prêt\",\n",
    "    \"remboursement\",\n",
    "    \"créance\",\n",
    "    \"prix\",\n",
    "    \"dette\",\n",
    "    \"bail\",\n",
    "    \"revenu\",\n",
    "    \"rente\",\n",
    "    \"franc\",\n",
    "#    \"louis d’or\",\n",
    "    \"écus\",\n",
    "    \"budget\"\n",
    "]"
   ]
  },
  {
   "cell_type": "code",
   "execution_count": 5,
   "metadata": {},
   "outputs": [],
   "source": [
    "N_TOP_SIMILAR = 10\n",
    "SIMILARITY_THRESHOLD = 0.4"
   ]
  },
  {
   "cell_type": "code",
   "execution_count": 6,
   "metadata": {},
   "outputs": [],
   "source": [
    "full_sem_graph = SemGraph.build_from_gensim_embedding(full_model, base_words, \n",
    "                                                      n_top_similar=N_TOP_SIMILAR,\n",
    "                                                      similarity_threshold=SIMILARITY_THRESHOLD)\n"
   ]
  },
  {
   "cell_type": "markdown",
   "metadata": {},
   "source": [
    "**Calculate relative semantic distances with respect to the base semgraph (generated from an embedding trained on the whole texts)**"
   ]
  },
  {
   "cell_type": "code",
   "execution_count": 7,
   "metadata": {},
   "outputs": [
    {
     "name": "stderr",
     "output_type": "stream",
     "text": [
      "100%|██████████| 94/94 [00:10<00:00,  8.72it/s]\n"
     ]
    }
   ],
   "source": [
    "sem_graphs = []\n",
    "for m in tqdm(models):\n",
    "    sem_graphs.append(SemGraph.build_from_gensim_embedding(m, base_words,\n",
    "                                                 n_top_similar=N_TOP_SIMILAR,\n",
    "                                                 similarity_threshold=SIMILARITY_THRESHOLD))"
   ]
  },
  {
   "cell_type": "code",
   "execution_count": 8,
   "metadata": {},
   "outputs": [],
   "source": [
    "all_graphs = [full_sem_graph]\n",
    "for sg in sem_graphs:\n",
    "    all_graphs.append(sg)\n",
    "base_graph_names = SemGraph.get_union_of_graph_names(all_graphs)"
   ]
  },
  {
   "cell_type": "code",
   "execution_count": 9,
   "metadata": {},
   "outputs": [
    {
     "data": {
      "text/plain": [
       "1833"
      ]
     },
     "execution_count": 9,
     "metadata": {},
     "output_type": "execute_result"
    }
   ],
   "source": [
    "len(base_graph_names)"
   ]
  },
  {
   "cell_type": "code",
   "execution_count": 10,
   "metadata": {},
   "outputs": [
    {
     "name": "stderr",
     "output_type": "stream",
     "text": [
      "100%|██████████| 94/94 [00:41<00:00,  2.24it/s]\n"
     ]
    }
   ],
   "source": [
    "augmented_full_sem_graph = full_sem_graph.get_augmented_graph(base_graph_names)\n",
    "augmented_sem_graphs = [sg.get_augmented_graph(base_graph_names) for sg in tqdm(sem_graphs)]"
   ]
  },
  {
   "cell_type": "code",
   "execution_count": 11,
   "metadata": {},
   "outputs": [
    {
     "name": "stderr",
     "output_type": "stream",
     "text": [
      "100%|██████████| 94/94 [02:44<00:00,  1.75s/it]\n"
     ]
    }
   ],
   "source": [
    "NUM_ITERATIONS = 10\n",
    "DISCOUNT_FUNCTION = lambda index: 0.9\n",
    "NORMALIZE = True\n",
    "\n",
    "sem_distances = SemGraph.get_relative_semantic_distances(augmented_full_sem_graph, augmented_sem_graphs,\n",
    "                                                         reset=True,\n",
    "                                                         num_iterations=NUM_ITERATIONS,\n",
    "                                                         discount_function=DISCOUNT_FUNCTION,\n",
    "                                                         normalize=NORMALIZE)"
   ]
  },
  {
   "cell_type": "code",
   "execution_count": 13,
   "metadata": {
    "scrolled": true
   },
   "outputs": [
    {
     "data": {
      "text/plain": [
       "[178.15565197983221,\n",
       " 198.32978126641632,\n",
       " 225.9339974507185,\n",
       " 195.97721193450593,\n",
       " 155.53543725055158,\n",
       " 232.33392770750297,\n",
       " 179.42286654773716,\n",
       " 176.94266182596246,\n",
       " 204.15205348158491,\n",
       " 155.53543725055158,\n",
       " 170.1129818598861,\n",
       " 228.27284320588294,\n",
       " 167.39841331288807,\n",
       " 190.25761429934505,\n",
       " 267.79322177624294,\n",
       " 167.39134424803066,\n",
       " 155.53543725055158,\n",
       " 201.9526369627704,\n",
       " 202.74274984433347,\n",
       " 234.84570974872398,\n",
       " 155.53543725055158,\n",
       " 194.53511119691842,\n",
       " 191.56893428579627,\n",
       " 166.20833275910275,\n",
       " 217.7682170977569,\n",
       " 203.31878636270267,\n",
       " 231.54035536916507,\n",
       " 217.8576526956044,\n",
       " 167.40207489949546,\n",
       " 270.25773966566396,\n",
       " 201.45234331243546,\n",
       " 234.22841574982172,\n",
       " 178.21396677211837,\n",
       " 155.53543725055158,\n",
       " 223.020673995682,\n",
       " 214.9159933133422,\n",
       " 239.45742347323,\n",
       " 226.3128276460264,\n",
       " 263.8353560990076,\n",
       " 165.0153797505286,\n",
       " 226.10709464852252,\n",
       " 155.53543725055158,\n",
       " 256.8658368799035,\n",
       " 209.27774548485627,\n",
       " 166.21901573170146,\n",
       " 220.14895972683522,\n",
       " 155.53543725055158,\n",
       " 178.12615657492557,\n",
       " 180.6880302946424,\n",
       " 260.2230034639017,\n",
       " 155.53543725055158,\n",
       " 155.53543725055158,\n",
       " 262.7241621910268,\n",
       " 167.4192120534845,\n",
       " 167.39668282279186,\n",
       " 227.06765074114756,\n",
       " 167.39785660099128,\n",
       " 194.28138816011028,\n",
       " 253.3560208675544,\n",
       " 260.80456348323366,\n",
       " 215.98162641626152,\n",
       " 250.4726430909123,\n",
       " 202.6506575920399,\n",
       " 155.53543725055158,\n",
       " 184.83187315459062,\n",
       " 253.52191102643587,\n",
       " 167.4028874279422,\n",
       " 251.86009479083683,\n",
       " 272.99334642772595,\n",
       " 155.53543725055158,\n",
       " 178.1460467049983,\n",
       " 167.40193042427356,\n",
       " 205.5008619350548,\n",
       " 303.50456517005966,\n",
       " 273.22855484022665,\n",
       " 165.00983040508925,\n",
       " 155.53543725055158,\n",
       " 235.11476915375192,\n",
       " 155.53543725055158,\n",
       " 266.8703850671872,\n",
       " 208.1468841249943,\n",
       " 194.49072359650387,\n",
       " 187.59495835545334,\n",
       " 167.4189071800002,\n",
       " 256.7334434049586,\n",
       " 210.3717693342148,\n",
       " 167.39632305784187,\n",
       " 167.402257420217,\n",
       " 179.45455996991177,\n",
       " 155.53543725055158,\n",
       " 191.50996427197526,\n",
       " 210.62968115654218,\n",
       " 155.53543725055158,\n",
       " 232.53242968169843]"
      ]
     },
     "execution_count": 13,
     "metadata": {},
     "output_type": "execute_result"
    }
   ],
   "source": [
    "sem_distances"
   ]
  },
  {
   "cell_type": "code",
   "execution_count": 14,
   "metadata": {},
   "outputs": [
    {
     "data": {
      "text/plain": [
       "155.53543725055158"
      ]
     },
     "execution_count": 14,
     "metadata": {},
     "output_type": "execute_result"
    }
   ],
   "source": [
    "min(sem_distances)"
   ]
  },
  {
   "cell_type": "code",
   "execution_count": 15,
   "metadata": {},
   "outputs": [
    {
     "data": {
      "text/plain": [
       "303.50456517005966"
      ]
     },
     "execution_count": 15,
     "metadata": {},
     "output_type": "execute_result"
    }
   ],
   "source": [
    "max(sem_distances)"
   ]
  },
  {
   "cell_type": "code",
   "execution_count": 16,
   "metadata": {},
   "outputs": [
    {
     "name": "stdout",
     "output_type": "stream",
     "text": [
      "../models/french_novels/balzac/separate/with_accents_lemmatized/Pierre Grassou - Honore de Balzac/model_w2v_sg_w10_mincount5_ep/model_w2v_sg_w10_mincount5_ep.model:\t\t178.15565197983221\n",
      "\n",
      "\n",
      "../models/french_novels/balzac/separate/with_accents_lemmatized/Gobseck - Honore de Balzac/model_w2v_sg_w10_mincount5_ep/model_w2v_sg_w10_mincount5_ep.model:\t\t198.32978126641632\n",
      "\n",
      "\n",
      "../models/french_novels/balzac/separate/with_accents_lemmatized/Le Contrat de mariage - Honore de Balzac/model_w2v_sg_w10_mincount5_ep/model_w2v_sg_w10_mincount5_ep.model:\t\t225.9339974507185\n",
      "\n",
      "\n",
      "../models/french_novels/balzac/separate/with_accents_lemmatized/Une double famille - Honore de Balzac/model_w2v_sg_w10_mincount5_ep/model_w2v_sg_w10_mincount5_ep.model:\t\t195.97721193450593\n",
      "\n",
      "\n",
      "../models/french_novels/balzac/separate/with_accents_lemmatized/Le Message - Honore de Balzac/model_w2v_sg_w10_mincount5_ep/model_w2v_sg_w10_mincount5_ep.model:\t\t155.53543725055158\n",
      "\n",
      "\n",
      "../models/french_novels/balzac/separate/with_accents_lemmatized/La Muse du departement - Honore de Balzac/model_w2v_sg_w10_mincount5_ep/model_w2v_sg_w10_mincount5_ep.model:\t\t232.33392770750297\n",
      "\n",
      "\n",
      "../models/french_novels/balzac/separate/with_accents_lemmatized/Les Marana - Honore de Balzac/model_w2v_sg_w10_mincount5_ep/model_w2v_sg_w10_mincount5_ep.model:\t\t179.42286654773716\n",
      "\n",
      "\n",
      "../models/french_novels/balzac/separate/with_accents_lemmatized/Albert Savarus - Honore de Balzac/model_w2v_sg_w10_mincount5_ep/model_w2v_sg_w10_mincount5_ep.model:\t\t176.94266182596246\n",
      "\n",
      "\n",
      "../models/french_novels/balzac/separate/with_accents_lemmatized/La derniere incarnation de Vautrin - Honore de Balzac/model_w2v_sg_w10_mincount5_ep/model_w2v_sg_w10_mincount5_ep.model:\t\t204.15205348158491\n",
      "\n",
      "\n",
      "../models/french_novels/balzac/separate/with_accents_lemmatized/Autre etude de femme - Honore de Balzac/model_w2v_sg_w10_mincount5_ep/model_w2v_sg_w10_mincount5_ep.model:\t\t155.53543725055158\n",
      "\n",
      "\n",
      "../models/french_novels/balzac/separate/with_accents_lemmatized/Esquisse d'homme d'affaires d'apres nature - Honore de Balzac/model_w2v_sg_w10_mincount5_ep/model_w2v_sg_w10_mincount5_ep.model:\t\t170.1129818598861\n",
      "\n",
      "\n",
      "../models/french_novels/balzac/separate/with_accents_lemmatized/La Vieille Fille - Honore de Balzac/model_w2v_sg_w10_mincount5_ep/model_w2v_sg_w10_mincount5_ep.model:\t\t228.27284320588294\n",
      "\n",
      "\n",
      "../models/french_novels/balzac/separate/with_accents_lemmatized/Un drame au bord de la mer - Honore de Balzac/model_w2v_sg_w10_mincount5_ep/model_w2v_sg_w10_mincount5_ep.model:\t\t167.39841331288807\n",
      "\n",
      "\n",
      "../models/french_novels/balzac/separate/with_accents_lemmatized/Le Colonel Chabert - Honore de Balzac/model_w2v_sg_w10_mincount5_ep/model_w2v_sg_w10_mincount5_ep.model:\t\t190.25761429934505\n",
      "\n",
      "\n",
      "../models/french_novels/balzac/separate/with_accents_lemmatized/Illusions perdues - Honore de Balzac/model_w2v_sg_w10_mincount5_ep/model_w2v_sg_w10_mincount5_ep.model:\t\t267.79322177624294\n",
      "\n",
      "\n",
      "../models/french_novels/balzac/separate/with_accents_lemmatized/La grande Breteche - Honore de Balzac/model_w2v_sg_w10_mincount5_ep/model_w2v_sg_w10_mincount5_ep.model:\t\t167.39134424803066\n",
      "\n",
      "\n",
      "../models/french_novels/balzac/separate/with_accents_lemmatized/Etude de femme - Honore de Balzac/model_w2v_sg_w10_mincount5_ep/model_w2v_sg_w10_mincount5_ep.model:\t\t155.53543725055158\n",
      "\n",
      "\n",
      "../models/french_novels/balzac/separate/with_accents_lemmatized/Pierrette - Honore de Balzac/model_w2v_sg_w10_mincount5_ep/model_w2v_sg_w10_mincount5_ep.model:\t\t201.9526369627704\n",
      "\n",
      "\n",
      "../models/french_novels/balzac/separate/with_accents_lemmatized/Ferragus - Honore de Balzac/model_w2v_sg_w10_mincount5_ep/model_w2v_sg_w10_mincount5_ep.model:\t\t202.74274984433347\n",
      "\n",
      "\n",
      "../models/french_novels/balzac/separate/with_accents_lemmatized/Beatrix - Honore de Balzac/model_w2v_sg_w10_mincount5_ep/model_w2v_sg_w10_mincount5_ep.model:\t\t234.84570974872398\n",
      "\n",
      "\n",
      "../models/french_novels/balzac/separate/with_accents_lemmatized/Jesus-Christ en Flandre - Honore de Balzac/model_w2v_sg_w10_mincount5_ep/model_w2v_sg_w10_mincount5_ep.model:\t\t155.53543725055158\n",
      "\n",
      "\n",
      "../models/french_novels/balzac/separate/with_accents_lemmatized/La Duchesse de Langeais - Honore de Balzac/model_w2v_sg_w10_mincount5_ep/model_w2v_sg_w10_mincount5_ep.model:\t\t194.53511119691842\n",
      "\n",
      "\n",
      "../models/french_novels/balzac/separate/with_accents_lemmatized/Ou menent les mauvais chemins - Honore de Balzac/model_w2v_sg_w10_mincount5_ep/model_w2v_sg_w10_mincount5_ep.model:\t\t191.56893428579627\n",
      "\n",
      "\n",
      "../models/french_novels/balzac/separate/with_accents_lemmatized/La Femme abandonnee - Honore de Balzac/model_w2v_sg_w10_mincount5_ep/model_w2v_sg_w10_mincount5_ep.model:\t\t166.20833275910275\n",
      "\n",
      "\n",
      "../models/french_novels/balzac/separate/with_accents_lemmatized/Sur Catherine de Medicis - Honore de Balzac/model_w2v_sg_w10_mincount5_ep/model_w2v_sg_w10_mincount5_ep.model:\t\t217.7682170977569\n",
      "\n",
      "\n",
      "../models/french_novels/balzac/separate/with_accents_lemmatized/La Recherche de l'Absolu - Honore de Balzac/model_w2v_sg_w10_mincount5_ep/model_w2v_sg_w10_mincount5_ep.model:\t\t203.31878636270267\n",
      "\n",
      "\n",
      "../models/french_novels/balzac/separate/with_accents_lemmatized/Une fille d'Eve - Honore de Balzac/model_w2v_sg_w10_mincount5_ep/model_w2v_sg_w10_mincount5_ep.model:\t\t231.54035536916507\n",
      "\n",
      "\n",
      "../models/french_novels/balzac/separate/with_accents_lemmatized/Le Lys dans la vallee - Honore de Balzac/model_w2v_sg_w10_mincount5_ep/model_w2v_sg_w10_mincount5_ep.model:\t\t217.8576526956044\n",
      "\n",
      "\n",
      "../models/french_novels/balzac/separate/with_accents_lemmatized/Louis Lambert - Honore de Balzac/model_w2v_sg_w10_mincount5_ep/model_w2v_sg_w10_mincount5_ep.model:\t\t167.40207489949546\n",
      "\n",
      "\n",
      "../models/french_novels/balzac/separate/with_accents_lemmatized/Eugenie Grandet - Honore de Balzac/model_w2v_sg_w10_mincount5_ep/model_w2v_sg_w10_mincount5_ep.model:\t\t270.25773966566396\n",
      "\n",
      "\n",
      "../models/french_novels/balzac/separate/with_accents_lemmatized/Le Bal de Sceaux - Honore de Balzac/model_w2v_sg_w10_mincount5_ep/model_w2v_sg_w10_mincount5_ep.model:\t\t201.45234331243546\n",
      "\n",
      "\n",
      "../models/french_novels/balzac/separate/with_accents_lemmatized/Petites miseres de la vie conjugale - Honore de Balzac/model_w2v_sg_w10_mincount5_ep/model_w2v_sg_w10_mincount5_ep.model:\t\t234.22841574982172\n",
      "\n",
      "\n",
      "../models/french_novels/balzac/separate/with_accents_lemmatized/L'auberge rouge - Honore de Balzac/model_w2v_sg_w10_mincount5_ep/model_w2v_sg_w10_mincount5_ep.model:\t\t178.21396677211837\n",
      "\n",
      "\n",
      "../models/french_novels/balzac/separate/with_accents_lemmatized/Seraphita - Honore de Balzac/model_w2v_sg_w10_mincount5_ep/model_w2v_sg_w10_mincount5_ep.model:\t\t155.53543725055158\n",
      "\n",
      "\n",
      "../models/french_novels/balzac/separate/with_accents_lemmatized/Un menage de garcon - Honore de Balzac/model_w2v_sg_w10_mincount5_ep/model_w2v_sg_w10_mincount5_ep.model:\t\t223.020673995682\n",
      "\n",
      "\n",
      "../models/french_novels/balzac/separate/with_accents_lemmatized/Les Chouans - Honore de Balzac/model_w2v_sg_w10_mincount5_ep/model_w2v_sg_w10_mincount5_ep.model:\t\t214.9159933133422\n",
      "\n",
      "\n",
      "../models/french_novels/balzac/separate/with_accents_lemmatized/Un grand homme de province a Paris - Honore de Balzac/model_w2v_sg_w10_mincount5_ep/model_w2v_sg_w10_mincount5_ep.model:\t\t239.45742347323\n",
      "\n",
      "\n",
      "../models/french_novels/balzac/separate/with_accents_lemmatized/La Maison Nucingen - Honore de Balzac/model_w2v_sg_w10_mincount5_ep/model_w2v_sg_w10_mincount5_ep.model:\t\t226.3128276460264\n",
      "\n",
      "\n",
      "../models/french_novels/balzac/separate/with_accents_lemmatized/Histoire de la grandeur et de la decadence - Honore de Balzac/model_w2v_sg_w10_mincount5_ep/model_w2v_sg_w10_mincount5_ep.model:\t\t263.8353560990076\n",
      "\n",
      "\n",
      "../models/french_novels/balzac/separate/with_accents_lemmatized/Un prince de la Boheme - Honore de Balzac/model_w2v_sg_w10_mincount5_ep/model_w2v_sg_w10_mincount5_ep.model:\t\t165.0153797505286\n",
      "\n",
      "\n",
      "../models/french_novels/balzac/separate/with_accents_lemmatized/Un debut dans la vie - Honore de Balzac/model_w2v_sg_w10_mincount5_ep/model_w2v_sg_w10_mincount5_ep.model:\t\t226.10709464852252\n",
      "\n",
      "\n",
      "../models/french_novels/balzac/separate/with_accents_lemmatized/Sarrasine - Honore de Balzac/model_w2v_sg_w10_mincount5_ep/model_w2v_sg_w10_mincount5_ep.model:\t\t155.53543725055158\n",
      "\n",
      "\n",
      "../models/french_novels/balzac/separate/with_accents_lemmatized/Les Paysans - Honore de Balzac/model_w2v_sg_w10_mincount5_ep/model_w2v_sg_w10_mincount5_ep.model:\t\t256.8658368799035\n",
      "\n",
      "\n",
      "../models/french_novels/balzac/separate/with_accents_lemmatized/Melmoth reconcilie - Honore de Balzac/model_w2v_sg_w10_mincount5_ep/model_w2v_sg_w10_mincount5_ep.model:\t\t209.27774548485627\n",
      "\n",
      "\n",
      "../models/french_novels/balzac/separate/with_accents_lemmatized/Les secrets de la princesse de Cadignan - Honore de Balzac/model_w2v_sg_w10_mincount5_ep/model_w2v_sg_w10_mincount5_ep.model:\t\t166.21901573170146\n",
      "\n",
      "\n",
      "../models/french_novels/balzac/separate/with_accents_lemmatized/L'interdiction - Honore de Balzac/model_w2v_sg_w10_mincount5_ep/model_w2v_sg_w10_mincount5_ep.model:\t\t220.14895972683522\n",
      "\n",
      "\n",
      "../models/french_novels/balzac/separate/with_accents_lemmatized/El Verdugo - Honore de Balzac/model_w2v_sg_w10_mincount5_ep/model_w2v_sg_w10_mincount5_ep.model:\t\t155.53543725055158\n",
      "\n",
      "\n",
      "../models/french_novels/balzac/separate/with_accents_lemmatized/Maitre Cornelius - Honore de Balzac/model_w2v_sg_w10_mincount5_ep/model_w2v_sg_w10_mincount5_ep.model:\t\t178.12615657492557\n",
      "\n",
      "\n",
      "../models/french_novels/balzac/separate/with_accents_lemmatized/La Messe de l'athee - Honore de Balzac/model_w2v_sg_w10_mincount5_ep/model_w2v_sg_w10_mincount5_ep.model:\t\t180.6880302946424\n",
      "\n",
      "\n",
      "../models/french_novels/balzac/separate/with_accents_lemmatized/Le Cabinet des Antiques - Honore de Balzac/model_w2v_sg_w10_mincount5_ep/model_w2v_sg_w10_mincount5_ep.model:\t\t260.2230034639017\n",
      "\n",
      "\n",
      "../models/french_novels/balzac/separate/with_accents_lemmatized/Avant-propos - Honore de Balzac/model_w2v_sg_w10_mincount5_ep/model_w2v_sg_w10_mincount5_ep.model:\t\t155.53543725055158\n",
      "\n",
      "\n",
      "../models/french_novels/balzac/separate/with_accents_lemmatized/La Paix du menage - Honore de Balzac/model_w2v_sg_w10_mincount5_ep/model_w2v_sg_w10_mincount5_ep.model:\t\t155.53543725055158\n",
      "\n",
      "\n",
      "../models/french_novels/balzac/separate/with_accents_lemmatized/L'envers de l'histoire contemporaine - Honore de Balzac/model_w2v_sg_w10_mincount5_ep/model_w2v_sg_w10_mincount5_ep.model:\t\t262.7241621910268\n",
      "\n",
      "\n",
      "../models/french_novels/balzac/separate/with_accents_lemmatized/La Grenadiere - Honore de Balzac/model_w2v_sg_w10_mincount5_ep/model_w2v_sg_w10_mincount5_ep.model:\t\t167.4192120534845\n",
      "\n",
      "\n",
      "../models/french_novels/balzac/separate/with_accents_lemmatized/Gambara - Honore de Balzac/model_w2v_sg_w10_mincount5_ep/model_w2v_sg_w10_mincount5_ep.model:\t\t167.39668282279186\n",
      "\n",
      "\n",
      "../models/french_novels/balzac/separate/with_accents_lemmatized/Le Cure de village - Honore de Balzac/model_w2v_sg_w10_mincount5_ep/model_w2v_sg_w10_mincount5_ep.model:\t\t227.06765074114756\n",
      "\n",
      "\n",
      "../models/french_novels/balzac/separate/with_accents_lemmatized/Le Cure de Tours - Honore de Balzac/model_w2v_sg_w10_mincount5_ep/model_w2v_sg_w10_mincount5_ep.model:\t\t167.39785660099128\n",
      "\n",
      "\n",
      "../models/french_novels/balzac/separate/with_accents_lemmatized/Les deux poetes - Honore de Balzac/model_w2v_sg_w10_mincount5_ep/model_w2v_sg_w10_mincount5_ep.model:\t\t194.28138816011028\n",
      "\n",
      "\n",
      "../models/french_novels/balzac/separate/with_accents_lemmatized/La Peau de chagrin - Honore de Balzac/model_w2v_sg_w10_mincount5_ep/model_w2v_sg_w10_mincount5_ep.model:\t\t253.3560208675544\n",
      "\n",
      "\n",
      "../models/french_novels/balzac/separate/with_accents_lemmatized/Les paysans - Honore de Balzac/model_w2v_sg_w10_mincount5_ep/model_w2v_sg_w10_mincount5_ep.model:\t\t260.80456348323366\n",
      "\n",
      "\n",
      "../models/french_novels/balzac/separate/with_accents_lemmatized/Une tenebreuse affaire - Honore de Balzac/model_w2v_sg_w10_mincount5_ep/model_w2v_sg_w10_mincount5_ep.model:\t\t215.98162641626152\n",
      "\n",
      "\n",
      "../models/french_novels/balzac/separate/with_accents_lemmatized/Modeste Mignon - Honore de Balzac/model_w2v_sg_w10_mincount5_ep/model_w2v_sg_w10_mincount5_ep.model:\t\t250.4726430909123\n",
      "\n",
      "\n",
      "../models/french_novels/balzac/separate/with_accents_lemmatized/Ursule Mirouet - Honore de Balzac/model_w2v_sg_w10_mincount5_ep/model_w2v_sg_w10_mincount5_ep.model:\t\t202.6506575920399\n",
      "\n",
      "\n",
      "../models/french_novels/balzac/separate/with_accents_lemmatized/Un episode sous la terreur - Honore de Balzac/model_w2v_sg_w10_mincount5_ep/model_w2v_sg_w10_mincount5_ep.model:\t\t155.53543725055158\n",
      "\n",
      "\n",
      "../models/french_novels/balzac/separate/with_accents_lemmatized/Honorine - Honore de Balzac/model_w2v_sg_w10_mincount5_ep/model_w2v_sg_w10_mincount5_ep.model:\t\t184.83187315459062\n",
      "\n",
      "\n",
      "../models/french_novels/balzac/separate/with_accents_lemmatized/Le pere Goriot - Honore de Balzac/model_w2v_sg_w10_mincount5_ep/model_w2v_sg_w10_mincount5_ep.model:\t\t253.52191102643587\n",
      "\n",
      "\n",
      "../models/french_novels/balzac/separate/with_accents_lemmatized/Facino Cane - Honore de Balzac/model_w2v_sg_w10_mincount5_ep/model_w2v_sg_w10_mincount5_ep.model:\t\t167.4028874279422\n",
      "\n",
      "\n",
      "../models/french_novels/balzac/separate/with_accents_lemmatized/Physiologie du mariage - Honore de Balzac/model_w2v_sg_w10_mincount5_ep/model_w2v_sg_w10_mincount5_ep.model:\t\t251.86009479083683\n",
      "\n",
      "\n",
      "../models/french_novels/balzac/separate/with_accents_lemmatized/Les employes ou la femme superieure - Honore de Balzac/model_w2v_sg_w10_mincount5_ep/model_w2v_sg_w10_mincount5_ep.model:\t\t272.99334642772595\n",
      "\n",
      "\n",
      "../models/french_novels/balzac/separate/with_accents_lemmatized/Les proscrits - Honore de Balzac/model_w2v_sg_w10_mincount5_ep/model_w2v_sg_w10_mincount5_ep.model:\t\t155.53543725055158\n",
      "\n",
      "\n",
      "../models/french_novels/balzac/separate/with_accents_lemmatized/La Fausse Maitresse - Honore de Balzac/model_w2v_sg_w10_mincount5_ep/model_w2v_sg_w10_mincount5_ep.model:\t\t178.1460467049983\n",
      "\n",
      "\n",
      "../models/french_novels/balzac/separate/with_accents_lemmatized/Massimilla Doni - Honore de Balzac/model_w2v_sg_w10_mincount5_ep/model_w2v_sg_w10_mincount5_ep.model:\t\t167.40193042427356\n",
      "\n",
      "\n",
      "../models/french_novels/balzac/separate/with_accents_lemmatized/Le Medecin de campagne - Honore de Balzac/model_w2v_sg_w10_mincount5_ep/model_w2v_sg_w10_mincount5_ep.model:\t\t205.5008619350548\n",
      "\n",
      "\n",
      "../models/french_novels/balzac/separate/with_accents_lemmatized/CODE DES GENS HONNETES (ou L'art de ne pas - Honore de Balzac/model_w2v_sg_w10_mincount5_ep/model_w2v_sg_w10_mincount5_ep.model:\t\t303.50456517005966\n",
      "\n",
      "\n",
      "../models/french_novels/balzac/separate/with_accents_lemmatized/Le cousin Pons - Honore de Balzac/model_w2v_sg_w10_mincount5_ep/model_w2v_sg_w10_mincount5_ep.model:\t\t273.22855484022665\n",
      "\n",
      "\n",
      "../models/french_novels/balzac/separate/with_accents_lemmatized/Madame Firmiani - Honore de Balzac/model_w2v_sg_w10_mincount5_ep/model_w2v_sg_w10_mincount5_ep.model:\t\t165.00983040508925\n",
      "\n",
      "\n",
      "../models/french_novels/balzac/separate/with_accents_lemmatized/Le Requisitionnaire - Honore de Balzac/model_w2v_sg_w10_mincount5_ep/model_w2v_sg_w10_mincount5_ep.model:\t\t155.53543725055158\n",
      "\n",
      "\n",
      "../models/french_novels/balzac/separate/with_accents_lemmatized/A combien l'amour revient aux vieillards - Honore de Balzac/model_w2v_sg_w10_mincount5_ep/model_w2v_sg_w10_mincount5_ep.model:\t\t235.11476915375192\n",
      "\n",
      "\n",
      "../models/french_novels/balzac/separate/with_accents_lemmatized/Le Chef-d'oeuvre inconnu - Honore de Balzac/model_w2v_sg_w10_mincount5_ep/model_w2v_sg_w10_mincount5_ep.model:\t\t155.53543725055158\n",
      "\n",
      "\n",
      "../models/french_novels/balzac/separate/with_accents_lemmatized/Eve et David - Honore de Balzac/model_w2v_sg_w10_mincount5_ep/model_w2v_sg_w10_mincount5_ep.model:\t\t266.8703850671872\n",
      "\n",
      "\n",
      "../models/french_novels/balzac/separate/with_accents_lemmatized/La Femme de trente ans - Honore de Balzac/model_w2v_sg_w10_mincount5_ep/model_w2v_sg_w10_mincount5_ep.model:\t\t208.1468841249943\n",
      "\n",
      "\n",
      "../models/french_novels/balzac/separate/with_accents_lemmatized/La Fille aux yeux d'or - Honore de Balzac/model_w2v_sg_w10_mincount5_ep/model_w2v_sg_w10_mincount5_ep.model:\t\t194.49072359650387\n",
      "\n",
      "\n",
      "../models/french_novels/balzac/separate/with_accents_lemmatized/Les Comediens sans le savoir - Honore de Balzac/model_w2v_sg_w10_mincount5_ep/model_w2v_sg_w10_mincount5_ep.model:\t\t187.59495835545334\n",
      "\n",
      "\n",
      "../models/french_novels/balzac/separate/with_accents_lemmatized/La Vendetta - Honore de Balzac/model_w2v_sg_w10_mincount5_ep/model_w2v_sg_w10_mincount5_ep.model:\t\t167.4189071800002\n",
      "\n",
      "\n",
      "../models/french_novels/balzac/separate/with_accents_lemmatized/La Cousine Bette - Honore de Balzac/model_w2v_sg_w10_mincount5_ep/model_w2v_sg_w10_mincount5_ep.model:\t\t256.7334434049586\n",
      "\n",
      "\n",
      "../models/french_novels/balzac/separate/with_accents_lemmatized/L'illustre Gaudissart - Honore de Balzac/model_w2v_sg_w10_mincount5_ep/model_w2v_sg_w10_mincount5_ep.model:\t\t210.3717693342148\n",
      "\n",
      "\n",
      "../models/french_novels/balzac/separate/with_accents_lemmatized/Gaudissart II - Honore de Balzac/model_w2v_sg_w10_mincount5_ep/model_w2v_sg_w10_mincount5_ep.model:\t\t167.39632305784187\n",
      "\n",
      "\n",
      "../models/french_novels/balzac/separate/with_accents_lemmatized/L'enfant maudit - Honore de Balzac/model_w2v_sg_w10_mincount5_ep/model_w2v_sg_w10_mincount5_ep.model:\t\t167.402257420217\n",
      "\n",
      "\n",
      "../models/french_novels/balzac/separate/with_accents_lemmatized/Z. Marcas - Honore de Balzac/model_w2v_sg_w10_mincount5_ep/model_w2v_sg_w10_mincount5_ep.model:\t\t179.45455996991177\n",
      "\n",
      "\n",
      "../models/french_novels/balzac/separate/with_accents_lemmatized/Une passion dans le desert - Honore de Balzac/model_w2v_sg_w10_mincount5_ep/model_w2v_sg_w10_mincount5_ep.model:\t\t155.53543725055158\n",
      "\n",
      "\n",
      "../models/french_novels/balzac/separate/with_accents_lemmatized/La maison du chat-qui-pelote - Honore de Balzac/model_w2v_sg_w10_mincount5_ep/model_w2v_sg_w10_mincount5_ep.model:\t\t191.50996427197526\n",
      "\n",
      "\n",
      "../models/french_novels/balzac/separate/with_accents_lemmatized/Memoires de deux jeunes mariees - Honore de Balzac/model_w2v_sg_w10_mincount5_ep/model_w2v_sg_w10_mincount5_ep.model:\t\t210.62968115654218\n",
      "\n",
      "\n",
      "../models/french_novels/balzac/separate/with_accents_lemmatized/L'Elixir de longue vie - Honore de Balzac/model_w2v_sg_w10_mincount5_ep/model_w2v_sg_w10_mincount5_ep.model:\t\t155.53543725055158\n",
      "\n",
      "\n",
      "../models/french_novels/balzac/separate/with_accents_lemmatized/Esther heureuse - Honore de Balzac/model_w2v_sg_w10_mincount5_ep/model_w2v_sg_w10_mincount5_ep.model:\t\t232.53242968169843\n",
      "\n",
      "\n"
     ]
    }
   ],
   "source": [
    "for i in range(len(sem_graphs)):\n",
    "    print(\"{}:\\t\\t{}\\n\\n\".format(model_paths[i], sem_distances[i]))"
   ]
  },
  {
   "cell_type": "markdown",
   "metadata": {},
   "source": [
    "**Calculate matrix of distances.**\n",
    "\n",
    "The first semgraph is the base, relative one."
   ]
  },
  {
   "cell_type": "code",
   "execution_count": 17,
   "metadata": {},
   "outputs": [
    {
     "name": "stderr",
     "output_type": "stream",
     "text": [
      "100%|██████████| 95/95 [05:50<00:00,  3.69s/it]\n",
      "95it [05:43,  3.61s/it]\n"
     ]
    }
   ],
   "source": [
    "all_semgraphs = [augmented_full_sem_graph] + augmented_sem_graphs\n",
    "semantic_distance_matrix = SemGraph.get_relative_semantic_distance_matrix(all_semgraphs,\n",
    "                                                                          reset=True,\n",
    "                                                                          num_iterations=NUM_ITERATIONS,\n",
    "                                                                          discount_function=DISCOUNT_FUNCTION,\n",
    "                                                                          normalize=NORMALIZE)"
   ]
  },
  {
   "cell_type": "code",
   "execution_count": 18,
   "metadata": {},
   "outputs": [],
   "source": [
    "#semantic_distance_matrix"
   ]
  },
  {
   "cell_type": "code",
   "execution_count": null,
   "metadata": {},
   "outputs": [],
   "source": []
  },
  {
   "cell_type": "code",
   "execution_count": null,
   "metadata": {},
   "outputs": [],
   "source": []
  },
  {
   "cell_type": "code",
   "execution_count": 19,
   "metadata": {},
   "outputs": [],
   "source": [
    "import matplotlib.pyplot as plt\n",
    "import seaborn as sns"
   ]
  },
  {
   "cell_type": "code",
   "execution_count": 20,
   "metadata": {},
   "outputs": [],
   "source": [
    "#sns.set_theme(style=\"whitegrid\")"
   ]
  },
  {
   "cell_type": "code",
   "execution_count": 21,
   "metadata": {},
   "outputs": [
    {
     "data": {
      "image/png": "[encoded data removed]",
      "text/plain": [
       "<Figure size 1584x1296 with 2 Axes>"
      ]
     },
     "metadata": {
      "needs_background": "light"
     },
     "output_type": "display_data"
    }
   ],
   "source": [
    "# Set up the matplotlib figure\n",
    "f, ax = plt.subplots(figsize=(22, 18))\n",
    "\n",
    "# Generate a custom diverging colormap\n",
    "cmap = sns.diverging_palette(230, 20, as_cmap=True)\n",
    "cmap=\"coolwarm\"\n",
    "cmap=\"cool\"\n",
    "cmap=\"gray_r\"\n",
    "\n",
    "\n",
    "#g = sns.heatmap(semantic_distance_matrix, cmap=cmap, vmax=.3, center=0,\n",
    "#            square=True, linewidths=.5, cbar_kws={\"shrink\": .5})\n",
    "g = sns.heatmap(semantic_distance_matrix, \n",
    "                cmap=cmap, \n",
    "                square=True, \n",
    "                linewidths=.5, \n",
    "                cbar_kws={\"shrink\": .5}\n",
    "               )"
   ]
  },
  {
   "cell_type": "code",
   "execution_count": 42,
   "metadata": {},
   "outputs": [],
   "source": [
    "condensed_semantic_distance_vector = []\n",
    "for i in range(1, semantic_distance_matrix.shape[0]):\n",
    "    for j in range(i+1, semantic_distance_matrix.shape[0]):\n",
    "        condensed_semantic_distance_vector.append(semantic_distance_matrix[i,j])"
   ]
  },
  {
   "cell_type": "code",
   "execution_count": 45,
   "metadata": {},
   "outputs": [
    {
     "data": {
      "text/plain": [
       "array([  0.        , 178.15565198, 198.32978127, 225.93399745,\n",
       "       195.97721193, 155.53543725, 232.33392771, 179.42286655,\n",
       "       176.94266183, 204.15205348, 155.53543725, 170.11298186,\n",
       "       228.27284321, 167.39841331, 190.2576143 , 267.79322178,\n",
       "       167.39134425, 155.53543725, 201.95263696, 202.74274984,\n",
       "       234.84570975, 155.53543725, 194.5351112 , 191.56893429,\n",
       "       166.20833276, 217.7682171 , 203.31878636, 231.54035537,\n",
       "       217.8576527 , 167.4020749 , 270.25773967, 201.45234331,\n",
       "       234.22841575, 178.21396677, 155.53543725, 223.020674  ,\n",
       "       214.91599331, 239.45742347, 226.31282765, 263.8353561 ,\n",
       "       165.01537975, 226.10709465, 155.53543725, 256.86583688,\n",
       "       209.27774548, 166.21901573, 220.14895973, 155.53543725,\n",
       "       178.12615657, 180.68803029, 260.22300346, 155.53543725,\n",
       "       155.53543725, 262.72416219, 167.41921205, 167.39668282,\n",
       "       227.06765074, 167.3978566 , 194.28138816, 253.35602087,\n",
       "       260.80456348, 215.98162642, 250.47264309, 202.65065759,\n",
       "       155.53543725, 184.83187315, 253.52191103, 167.40288743,\n",
       "       251.86009479, 272.99334643, 155.53543725, 178.1460467 ,\n",
       "       167.40193042, 205.50086194, 303.50456517, 273.22855484,\n",
       "       165.00983041, 155.53543725, 235.11476915, 155.53543725,\n",
       "       266.87038507, 208.14688412, 194.4907236 , 187.59495836,\n",
       "       167.41890718, 256.7334434 , 210.37176933, 167.39632306,\n",
       "       167.40225742, 179.45455997, 155.53543725, 191.50996427,\n",
       "       210.62968116, 155.53543725, 232.53242968])"
      ]
     },
     "execution_count": 45,
     "metadata": {},
     "output_type": "execute_result"
    }
   ],
   "source": [
    "semantic_distance_matrix[0,:]"
   ]
  },
  {
   "cell_type": "code",
   "execution_count": 47,
   "metadata": {},
   "outputs": [
    {
     "data": {
      "text/plain": [
       "array([178.15565198,   0.        ,  69.06535112, 118.45880944,\n",
       "        69.12128241,  27.6111197 , 118.35197558,  50.27537456,\n",
       "        47.29351875,  79.97844737,  27.6111197 ,  48.93191465,\n",
       "       106.10156648,  39.51598836,  59.48814103, 179.22948817,\n",
       "        35.75201304,  27.6111197 ,  78.06906582,  74.58539566,\n",
       "       116.38716137,  27.6111197 ,  68.90476503,  63.70426726,\n",
       "        38.34627475,  93.58385297,  86.81032376, 111.51411406,\n",
       "        93.80315314,  39.5450047 , 165.28813801,  75.91379537,\n",
       "       108.84627679,  50.28086395,  27.6111197 , 107.4263208 ,\n",
       "        93.63364537, 125.29392777, 112.90191943, 186.21676129,\n",
       "        37.10780488, 104.70098974,  27.6111197 , 145.98583792,\n",
       "        81.35662073,  40.61263583,  95.05854182,  27.6111197 ,\n",
       "        50.30478667,  48.89137598, 143.29804494,  27.6111197 ,\n",
       "        27.6111197 , 150.01904826,  38.38086683,  39.51437901,\n",
       "       105.80086753,  35.75274493,  66.25945674, 132.24806155,\n",
       "       152.94617511,  92.35744819, 130.94787405,  97.89548835,\n",
       "        27.6111197 ,  52.6585621 , 135.01037088,  38.36587147,\n",
       "       130.82294447, 159.72569559,  27.6111197 ,  45.85705883,\n",
       "        39.54487692,  74.68918467, 201.35798776, 165.4055374 ,\n",
       "        37.11329444,  27.6111197 , 117.09794895,  27.6111197 ,\n",
       "       163.80974158,  82.60480491,  66.38715422,  56.47955694,\n",
       "        40.61243902, 162.56636626,  80.88294286,  38.35318036,\n",
       "        39.54516595,  51.62524526,  27.6111197 ,  63.67373492,\n",
       "        91.02250926,  27.6111197 , 114.32840443])"
      ]
     },
     "execution_count": 47,
     "metadata": {},
     "output_type": "execute_result"
    }
   ],
   "source": [
    "semantic_distance_matrix[1,:]"
   ]
  },
  {
   "cell_type": "code",
   "execution_count": 43,
   "metadata": {},
   "outputs": [],
   "source": [
    "#max(condensed_semantic_distance_vector)"
   ]
  },
  {
   "cell_type": "code",
   "execution_count": null,
   "metadata": {},
   "outputs": [],
   "source": []
  },
  {
   "cell_type": "markdown",
   "metadata": {},
   "source": [
    "**Hierarchical clustering**"
   ]
  },
  {
   "cell_type": "code",
   "execution_count": 44,
   "metadata": {},
   "outputs": [
    {
     "data": {
      "image/png": "[encoded data removed]",
      "text/plain": [
       "<Figure size 1440x1008 with 1 Axes>"
      ]
     },
     "metadata": {
      "needs_background": "light"
     },
     "output_type": "display_data"
    }
   ],
   "source": [
    "from scipy.cluster.hierarchy import dendrogram, linkage\n",
    "from matplotlib import pyplot as plt\n",
    "\n",
    "linked = linkage(condensed_semantic_distance_vector, 'single', optimal_ordering=False)\n",
    "\n",
    "#labelList = range(1, 11)\n",
    "\n",
    "plt.figure(figsize=(20, 14))\n",
    "dendrogram(linked,\n",
    "            orientation='top',\n",
    "#            labels=labelList,\n",
    "            distance_sort='descending',\n",
    "            show_leaf_counts=True)\n",
    "plt.show()"
   ]
  },
  {
   "cell_type": "code",
   "execution_count": 27,
   "metadata": {},
   "outputs": [],
   "source": [
    "?linkage"
   ]
  },
  {
   "cell_type": "code",
   "execution_count": null,
   "metadata": {},
   "outputs": [],
   "source": []
  },
  {
   "cell_type": "code",
   "execution_count": null,
   "metadata": {},
   "outputs": [],
   "source": []
  },
  {
   "cell_type": "code",
   "execution_count": null,
   "metadata": {},
   "outputs": [],
   "source": []
  },
  {
   "cell_type": "code",
   "execution_count": null,
   "metadata": {},
   "outputs": [],
   "source": []
  },
  {
   "cell_type": "code",
   "execution_count": null,
   "metadata": {},
   "outputs": [],
   "source": []
  },
  {
   "cell_type": "code",
   "execution_count": null,
   "metadata": {},
   "outputs": [],
   "source": []
  },
  {
   "cell_type": "code",
   "execution_count": null,
   "metadata": {},
   "outputs": [],
   "source": []
  },
  {
   "cell_type": "code",
   "execution_count": null,
   "metadata": {},
   "outputs": [],
   "source": []
  },
  {
   "cell_type": "code",
   "execution_count": 48,
   "metadata": {},
   "outputs": [
    {
     "data": {
      "image/png": "[encoded data removed]",
      "text/plain": [
       "<Figure size 1440x1008 with 1 Axes>"
      ]
     },
     "metadata": {
      "needs_background": "light"
     },
     "output_type": "display_data"
    }
   ],
   "source": [
    "import numpy as np\n",
    "\n",
    "linked = linkage(np.random.exponential(10, len(condensed_semantic_distance_vector)), 'single', optimal_ordering=False)\n",
    "\n",
    "#labelList = range(1, 11)\n",
    "\n",
    "plt.figure(figsize=(20, 14))\n",
    "dendrogram(linked,\n",
    "            orientation='top',\n",
    "#            labels=labelList,\n",
    "            distance_sort='descending',\n",
    "            show_leaf_counts=True)\n",
    "plt.show()"
   ]
  },
  {
   "cell_type": "code",
   "execution_count": null,
   "metadata": {},
   "outputs": [],
   "source": []
  },
  {
   "cell_type": "code",
   "execution_count": null,
   "metadata": {},
   "outputs": [],
   "source": []
  }
 ],
 "metadata": {
  "kernelspec": {
   "display_name": "Python 3",
   "language": "python",
   "name": "python3"
  },
  "language_info": {
   "codemirror_mode": {
    "name": "ipython",
    "version": 3
   },
   "file_extension": ".py",
   "mimetype": "text/x-python",
   "name": "python",
   "nbconvert_exporter": "python",
   "pygments_lexer": "ipython3",
   "version": "3.6.9"
  }
 },
 "nbformat": 4,
 "nbformat_minor": 4
}
