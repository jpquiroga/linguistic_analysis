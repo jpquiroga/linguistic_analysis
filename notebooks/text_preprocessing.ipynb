{
 "cells": [
  {
   "cell_type": "markdown",
   "metadata": {},
   "source": [
    "# Text pre-processing"
   ]
  },
  {
   "cell_type": "code",
   "execution_count": 1,
   "metadata": {},
   "outputs": [],
   "source": [
    "import os\n",
    "import sys\n"
   ]
  },
  {
   "cell_type": "code",
   "execution_count": 2,
   "metadata": {},
   "outputs": [],
   "source": [
    "PATHS_TO_ADD = [\n",
    "    \"../src\"\n",
    "]\n",
    "for p in PATHS_TO_ADD:\n",
    "    if p not in sys.path:\n",
    "        sys.path.append(p)"
   ]
  },
  {
   "cell_type": "code",
   "execution_count": 3,
   "metadata": {},
   "outputs": [],
   "source": [
    "from linguistic_analysis.text_preprocessing import TextPreprocessor"
   ]
  },
  {
   "cell_type": "code",
   "execution_count": 4,
   "metadata": {},
   "outputs": [],
   "source": [
    "NLTK_PATH = \"/home/wotan/nltk_data\"\n",
    "LANGUAGES = [\"french\"]\n",
    "\n",
    "text_prep = TextPreprocessor(NLTK_PATH, LANGUAGES)"
   ]
  },
  {
   "cell_type": "code",
   "execution_count": 5,
   "metadata": {},
   "outputs": [],
   "source": [
    "test_text = \"\"\"--Au train dont y va cet homme, nos filles ne tarderont pas à se mettre\n",
    "à genoux devant un prétendu! se dit monsieur Guillaume en lisant le\n",
    "premier décret par lequel Napoléon anticipa sur les classes de\n",
    "conscrits.\"\"\"\n"
   ]
  },
  {
   "cell_type": "markdown",
   "metadata": {},
   "source": [
    "### Normalize text"
   ]
  },
  {
   "cell_type": "code",
   "execution_count": 6,
   "metadata": {},
   "outputs": [
    {
     "data": {
      "text/plain": [
       "'  au train dont y va cet homme  nos filles ne tarderont pas a se mettre a genoux devant un pretendu  se dit monsieur guillaume en lisant le premier decret par lequel napoleon anticipa sur les classes de conscrits '"
      ]
     },
     "execution_count": 6,
     "metadata": {},
     "output_type": "execute_result"
    }
   ],
   "source": [
    "text_prep.normalize(test_text)"
   ]
  },
  {
   "cell_type": "code",
   "execution_count": null,
   "metadata": {},
   "outputs": [],
   "source": []
  },
  {
   "cell_type": "code",
   "execution_count": 7,
   "metadata": {},
   "outputs": [
    {
     "data": {
      "text/plain": [
       "['au',\n",
       " 'train',\n",
       " 'dont',\n",
       " 'y',\n",
       " 'va',\n",
       " 'cet',\n",
       " 'homme',\n",
       " 'nos',\n",
       " 'filles',\n",
       " 'ne',\n",
       " 'tarderont',\n",
       " 'pas',\n",
       " 'a',\n",
       " 'se',\n",
       " 'mettre',\n",
       " 'a',\n",
       " 'genoux',\n",
       " 'devant',\n",
       " 'un',\n",
       " 'pretendu',\n",
       " 'se',\n",
       " 'dit',\n",
       " 'monsieur',\n",
       " 'guillaume',\n",
       " 'en',\n",
       " 'lisant',\n",
       " 'le',\n",
       " 'premier',\n",
       " 'decret',\n",
       " 'par',\n",
       " 'lequel',\n",
       " 'napoleon',\n",
       " 'anticipa',\n",
       " 'sur',\n",
       " 'les',\n",
       " 'classes',\n",
       " 'de',\n",
       " 'conscrits']"
      ]
     },
     "execution_count": 7,
     "metadata": {},
     "output_type": "execute_result"
    }
   ],
   "source": [
    "text_prep.preprocess_text(test_text)"
   ]
  },
  {
   "cell_type": "code",
   "execution_count": null,
   "metadata": {},
   "outputs": [],
   "source": []
  },
  {
   "cell_type": "code",
   "execution_count": null,
   "metadata": {},
   "outputs": [],
   "source": []
  }
 ],
 "metadata": {
  "kernelspec": {
   "display_name": "Python 3",
   "language": "python",
   "name": "python3"
  },
  "language_info": {
   "codemirror_mode": {
    "name": "ipython",
    "version": 3
   },
   "file_extension": ".py",
   "mimetype": "text/x-python",
   "name": "python",
   "nbconvert_exporter": "python",
   "pygments_lexer": "ipython3",
   "version": "3.6.9"
  }
 },
 "nbformat": 4,
 "nbformat_minor": 4
}
